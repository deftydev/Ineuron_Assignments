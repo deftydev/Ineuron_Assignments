{
  "nbformat": 4,
  "nbformat_minor": 0,
  "metadata": {
    "colab": {
      "provenance": []
    },
    "kernelspec": {
      "name": "python3",
      "display_name": "Python 3"
    },
    "language_info": {
      "name": "python"
    }
  },
  "cells": [
    {
      "cell_type": "code",
      "execution_count": null,
      "metadata": {
        "id": "cYE_HiV6k_wZ"
      },
      "outputs": [],
      "source": []
    },
    {
      "cell_type": "markdown",
      "source": [
        "1. What is your definition of clustering? What are a few clustering algorithms you might think of?\n",
        "\n",
        "Clustering simply means to group similar kind of data by identifying pattern , distances or feature between them\n",
        "\n",
        "2. What are some of the most popular clustering algorithm applications?\n",
        "\n",
        "Three most popular Clustering algorithms include-:\n",
        "1- Kmeans or K means ++\n",
        "2- Heirarchical clustering\n",
        "3- DBSCAN\n",
        "\n",
        "3. When using K-Means, describe two strategies for selecting the appropriate number of clusters.\n",
        "\n",
        "When suing K-means the most popular starategy is WCSS and plotting elbow plot agaist wcss and no. of clusters and when wcss does not chnage much that point is taken as number of clusters.\n",
        "\n",
        "Silhouette Score:\n",
        "\n",
        "The silhouette score measures how well each data point fits within its assigned cluster compared to other clusters.\n"
      ],
      "metadata": {
        "id": "lulFGP29lEZJ"
      }
    },
    {
      "cell_type": "code",
      "source": [],
      "metadata": {
        "id": "dwDVz7wTl2Ce"
      },
      "execution_count": null,
      "outputs": []
    },
    {
      "cell_type": "markdown",
      "source": [
        "4. What is mark propagation and how does it work? Why would you do it, and how would you do it?\n",
        "Mark propagation, also known as label propagation, is a semi-supervised learning technique used to assign labels or propagate information to unlabeled data points based on the labeled data points. It works by leveraging the connectivity or similarity between data points to infer labels for unobserved or unlabeled instances.\n",
        "\n",
        "5. Provide two examples of clustering algorithms that can handle large datasets. And two that look\n",
        "for high-density areas?\n",
        "DBSCAN AND DBSCAN HD\n",
        "\n",
        "6. Can you think of a scenario in which constructive learning will be advantageous? How can you go\n",
        "about putting it into action?\n",
        "Constructive learning is advantageous in scenarios where the available labeled data is limited, and acquiring additional labeled data is costly or time-consuming. It is especially useful when building a model incrementally, starting with a small labeled dataset and gradually expanding it.\n",
        "To put constructive learning into action, you can follow these steps:\n",
        "\n",
        "Start with an initial labeled dataset that represents a subset of the problem.\n",
        "Train a model using the initial labeled data.\n",
        "Deploy the model and start gathering additional data or instances that need labeling.\n",
        "Select a subset of the new instances and obtain labels through user feedback or domain experts.\n",
        "Incorporate the newly labeled instances into the existing dataset and retrain the model.\n",
        "Repeat steps 3-5 iteratively, gradually expanding the labeled dataset and improving the model's performance."
      ],
      "metadata": {
        "id": "PHEzY0FElF6A"
      }
    },
    {
      "cell_type": "code",
      "source": [],
      "metadata": {
        "id": "Ys8lzgrjmgDi"
      },
      "execution_count": null,
      "outputs": []
    },
    {
      "cell_type": "markdown",
      "source": [],
      "metadata": {
        "id": "q69eAdqflF8W"
      }
    },
    {
      "cell_type": "markdown",
      "source": [
        "7. How do you tell the difference between anomaly and novelty detection?\n",
        "\n",
        "Anomaly Detection: Anomaly detection is the task of identifying rare or unusual instances that deviate significantly from the norm or expected behavior. It focuses on identifying data points that are considered outliers or anomalies within a given dataset. Anomalies can represent unusual events, errors, fraud, or any data points that do not conform to the expected patterns.\n",
        "\n",
        "Novelty Detection: Novelty detection, also known as outlier detection, aims to identify previously unseen or unknown data instances that differ significantly from the training data distribution. It focuses on identifying instances that are different from what the model has been trained on and considers them as potential novelties or outliers.\n",
        "\n"
      ],
      "metadata": {
        "id": "WEzAZayElF_N"
      }
    },
    {
      "cell_type": "markdown",
      "source": [],
      "metadata": {
        "id": "ABpemCnulGBk"
      }
    },
    {
      "cell_type": "markdown",
      "source": [
        "8. What is a Gaussian mixture, and how does it work? What are some of the things you can do about\n",
        "it?\n",
        "\n",
        "A Gaussian mixture is a probabilistic model that assumes the data comes from a mixture of several Gaussian (normal) distributions. It represents the data as a combination of multiple Gaussian components, each having its own mean and covariance matrix. The model assumes that the observed data points are generated by selecting one of the Gaussian components and then sampling from that component.\n",
        "\n"
      ],
      "metadata": {
        "id": "dOQm8R-YlGEJ"
      }
    },
    {
      "cell_type": "markdown",
      "source": [],
      "metadata": {
        "id": "FWo_sHxQlGGa"
      }
    },
    {
      "cell_type": "markdown",
      "source": [
        "9. When using a Gaussian mixture model, can you name two techniques for determining the correct\n",
        "number of clusters? **bold text**"
      ],
      "metadata": {
        "id": "Z5QPYUMulGIo"
      }
    },
    {
      "cell_type": "markdown",
      "source": [
        "In a Gaussian mixture model (GMM), the primary goal is to estimate the parameters of the individual Gaussian components and their respective weights in the mixture. This estimation is typically performed using the Expectation-Maximization (EM) algorithm.\n",
        "\n",
        "Two common techniques for determining the correct number of clusters in Gaussian mixture models are:\n",
        "Bayesian Information Criterion (BIC): BIC is a criterion that balances model fit and complexity. It penalizes complex models to avoid overfitting. In GMM, different numbers of components are fitted, and the BIC score is calculated for each model. The model with the lowest BIC score is considered the optimal number of clusters.\n",
        "\n",
        "Akaike Information Criterion (AIC): AIC is similar to BIC but uses a different penalty for model complexity."
      ],
      "metadata": {
        "id": "_xt3ChCRlGMO"
      }
    }
  ]
}