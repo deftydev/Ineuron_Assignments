{
 "cells": [
  {
   "cell_type": "code",
   "execution_count": null,
   "id": "8f8e28d7",
   "metadata": {},
   "outputs": [],
   "source": [
    "1. Write a Python Program to Find the Factorial of a Number?\n",
    "2. Write a Python Program to Display the multiplication Table?\n",
    "3. Write a Python Program to Print the Fibonacci sequence?\n",
    "4. Write a Python Program to Check Armstrong Number?\n",
    "5. Write a Python Program to Find Armstrong Number in an Interval?\n",
    "6. Write a Python Program to Find the Sum of Natural Numbers?"
   ]
  },
  {
   "cell_type": "code",
   "execution_count": null,
   "id": "347cb547",
   "metadata": {},
   "outputs": [],
   "source": []
  },
  {
   "cell_type": "code",
   "execution_count": 7,
   "id": "4bb6c24b",
   "metadata": {},
   "outputs": [
    {
     "name": "stdout",
     "output_type": "stream",
     "text": [
      "3\n",
      "6\n"
     ]
    }
   ],
   "source": [
    "def fact(n):\n",
    "    if n==0:\n",
    "        return 1\n",
    "    return int(n*fact(n-1))\n",
    "num=int(input())\n",
    "b= fact(num)\n",
    "print(b)"
   ]
  },
  {
   "cell_type": "markdown",
   "id": "052239ff",
   "metadata": {},
   "source": [
    "# 2. Write a Python Program to Display the multiplication Table?"
   ]
  },
  {
   "cell_type": "code",
   "execution_count": 9,
   "id": "7500a6dc",
   "metadata": {},
   "outputs": [
    {
     "name": "stdout",
     "output_type": "stream",
     "text": [
      "3\n",
      " 3 multiplied by 0 is 0\n",
      " 3 multiplied by 1 is 3\n",
      " 3 multiplied by 2 is 6\n",
      " 3 multiplied by 3 is 9\n",
      " 3 multiplied by 4 is 12\n",
      " 3 multiplied by 5 is 15\n",
      " 3 multiplied by 6 is 18\n",
      " 3 multiplied by 7 is 21\n",
      " 3 multiplied by 8 is 24\n",
      " 3 multiplied by 9 is 27\n",
      " 3 multiplied by 10 is 30\n"
     ]
    }
   ],
   "source": [
    "num=int(input())\n",
    "\n",
    "for i in range(0,11):\n",
    "    print(f' {num} multiplied by {i} is', num*i)"
   ]
  },
  {
   "cell_type": "markdown",
   "id": "c8b60ac6",
   "metadata": {},
   "source": [
    "# 3. Write a Python Program to Print the Fibonacci sequence?"
   ]
  },
  {
   "cell_type": "code",
   "execution_count": 11,
   "id": "2a1d3fbb",
   "metadata": {},
   "outputs": [
    {
     "name": "stdout",
     "output_type": "stream",
     "text": [
      "0\n",
      "1\n",
      "1\n",
      "2\n",
      "3\n",
      "5\n",
      "8\n",
      "13\n",
      "21\n",
      "34\n"
     ]
    }
   ],
   "source": [
    "n=10\n",
    "a=0\n",
    "print(a)\n",
    "b=1\n",
    "print(b)\n",
    "while(n-2>0):\n",
    "    c=a+b\n",
    "    print(c)\n",
    "    a=b\n",
    "    b=c\n",
    "    n=n-1"
   ]
  },
  {
   "cell_type": "markdown",
   "id": "daa46cea",
   "metadata": {},
   "source": [
    "# 4. Write a Python Program to Check Armstrong Number?"
   ]
  },
  {
   "cell_type": "code",
   "execution_count": 10,
   "id": "0b10dd6b",
   "metadata": {},
   "outputs": [
    {
     "name": "stdout",
     "output_type": "stream",
     "text": [
      "Yes\n",
      "153 is armstrong\n"
     ]
    }
   ],
   "source": [
    "num=153\n",
    "numm=153\n",
    "n=len(str(num))\n",
    "summ=0\n",
    "while(num>0):\n",
    "    n=num%10\n",
    "    summ=summ+ n*n*n\n",
    "    num=num//10\n",
    "\n",
    "if int(summ)==int(numm):\n",
    "    print('Yes')\n",
    "    print(f'{numm} is armstrong')"
   ]
  },
  {
   "cell_type": "code",
   "execution_count": null,
   "id": "cc297628",
   "metadata": {},
   "outputs": [],
   "source": []
  },
  {
   "cell_type": "markdown",
   "id": "998f0bd8",
   "metadata": {},
   "source": [
    "# 5. Write a Python Program to Find Armstrong Number in an Interval?"
   ]
  },
  {
   "cell_type": "code",
   "execution_count": 11,
   "id": "884da589",
   "metadata": {},
   "outputs": [
    {
     "name": "stdout",
     "output_type": "stream",
     "text": [
      "1 is armstrong\n",
      "153 is armstrong\n"
     ]
    }
   ],
   "source": [
    "for i in range(1,200):\n",
    "    num=i\n",
    "    numm=i\n",
    "    n=len(str(num))\n",
    "    summ=0\n",
    "    while(num>0):\n",
    "        n=num%10\n",
    "        summ=summ+ n*n*n\n",
    "        num=num//10\n",
    "        \n",
    "    if int(summ)==int(numm):\n",
    "        print(f'{numm} is armstrong')"
   ]
  },
  {
   "cell_type": "code",
   "execution_count": null,
   "id": "bbb1962c",
   "metadata": {},
   "outputs": [],
   "source": []
  },
  {
   "cell_type": "markdown",
   "id": "e58d1ef0",
   "metadata": {},
   "source": [
    "# 6. Write a Python Program to Find the Sum of Natural Numbers?"
   ]
  },
  {
   "cell_type": "code",
   "execution_count": 12,
   "id": "3198e183",
   "metadata": {},
   "outputs": [
    {
     "name": "stdout",
     "output_type": "stream",
     "text": [
      "4950\n"
     ]
    }
   ],
   "source": [
    "summ=0\n",
    "for i in range(1,100):\n",
    "    summ=summ+i\n",
    "    \n",
    "print(summ)"
   ]
  },
  {
   "cell_type": "code",
   "execution_count": null,
   "id": "410ee628",
   "metadata": {},
   "outputs": [],
   "source": []
  }
 ],
 "metadata": {
  "kernelspec": {
   "display_name": "Python 3 (ipykernel)",
   "language": "python",
   "name": "python3"
  },
  "language_info": {
   "codemirror_mode": {
    "name": "ipython",
    "version": 3
   },
   "file_extension": ".py",
   "mimetype": "text/x-python",
   "name": "python",
   "nbconvert_exporter": "python",
   "pygments_lexer": "ipython3",
   "version": "3.9.13"
  }
 },
 "nbformat": 4,
 "nbformat_minor": 5
}
