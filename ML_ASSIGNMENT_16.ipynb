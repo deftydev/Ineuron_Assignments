{
 "cells": [
  {
   "cell_type": "code",
   "execution_count": null,
   "id": "a64f35d2",
   "metadata": {},
   "outputs": [],
   "source": [
    "1. In a linear equation, what is the difference between a dependent variable and an independent\n",
    "variable?\n",
    "dependent variable means which can change according to the values of independent variables.\n",
    "\n",
    "2. What is the concept of simple linear regression? Give a specific example.\n",
    "It means the dependent variable should vary lineraly with according to independent variable\n",
    "y=mx+c in this m slope and c coeffiecient changes accordinginly to minimize the error and get important vale of y.\n",
    "\n",
    "3. In a linear regression, define the slope.\n",
    "A slope of a line is defind that ,let y=mx+x\n",
    "if we find dy/dx then what is th change in y with respect to small change in x\n",
    "\n",
    "4. Determine the graph&#39;s slope, where the lower point on the line is represented as (3, 2) and the\n",
    "higher point is represented as (2, 2).\n",
    "\n",
    "2-2/3-2 =0 slope will be zero in that case"
   ]
  },
  {
   "cell_type": "code",
   "execution_count": null,
   "id": "ae1dea4f",
   "metadata": {},
   "outputs": [],
   "source": []
  },
  {
   "cell_type": "code",
   "execution_count": null,
   "id": "64ce525e",
   "metadata": {},
   "outputs": [],
   "source": [
    "5. In linear regression, what are the conditions for a positive slope?\n",
    "A positive slope is defined as when the tangent is pointing upwards direction at a partcular point, it is when there is negative rate of \n",
    "change in y wrt to small change in x.\n",
    "\n",
    "6. In linear regression, what are the conditions for a negative slope?\n",
    "A negative slope is defined as when the tangent is pointing downwards direction at a partcular point, it is when \n",
    "there is positive rate of change in y wrt to small change in x.\n",
    "\n",
    "7. What is multiple linear regression and how does it work?\n",
    "When dependent variable is depenedent on two or more than two independent variables\n",
    "\n",
    "8. In multiple linear regression, define the number of squares due to error.\n",
    "Ans: Sum of squares is a statistical technique used in regression analysis to determine the dispersion of data points.\n",
    "    In a regression analysis, the goal is to \n",
    "    determine how well a data series can be fitted to a function that might help to explain how the data series was generated."
   ]
  },
  {
   "cell_type": "code",
   "execution_count": null,
   "id": "b771db56",
   "metadata": {},
   "outputs": [],
   "source": []
  },
  {
   "cell_type": "code",
   "execution_count": null,
   "id": "be55f3b2",
   "metadata": {},
   "outputs": [],
   "source": [
    "12. Describe the concept of ridge regression ?\n",
    "Ans: Ridge Regression is a technique for analyzing multiple regression data that suffer from multicollinearity.\n",
    "    By adding a degree of bias to the regression estimates, ridge regression reduces the standard errors.\n",
    "    It is hoped that the net effect will be to give estimates that are more reliable.\n",
    "\n",
    "13. Describe the concept of lasso regression ?\n",
    "Ans: In statistics and machine learning, lasso (least absolute shrinkage and selection operator; \n",
    "                                                also Lasso or LASSO) is a regression analysis method that performs both variable\n",
    "    selection and regularization in order to enhance the prediction accuracy and interpretability of the resulting statistical \n",
    "    model.\n",
    "\n",
    "14. What is polynomial regression and how does it work ?\n",
    "Ans: Polynomial Regression is a form of Linear regression known as a\n",
    "    special case of Multiple linear regression which estimates the relationship as an nth degree polynomial. \n",
    "    Polynomial Regression is sensitive to outliers so the presence of one or two outliers can also badly affect the performance."
   ]
  },
  {
   "cell_type": "code",
   "execution_count": null,
   "id": "330d3e6a",
   "metadata": {},
   "outputs": [],
   "source": []
  },
  {
   "cell_type": "code",
   "execution_count": null,
   "id": "7a69c87d",
   "metadata": {},
   "outputs": [],
   "source": []
  },
  {
   "cell_type": "code",
   "execution_count": null,
   "id": "7f6cfdf3",
   "metadata": {},
   "outputs": [],
   "source": []
  }
 ],
 "metadata": {
  "kernelspec": {
   "display_name": "Python 3 (ipykernel)",
   "language": "python",
   "name": "python3"
  },
  "language_info": {
   "codemirror_mode": {
    "name": "ipython",
    "version": 3
   },
   "file_extension": ".py",
   "mimetype": "text/x-python",
   "name": "python",
   "nbconvert_exporter": "python",
   "pygments_lexer": "ipython3",
   "version": "3.9.13"
  }
 },
 "nbformat": 4,
 "nbformat_minor": 5
}
