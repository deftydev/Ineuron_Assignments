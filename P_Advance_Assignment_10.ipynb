{
 "cells": [
  {
   "cell_type": "markdown",
   "id": "68ecfc53",
   "metadata": {},
   "source": [
    "# Q1. What is the difference between __getattr__ and __getattribute__?"
   ]
  },
  {
   "cell_type": "code",
   "execution_count": null,
   "id": "24cb1d6d",
   "metadata": {},
   "outputs": [],
   "source": [
    "__getattr__ is generally called when attrinute of a class does not exist , and default vlue needs to be returned.\n",
    "__getattribute__ is genrally called to check if a class attribute exist or not ,an attribute error is raised if it does not exist"
   ]
  },
  {
   "cell_type": "code",
   "execution_count": null,
   "id": "13aeec0b",
   "metadata": {},
   "outputs": [],
   "source": []
  },
  {
   "cell_type": "markdown",
   "id": "a57e87c1",
   "metadata": {},
   "source": [
    "# Q2. What is the difference between properties and descriptors?"
   ]
  },
  {
   "cell_type": "code",
   "execution_count": null,
   "id": "01b23c39",
   "metadata": {},
   "outputs": [],
   "source": [
    "propertiesare used to bind getter, setter and delete functions inside a class and thenproperty decorator @property is used to mark them accordingly\n",
    "\n",
    "descriptor are also used to bind getter setter and delete functions in a separate class , then the object of this class is passed to the function of another class ,it basically invokes the function from other classess.\n",
    "\n"
   ]
  },
  {
   "cell_type": "code",
   "execution_count": null,
   "id": "9b8de30a",
   "metadata": {},
   "outputs": [],
   "source": []
  },
  {
   "cell_type": "markdown",
   "id": "34889b98",
   "metadata": {},
   "source": [
    "# Q3. What are the key differences in functionality between __getattr__ and __getattribute__, as well as\n",
    "properties and descriptors?"
   ]
  },
  {
   "cell_type": "code",
   "execution_count": null,
   "id": "4018ab51",
   "metadata": {},
   "outputs": [],
   "source": [
    "__getattr__ is generally called when attrinute of a class does not exist , and default vlue needs to be returned.\n",
    "__getattribute__ is genrally called to check if a class attribute exist or not ,an attribute error is raised if it does not exist"
   ]
  },
  {
   "cell_type": "code",
   "execution_count": null,
   "id": "c7d431a4",
   "metadata": {},
   "outputs": [],
   "source": [
    "propertiesare used to bind getter, setter and delete functions inside a class and thenproperty decorator @property is used to mark them accordingly\n",
    "\n",
    "descriptor are also used to bind getter setter and delete functions in a separate class , then the object of this class is passed to the function of another class ,it basically invokes the function from other classess.\n",
    "\n"
   ]
  }
 ],
 "metadata": {
  "kernelspec": {
   "display_name": "Python 3 (ipykernel)",
   "language": "python",
   "name": "python3"
  },
  "language_info": {
   "codemirror_mode": {
    "name": "ipython",
    "version": 3
   },
   "file_extension": ".py",
   "mimetype": "text/x-python",
   "name": "python",
   "nbconvert_exporter": "python",
   "pygments_lexer": "ipython3",
   "version": "3.9.13"
  }
 },
 "nbformat": 4,
 "nbformat_minor": 5
}
