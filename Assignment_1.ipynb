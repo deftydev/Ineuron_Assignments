{
 "cells": [
  {
   "cell_type": "markdown",
   "id": "f96e65c8",
   "metadata": {},
   "source": [
    "# Assignment_1 (Python Basic)"
   ]
  },
  {
   "cell_type": "markdown",
   "id": "3d2dd7b3",
   "metadata": {},
   "source": [
    "1. In the below elements which of them are values or an expression? eg:- values can be\n",
    "integer or string and expressions will be mathematical operators.\n",
    "*\n",
    "&#39;hello&#39;\n",
    "-87.8\n",
    "-\n",
    "/\n",
    "+\n",
    "6"
   ]
  },
  {
   "cell_type": "markdown",
   "id": "0bdbbf05",
   "metadata": {},
   "source": [
    "Ans 'hello',6 and -87.8 are values rest of them (*,-,/,+) are mathemtical operators(multiplication,subtraction,division and addition respectively)"
   ]
  },
  {
   "cell_type": "raw",
   "id": "61b2629a",
   "metadata": {},
   "source": []
  },
  {
   "cell_type": "markdown",
   "id": "93367471",
   "metadata": {},
   "source": [
    "What is the difference between string and variable?"
   ]
  },
  {
   "cell_type": "markdown",
   "id": "dec9c81d",
   "metadata": {},
   "source": [
    "string is denoted under double quotes like this 'abc'or'a' but variable are like a,b,c , variables can be assigned a value , a variable can be of type string \n",
    "\n"
   ]
  },
  {
   "cell_type": "code",
   "execution_count": 1,
   "id": "ba8dcccb",
   "metadata": {},
   "outputs": [
    {
     "name": "stdout",
     "output_type": "stream",
     "text": [
      "<class 'str'>\n"
     ]
    }
   ],
   "source": [
    "#let a is a variable name\n",
    "a='abc'\n",
    "print(type(a))"
   ]
  },
  {
   "cell_type": "code",
   "execution_count": 2,
   "id": "326872e7",
   "metadata": {},
   "outputs": [
    {
     "ename": "SyntaxError",
     "evalue": "cannot assign to literal (2083346395.py, line 1)",
     "output_type": "error",
     "traceback": [
      "\u001b[1;36m  File \u001b[1;32m\"C:\\Users\\user\\AppData\\Local\\Temp\\ipykernel_10856\\2083346395.py\"\u001b[1;36m, line \u001b[1;32m1\u001b[0m\n\u001b[1;33m    'abc'='abcd'\u001b[0m\n\u001b[1;37m    ^\u001b[0m\n\u001b[1;31mSyntaxError\u001b[0m\u001b[1;31m:\u001b[0m cannot assign to literal\n"
     ]
    }
   ],
   "source": [
    "'abc'='abcd'  #we cannot assign any value to a string"
   ]
  },
  {
   "cell_type": "markdown",
   "id": "2445b504",
   "metadata": {},
   "source": [
    "3. Describe three different data types."
   ]
  },
  {
   "cell_type": "code",
   "execution_count": 6,
   "id": "b3f5d9e7",
   "metadata": {},
   "outputs": [
    {
     "name": "stdout",
     "output_type": "stream",
     "text": [
      "a is of type <class 'int'>\n",
      "b is of type <class 'float'>\n",
      "c is of type <class 'complex'>\n"
     ]
    }
   ],
   "source": [
    "a=3  #data type is integer as we have assigned a int value to it\n",
    "print(\"a is of type\",type(a))\n",
    "b=3.0 #data type is float as we have assigned float r decimal value to it\n",
    "print(\"b is of type\",type(b))\n",
    "c= 3+4j #data type is complex as we have assigned complex number to it\n",
    "print(\"c is of type\",type(c))"
   ]
  },
  {
   "cell_type": "markdown",
   "id": "79d0c42e",
   "metadata": {},
   "source": [
    "4. What is an expression made up of? What do all expressions do?"
   ]
  },
  {
   "cell_type": "markdown",
   "id": "4f4b6030",
   "metadata": {},
   "source": [
    "expression is made up of operators and operands , all expression calculate the values using the operators precedence defined in expression "
   ]
  },
  {
   "cell_type": "code",
   "execution_count": 7,
   "id": "435d8803",
   "metadata": {},
   "outputs": [
    {
     "name": "stdout",
     "output_type": "stream",
     "text": [
      "7\n",
      "14\n"
     ]
    }
   ],
   "source": [
    "a = 3+4  #addition of two numbers #constant expression\n",
    "print(a)\n",
    "\n",
    "b= (3+4)*2  ##operator precedence\n",
    "print(b)"
   ]
  },
  {
   "cell_type": "markdown",
   "id": "91859c92",
   "metadata": {},
   "source": [
    "5. This assignment statements, like spam = 10. What is the difference between an\n",
    "expression and a statement?"
   ]
  },
  {
   "cell_type": "markdown",
   "id": "458e47a9",
   "metadata": {},
   "source": [
    "expression calculates the result using the operators by considering operator precedence defined they always return a value on the other hand statement does no return a value eg- def, import "
   ]
  },
  {
   "cell_type": "code",
   "execution_count": 10,
   "id": "042e186a",
   "metadata": {},
   "outputs": [
    {
     "name": "stdout",
     "output_type": "stream",
     "text": [
      "10\n"
     ]
    }
   ],
   "source": [
    "import logging #it is a statement\n",
    "spamm = 8+2 #this is a expression\n",
    "print(spamm)"
   ]
  },
  {
   "cell_type": "markdown",
   "id": "067a535b",
   "metadata": {},
   "source": [
    "After running the following code, what does the variable bacon contain?\n",
    "bacon = 22\n",
    "bacon + 1"
   ]
  },
  {
   "cell_type": "markdown",
   "id": "bff61354",
   "metadata": {},
   "source": [
    "bacon will return 22 only as we have not done any assignment to it like we should do bacon+=1 to return 23"
   ]
  },
  {
   "cell_type": "raw",
   "id": "ad1a04a1",
   "metadata": {},
   "source": []
  },
  {
   "cell_type": "markdown",
   "id": "54013d26",
   "metadata": {},
   "source": [
    "7. What should the values of the following two terms be?\n",
    "'spam'+'spamspam'\n",
    "'spam'* 3"
   ]
  },
  {
   "cell_type": "markdown",
   "id": "d59c16ec",
   "metadata": {},
   "source": [
    "'spamspamspam' and 'spamspamspam' will be the values respectively"
   ]
  },
  {
   "cell_type": "raw",
   "id": "1e33b955",
   "metadata": {},
   "source": []
  },
  {
   "cell_type": "markdown",
   "id": "5ec867c3",
   "metadata": {},
   "source": [
    "8. Why is eggs a valid variable name while 100 is invalid?"
   ]
  },
  {
   "cell_type": "markdown",
   "id": "45de778f",
   "metadata": {},
   "source": [
    "eggs are valid because variable names can be started using any alphabets, words but not using any integer, underscores,special characters or operators in python that's why 100 is not considered a valid variable name"
   ]
  },
  {
   "cell_type": "raw",
   "id": "5a902913",
   "metadata": {},
   "source": []
  },
  {
   "cell_type": "markdown",
   "id": "a06e0563",
   "metadata": {},
   "source": [
    "9. What three functions can be used to get the integer, floating-point number, or string\n",
    "version of a value?"
   ]
  },
  {
   "cell_type": "markdown",
   "id": "1bffa8a0",
   "metadata": {},
   "source": [
    "int #to get a integer value\n",
    "float #to get a floating point value\n",
    "str #to get a string value"
   ]
  },
  {
   "cell_type": "raw",
   "id": "e225a03f",
   "metadata": {},
   "source": []
  },
  {
   "cell_type": "markdown",
   "id": "e3f26109",
   "metadata": {},
   "source": [
    "10. Why does this expression cause an error? How can you fix it?\n",
    "'I have eaten' + 99 + 'burritos'"
   ]
  },
  {
   "cell_type": "markdown",
   "id": "32167b5e",
   "metadata": {},
   "source": [
    "as 99 is int and you cannot concatenate int to string that is why this is causing error but you can fix it while enclosing 99 in double/single quotes"
   ]
  },
  {
   "cell_type": "code",
   "execution_count": 17,
   "id": "2f44de57",
   "metadata": {},
   "outputs": [
    {
     "name": "stdout",
     "output_type": "stream",
     "text": [
      "Ihave eaten99buritos.\n"
     ]
    }
   ],
   "source": [
    "print('Ihave eaten'+\"99\"+'buritos.')"
   ]
  },
  {
   "cell_type": "code",
   "execution_count": null,
   "id": "efcc7b1a",
   "metadata": {},
   "outputs": [],
   "source": []
  }
 ],
 "metadata": {
  "kernelspec": {
   "display_name": "Python 3 (ipykernel)",
   "language": "python",
   "name": "python3"
  },
  "language_info": {
   "codemirror_mode": {
    "name": "ipython",
    "version": 3
   },
   "file_extension": ".py",
   "mimetype": "text/x-python",
   "name": "python",
   "nbconvert_exporter": "python",
   "pygments_lexer": "ipython3",
   "version": "3.9.13"
  }
 },
 "nbformat": 4,
 "nbformat_minor": 5
}
