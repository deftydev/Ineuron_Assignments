{
 "cells": [
  {
   "cell_type": "code",
   "execution_count": null,
   "id": "2a0c1343",
   "metadata": {},
   "outputs": [],
   "source": [
    "Q1. What is the purpose of the try statement?\n",
    "\n",
    "try statement are used when you want to see if any exception will occur or not if this program will run.\n",
    "If it ocurs then the program should not crash or the user sould know why the program crashes and then provide prper input to it."
   ]
  },
  {
   "cell_type": "code",
   "execution_count": null,
   "id": "3272c9fd",
   "metadata": {},
   "outputs": [],
   "source": []
  },
  {
   "cell_type": "code",
   "execution_count": null,
   "id": "aa495c5f",
   "metadata": {},
   "outputs": [],
   "source": [
    "Q2. What are the two most popular try statement variations?\n",
    "\n",
    "Th popular using try with except and else\n",
    "and using try with except,else and finally\n",
    "\n"
   ]
  },
  {
   "cell_type": "code",
   "execution_count": 1,
   "id": "8ed9e1ce",
   "metadata": {},
   "outputs": [
    {
     "name": "stdout",
     "output_type": "stream",
     "text": [
      "Exception raised\n",
      "It will get executed everytime if exception is raised or not\n"
     ]
    }
   ],
   "source": [
    "try:\n",
    "    a=3//0\n",
    "except:\n",
    "    print(\"Exception raised\")\n",
    "else:\n",
    "    print(\"If no exception is raised then this will get excuted\")\n",
    "finally:\n",
    "    print(\"It will get executed everytime if exception is raised or not\")"
   ]
  },
  {
   "cell_type": "code",
   "execution_count": null,
   "id": "05add328",
   "metadata": {},
   "outputs": [],
   "source": []
  },
  {
   "cell_type": "code",
   "execution_count": null,
   "id": "bc20613a",
   "metadata": {},
   "outputs": [],
   "source": [
    "Q3. What is the purpose of the raise statement?\n",
    "\n",
    "raise statement are written generally when you know that during runtime this exception might occur or you want to give custom exceptions to your program\n"
   ]
  },
  {
   "cell_type": "code",
   "execution_count": null,
   "id": "8e3fcc38",
   "metadata": {},
   "outputs": [],
   "source": []
  },
  {
   "cell_type": "code",
   "execution_count": null,
   "id": "e534caa7",
   "metadata": {},
   "outputs": [],
   "source": [
    "Q4. What does the assert statement do, and what other statement is it like?\n",
    "\n",
    "assert (3==4),'3 is not equals to 4'\n",
    "\n",
    "assert are used while debugging to check if current condition mets or not "
   ]
  },
  {
   "cell_type": "code",
   "execution_count": null,
   "id": "df54f5b6",
   "metadata": {},
   "outputs": [],
   "source": []
  },
  {
   "cell_type": "code",
   "execution_count": null,
   "id": "1f397a1d",
   "metadata": {},
   "outputs": [],
   "source": [
    "Q5. What is the purpose of the with/as argument, and what other statement is it like?"
   ]
  },
  {
   "cell_type": "code",
   "execution_count": null,
   "id": "3192a1a4",
   "metadata": {},
   "outputs": [],
   "source": [
    "with open('filename.extension','r') as f:\n",
    "    f.read()\n",
    "    \n",
    "with is used when you dont want to handle file.close() command it itself closes the file"
   ]
  }
 ],
 "metadata": {
  "kernelspec": {
   "display_name": "Python 3 (ipykernel)",
   "language": "python",
   "name": "python3"
  },
  "language_info": {
   "codemirror_mode": {
    "name": "ipython",
    "version": 3
   },
   "file_extension": ".py",
   "mimetype": "text/x-python",
   "name": "python",
   "nbconvert_exporter": "python",
   "pygments_lexer": "ipython3",
   "version": "3.9.13"
  }
 },
 "nbformat": 4,
 "nbformat_minor": 5
}
