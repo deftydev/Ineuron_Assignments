{
 "cells": [
  {
   "cell_type": "code",
   "execution_count": null,
   "id": "affa3576",
   "metadata": {},
   "outputs": [],
   "source": [
    "1. Recognize the differences between supervised, semi-supervised, and unsupervised learning.\n",
    "when labelled dataset is given it is called supervised , when unlabeeled dataset is given it is called unsupervised ,\n",
    "semisupervised is the combination of both type of learnings.\n",
    "\n",
    "2. Describe in detail any five examples of classification problems.\n",
    "To determine if a person has cancer or not.\n",
    "To classify if the person will get admission into a school or not.\n",
    "\n",
    "3. Describe each phase of the classification process in detail.\n",
    "\n",
    "Construction of the classifier\n",
    "Usage of the classifier.\n",
    "A classifier in machine learning is an algorithm that automatically\n",
    "orders or categorizes data into one or more of a set of “classes.” One of the most common examples is an email \n",
    "classifier that scans emails to filter them by class label: Spam or Not Spam.\n",
    "\n",
    "The main goal of the Classification algorithm is to identify the\n",
    "category of a given dataset, and these algorithms are mainly used to \n",
    "predict the output for the categorical data. Multi-class Classifier: \n",
    "    If a classification problem has more than two outcomes, then it is called as Multi-class Classifier.\n",
    "    \n",
    "    \n",
    "4. Go through the SVM model in depth using various scenarios.\n",
    "SVM model just draws the hyperplane in the data if draing it is not possible it will use kernel trick to increase\n",
    "the dimesion of the data and then draw two euidistant lines from up and from down and the points touching those \n",
    "lines will be termed as a support vectors.\n",
    "\n",
    "5. What are some of the benefits and drawbacks of SVM?\n",
    "it is very memory efficient but not uitable for large datasets."
   ]
  },
  {
   "cell_type": "code",
   "execution_count": null,
   "id": "52f09797",
   "metadata": {},
   "outputs": [],
   "source": []
  },
  {
   "cell_type": "code",
   "execution_count": null,
   "id": "0ac24a97",
   "metadata": {},
   "outputs": [],
   "source": [
    "6. Go over the kNN model in depth.\n",
    "knn stands for k nearest neighbour , it simply means you have to calculate euclideon distance with new data point\n",
    "and then simply takes three distances which are smaller and then calculate the probality of their output and based\n",
    "on it calculate the output class of the new data point.\n",
    "\n",
    "7. Discuss the kNN algorithm&#39;s error rate and validation error.\n",
    "Training error here is the error youll have when you input your training set to your KNN as test set.\n",
    "Since your test sample is in the training dataset, ill choose itself \n",
    "as the closest and never make mistake. For this reason, the training error will be zero when K = 1, irrespective of the dataset.\n",
    "\n",
    "8. For kNN, talk about how to measure the difference between the test and training results.\n",
    "\n",
    "9. Create the kNN algorithm.\n",
    "knn stands for k nearest neighbour , it simply means you have to calculate euclideon distance with new data point\n",
    "and then simply takes three distances which are smaller and then calculate the probality of their output and based\n",
    "on it calculate the output class of the new data point\n",
    "\n",
    "What is a decision tree, exactly? What are the various kinds of nodes? Explain all in depth.\n",
    " A decision tree is a tree-like model that acts as a decision support tool, \n",
    "    displaying decisions and their potential outcomes, consequences, and costs.\n",
    "    Drawing a decision tree diagram starts from left to right and consists of burst nodes that split into different paths.\n",
    "    \n",
    "11. Describe the different ways to scan a decision tree.\n",
    "\n",
    "In a decision tree analysis, the decision-maker has usually to proceed through the following six steps:\n",
    "\n",
    "Define the problem in structured terms.\n",
    "Model the decision process.\n",
    "Apply the appropriate probability values and financial data.\n",
    "Solve the decision tree.\n",
    "Perform sensitivity analysis."
   ]
  },
  {
   "cell_type": "code",
   "execution_count": null,
   "id": "cd2346d6",
   "metadata": {},
   "outputs": [],
   "source": []
  },
  {
   "cell_type": "code",
   "execution_count": null,
   "id": "50aa2639",
   "metadata": {},
   "outputs": [],
   "source": [
    "Describe in depth the random forest model. What distinguishes a random forest ?\n",
    "Ans: The random forest is a classification algorithm consisting of many decisions trees. \n",
    "    It uses bagging and feature randomness when building each individual tree to try to create an uncorrelated forest of \n",
    "    trees whose prediction by committee is more accurate than that of any individual tree. The fundamental difference\n",
    "    is that in Random forests, only a subset of features are selected at random out of the total and \n",
    "    the best split feature from the subset is used to split each node in a tree, unlike in bagging where all features \n",
    "    are considered for splitting a node.\n",
    "\n"
   ]
  },
  {
   "cell_type": "code",
   "execution_count": null,
   "id": "ac78849e",
   "metadata": {},
   "outputs": [],
   "source": []
  },
  {
   "cell_type": "code",
   "execution_count": null,
   "id": "a6b8e3f7",
   "metadata": {},
   "outputs": [],
   "source": [
    "In a random forest, talk about OOB error and variable value ?\n",
    "Ans: The out-of-bag (OOB) error is the average error for each calculated using predictions\n",
    "    from the trees that do not contain in their respective bootstrap sample. \n",
    "    There are two measures of importance given for each variable in the random forest.\n",
    "    The first measure is based on how much the accuracy decreases when the variable \n",
    "    is excluded.The second measure is based on the decrease of Gini impurity when a variable is chosen to split a node."
   ]
  }
 ],
 "metadata": {
  "kernelspec": {
   "display_name": "Python 3 (ipykernel)",
   "language": "python",
   "name": "python3"
  },
  "language_info": {
   "codemirror_mode": {
    "name": "ipython",
    "version": 3
   },
   "file_extension": ".py",
   "mimetype": "text/x-python",
   "name": "python",
   "nbconvert_exporter": "python",
   "pygments_lexer": "ipython3",
   "version": "3.9.13"
  }
 },
 "nbformat": 4,
 "nbformat_minor": 5
}
