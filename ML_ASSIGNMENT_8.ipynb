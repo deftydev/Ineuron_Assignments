{
 "cells": [
  {
   "cell_type": "code",
   "execution_count": null,
   "id": "14d60919",
   "metadata": {},
   "outputs": [],
   "source": [
    "1. What exactly is a feature? Give an example to illustrate your point.\n",
    "feature are you inputs available to be given to model to predict the output.\n",
    "Ex- for House price prediction - location, no. of rooms will be considered as features.\n",
    "\n",
    "2. What are the various circumstances in which feature construction is required?\n",
    "Better features will directly impact the accuracy of your model and helps in predciting best output.\n",
    "\n",
    "3. Describe how nominal variables are encoded.\n",
    "Nominal variables can be encoded using LabelEncoder "
   ]
  },
  {
   "cell_type": "code",
   "execution_count": null,
   "id": "c476dd4e",
   "metadata": {},
   "outputs": [],
   "source": []
  },
  {
   "cell_type": "code",
   "execution_count": null,
   "id": "14d7041d",
   "metadata": {},
   "outputs": [],
   "source": [
    "4. Describe how numeric features are converted to categorical features.\n",
    "categorical features can be converted to numerical using domain knowledge of the data/business problem.\n",
    "\n",
    "5. Describe the feature selection wrapper approach. State the advantages and disadvantages of this\n",
    "approach?\n",
    "rapper methods measure the “usefulness” of features based on the classifier performance. In contrast, \n",
    "the filter methods pick up the intrinsic properties of the features (i.e., the “relevance” of the features) \n",
    "measured via univariate statistics instead of cross-validation performance.\n",
    "\n",
    "6. When is a feature considered irrelevant? What can be said to quantify it?\n",
    "the features which are not contributing towards prediction of the output are called irrelevant , lasso regularization\n",
    "can be applied to quantify them.\n",
    "\n",
    "\n",
    "7. When is a function considered redundant? What criteria are used to identify features that could\n",
    "be redundant?\n",
    "when two features are highly correlated , using heatmap or variance inflation factor one canidentify them.\n",
    "\n"
   ]
  },
  {
   "cell_type": "code",
   "execution_count": null,
   "id": "1883de31",
   "metadata": {},
   "outputs": [],
   "source": []
  },
  {
   "cell_type": "code",
   "execution_count": null,
   "id": "a7eb75d2",
   "metadata": {},
   "outputs": [],
   "source": [
    "8. What are the various distance measurements used to determine feature similarity ?\n",
    "Ans: The most commonly used distance measures in machine learning are as follows:\n",
    "\n",
    "Hamming Distance.\n",
    "Euclidean Distance\n",
    "Manhattan Distance.\n",
    "\n",
    "9. State difference between Euclidean and Manhattan distances ?\n",
    "Ans: Euclidean & Hamming distances are used to measure similarity or dissimilarity between two sequences. \n",
    "    Euclidean distance is extensively applied in analysis of convolutional codes and Trellis codes.\n",
    "\n",
    "Hamming distance is frequently encountered in the analysis of block codes.\n",
    "\n",
    "10. Distinguish between feature transformation and feature selection ?\n",
    "Ans: Feature selection is for filtering irrelevant or redundant features from your dataset. \n",
    "    The key difference between feature selection and extraction is that feature selection keeps a subset of the original \n",
    "    features while feature extraction creates brand new ones."
   ]
  }
 ],
 "metadata": {
  "kernelspec": {
   "display_name": "Python 3 (ipykernel)",
   "language": "python",
   "name": "python3"
  },
  "language_info": {
   "codemirror_mode": {
    "name": "ipython",
    "version": 3
   },
   "file_extension": ".py",
   "mimetype": "text/x-python",
   "name": "python",
   "nbconvert_exporter": "python",
   "pygments_lexer": "ipython3",
   "version": "3.9.13"
  }
 },
 "nbformat": 4,
 "nbformat_minor": 5
}
