{
 "cells": [
  {
   "cell_type": "markdown",
   "id": "1d92f346",
   "metadata": {},
   "source": [
    "# Q1. What is the benefit of regular expressions?\n",
    "\n",
    "Ans- They are used for pattren searching, validating strings containing usernames or passwords."
   ]
  },
  {
   "cell_type": "markdown",
   "id": "bbe8a112",
   "metadata": {},
   "source": [
    "# Q2. Describe the difference between the effects of &quot;(ab)c+&quot; and &quot;a(bc)+.&quot; Which of these, if any, is the\n",
    "unqualified pattern &quot;abc+&quot;?"
   ]
  },
  {
   "cell_type": "code",
   "execution_count": null,
   "id": "6f289c6c",
   "metadata": {},
   "outputs": [],
   "source": [
    "(ab)c+ in this ab is a group and first it will be executed.\n",
    "a(bc)+ in this bc is one group first they will be exceuted the their answer is mapped to a."
   ]
  },
  {
   "cell_type": "markdown",
   "id": "971f78fc",
   "metadata": {},
   "source": [
    "# Q3. How much do you need to use the following sentence while using regular expressions?\n",
    "\n",
    "import re"
   ]
  },
  {
   "cell_type": "code",
   "execution_count": null,
   "id": "511c0aab",
   "metadata": {},
   "outputs": [],
   "source": [
    "re is the modulename which contains functions such as compile , search , match used in pattern searching"
   ]
  },
  {
   "cell_type": "code",
   "execution_count": null,
   "id": "b9613c5b",
   "metadata": {},
   "outputs": [],
   "source": []
  },
  {
   "cell_type": "markdown",
   "id": "f5505783",
   "metadata": {},
   "source": [
    "# Q4. Which characters have special significance in square brackets when expressing a range, and\n",
    "under what circumstances?"
   ]
  },
  {
   "cell_type": "code",
   "execution_count": null,
   "id": "3e1e2a1b",
   "metadata": {},
   "outputs": [],
   "source": [
    "^,*,$,. are having special significances, they need not be excaped with / in raw strings"
   ]
  },
  {
   "cell_type": "code",
   "execution_count": null,
   "id": "d10e2244",
   "metadata": {},
   "outputs": [],
   "source": []
  },
  {
   "cell_type": "markdown",
   "id": "d8095b7c",
   "metadata": {},
   "source": [
    "# Q5. How does compiling a regular-expression object benefit you?\n",
    "\n",
    "Ans- compiling a object will help us to reuse that object with any method of re module and we dont have to write pattern again and again"
   ]
  },
  {
   "cell_type": "code",
   "execution_count": null,
   "id": "28a1de70",
   "metadata": {},
   "outputs": [],
   "source": []
  },
  {
   "cell_type": "markdown",
   "id": "1a581a54",
   "metadata": {},
   "source": [
    "# Q6. What are some examples of how to use the match object returned by re.match and re.search?"
   ]
  },
  {
   "cell_type": "code",
   "execution_count": 9,
   "id": "3552af62",
   "metadata": {},
   "outputs": [
    {
     "name": "stdout",
     "output_type": "stream",
     "text": [
      "[]\n",
      "<re.Match object; span=(5, 6), match='h'>\n",
      "None\n"
     ]
    }
   ],
   "source": [
    "import re\n",
    "\n",
    "s=\"Q6. What are some examples of how to use the match object returned by re.match and re.search?\"\n",
    "\n",
    "s1=re.search(r'[a-z]',s)\n",
    "\n",
    "s2=re.match('match',s) #only when match is found at begining of string this is used \n",
    "\n",
    "s3=re.compile(r'./')\n",
    "s4=s3.findall(s)\n",
    "print(s4)\n",
    "\n",
    "print(s1)\n",
    "print(s2)"
   ]
  },
  {
   "cell_type": "markdown",
   "id": "4b3ac1fd",
   "metadata": {},
   "source": [
    "# Q7. What is the difference between using a vertical bar (|) as an alteration and using square brackets\n",
    "as a character set?"
   ]
  },
  {
   "cell_type": "code",
   "execution_count": null,
   "id": "19738067",
   "metadata": {},
   "outputs": [],
   "source": [
    "Verticalbar(|) is used when we have to perform OR operation in it."
   ]
  },
  {
   "cell_type": "code",
   "execution_count": null,
   "id": "ba4aa3cc",
   "metadata": {},
   "outputs": [],
   "source": []
  },
  {
   "cell_type": "markdown",
   "id": "e1590544",
   "metadata": {},
   "source": [
    "# Q8. In regular-expression search patterns, why is it necessary to use the raw-string indicator (r)? In  \n",
    "replacement strings?"
   ]
  },
  {
   "cell_type": "code",
   "execution_count": null,
   "id": "09a99de4",
   "metadata": {},
   "outputs": [],
   "source": [
    "In python /t ,/n these charaters are having a special meaning but if we have to find only.\n",
    "\n",
    "in file paths several /(slashes) are there so to print all of them we use backslashes."
   ]
  },
  {
   "cell_type": "code",
   "execution_count": 14,
   "id": "88c9b08b",
   "metadata": {},
   "outputs": [
    {
     "name": "stdout",
     "output_type": "stream",
     "text": [
      "C:\tdevansh\n",
      "ineuron.txt\n",
      "C:\\tdevansh\\nineuron.txt\n"
     ]
    }
   ],
   "source": [
    "print(\"C:\\tdevansh\\nineuron.txt\")\n",
    "print(r\"C:\\tdevansh\\nineuron.txt\")"
   ]
  },
  {
   "cell_type": "code",
   "execution_count": null,
   "id": "fc979435",
   "metadata": {},
   "outputs": [],
   "source": []
  }
 ],
 "metadata": {
  "kernelspec": {
   "display_name": "Python 3 (ipykernel)",
   "language": "python",
   "name": "python3"
  },
  "language_info": {
   "codemirror_mode": {
    "name": "ipython",
    "version": 3
   },
   "file_extension": ".py",
   "mimetype": "text/x-python",
   "name": "python",
   "nbconvert_exporter": "python",
   "pygments_lexer": "ipython3",
   "version": "3.9.13"
  }
 },
 "nbformat": 4,
 "nbformat_minor": 5
}
