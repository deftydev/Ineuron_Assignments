{
 "cells": [
  {
   "cell_type": "markdown",
   "id": "766ef8c3",
   "metadata": {},
   "source": [
    "# 1.Create a function that takes three arguments a, b, c and returns the sum of the numbers that are evenly divided by c from the range a, b inclusive ?\n",
    "Examples:\n",
    "evenly_divisible(1, 10, 20) ➞ 0 # No number between 1 and 10 can be evenly divided by 20. evenly_divisible(1, 10, 2) ➞ 30 # 2 + 4 + 6 + 8 + 10 = 30 evenly_divisible(1, 10, 3) ➞ 18 # 3 + 6 + 9 = 18"
   ]
  },
  {
   "cell_type": "code",
   "execution_count": 1,
   "id": "70b4f6a3",
   "metadata": {},
   "outputs": [
    {
     "name": "stdout",
     "output_type": "stream",
     "text": [
      "(1, 10, 20) ➞ 0\n"
     ]
    }
   ],
   "source": [
    "def evenDivisible(a,b,c):\n",
    "    divList = []\n",
    "    for num in range(a,b+1):\n",
    "        if num%c == 0:\n",
    "            divList.append(num)\n",
    "    print(f'{a,b,c} ➞ {sum(divList)}')\n",
    "\n",
    "evenDivisible(1,10,20)"
   ]
  },
  {
   "cell_type": "code",
   "execution_count": null,
   "id": "192800d4",
   "metadata": {},
   "outputs": [],
   "source": [
    "2.Create a function that returns True if a given inequality expression is correct and False otherwise ?\n",
    "Examples:\n",
    "correct_signs(\"3 < 7 < 11\") ➞ True\n",
    "correct_signs(\"13 > 44 > 33 > 1\") ➞ False\n",
    "correct_signs(\"1 < 2 < 6 < 9 > 3\") ➞ True\n",
    "\n"
   ]
  },
  {
   "cell_type": "code",
   "execution_count": 2,
   "id": "5324b223",
   "metadata": {},
   "outputs": [
    {
     "name": "stdout",
     "output_type": "stream",
     "text": [
      "Enter the inequality: 3 < 7 < 11\n",
      "3 < 7 < 11 ➞ True\n",
      "Enter the inequality: 13 > 44 > 33 > 1\n",
      "13 > 44 > 33 > 1 ➞ False\n",
      "Enter the inequality: 1 < 2 < 6 < 9 > 3\n",
      "1 < 2 < 6 < 9 > 3 ➞ True\n"
     ]
    }
   ],
   "source": [
    "def checkEquality():\n",
    "    in_string = input('Enter the inequality: ')\n",
    "    out_bool = eval(in_string)\n",
    "    print(f'{in_string} ➞ {out_bool}')\n",
    "\n",
    "\n",
    "for x in range(3):\n",
    "    checkEquality()"
   ]
  },
  {
   "cell_type": "code",
   "execution_count": null,
   "id": "d7b5652f",
   "metadata": {},
   "outputs": [],
   "source": [
    "Write a function that calculates the factorial of a number recursively ?\n",
    "Examples:\n",
    "factorial(5) ➞ 120\n",
    "factorial(3) ➞ 6\n",
    "factorial(1) ➞ 1\n",
    "factorial(0) ➞ 1"
   ]
  },
  {
   "cell_type": "code",
   "execution_count": 3,
   "id": "a41734e0",
   "metadata": {},
   "outputs": [
    {
     "name": "stdout",
     "output_type": "stream",
     "text": [
      "factorial(5) ➞ 120\n"
     ]
    }
   ],
   "source": [
    "\n",
    "def factorial(n):\n",
    "    if n==0:\n",
    "        return 1\n",
    "    return n * factorial(n-1)\n",
    "\n",
    "print(f'factorial(5) ➞ {factorial(5)}')"
   ]
  },
  {
   "cell_type": "code",
   "execution_count": null,
   "id": "f2820d6e",
   "metadata": {},
   "outputs": [],
   "source": [
    "3.Create a function that replaces all the vowels in a string with a specified character ?\n",
    "Examples:\n",
    "replace_vowels(\"the aardvark\", \"#\") ➞ \"th# ##rdv#rk\"\n",
    "replace_vowels(\"minnie mouse\", \"?\") ➞ \"m?nn?? m??s?\"\n",
    "replace_vowels(\"shakespeare\", \"*\") ➞ \"shksp**r\""
   ]
  },
  {
   "cell_type": "code",
   "execution_count": null,
   "id": "8f2e84d3",
   "metadata": {},
   "outputs": [
    {
     "name": "stdout",
     "output_type": "stream",
     "text": [
      "String: \"the aardvark\"\n",
      "Replacement character: \"#\"\n",
      "\"the aardvark\" \"#\" ➞ \"th\"#\" \"#\"\"#\"rdv\"#\"rk\"\n"
     ]
    }
   ],
   "source": [
    "\n",
    "def replaceVowels():\n",
    "    vowels = ['a','e','i','o','u','A','E','I','O','U']\n",
    "    in_string = input(\"String: \")\n",
    "    in_string_copy = in_string\n",
    "    in_char = input('Replacement character: ')\n",
    "    for ele in in_string:\n",
    "        if ele in vowels:\n",
    "            in_string = in_string.replace(ele,in_char)\n",
    "    print(f'{in_string_copy} {in_char} ➞ {in_string}')\n",
    "            \n",
    "for x in range(3):\n",
    "    replaceVowels()"
   ]
  },
  {
   "cell_type": "code",
   "execution_count": null,
   "id": "51c0c48a",
   "metadata": {},
   "outputs": [],
   "source": []
  }
 ],
 "metadata": {
  "kernelspec": {
   "display_name": "Python 3 (ipykernel)",
   "language": "python",
   "name": "python3"
  },
  "language_info": {
   "codemirror_mode": {
    "name": "ipython",
    "version": 3
   },
   "file_extension": ".py",
   "mimetype": "text/x-python",
   "name": "python",
   "nbconvert_exporter": "python",
   "pygments_lexer": "ipython3",
   "version": "3.9.13"
  }
 },
 "nbformat": 4,
 "nbformat_minor": 5
}
