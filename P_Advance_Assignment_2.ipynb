{
 "cells": [
  {
   "cell_type": "code",
   "execution_count": null,
   "id": "ae7078ef",
   "metadata": {},
   "outputs": [],
   "source": [
    "Q1. What is the relationship between classes and modules?\n",
    "\n",
    "Modules can be imported into your code as they have  .py  extension also theycontain several classess/methods between them by the help of those metods /classess you can solved your current problem\n",
    "Class on the other hand is the blueprint which bind all data methods/attributes together for a specific purpose\n",
    "\n",
    "Q2. How do you make instances and classes?\n",
    "\n",
    "Class My_CASS_NAME:\n",
    "    def fun1(self):\n",
    "        return \"fun1\"\n",
    "    \n",
    "obj1=My_CASS_NAME ##Instance of class (My_CASS_NAME)\n",
    "\n",
    "Q3. Where and how should be class attributes created?\n",
    "\n",
    "class atributes are created when you want some variables to be used in all of your class instances and all methods can access it\n",
    "\n",
    "class My_class:\n",
    "    attribute_one =\"123\" ##class attribute\n",
    "\n",
    "Q4. Where and how are instance attributes created?\n",
    "\n",
    "instance attributes are created so that a object can be created andtose attributes should be defined with it like\n",
    "class My_class:\n",
    "    def __init__(self,a,b):\n",
    "        self.a=a\n",
    "        self.b=b\n",
    "        \n",
    "obj1=My_class(1,2)\n",
    "\n",
    "\n"
   ]
  },
  {
   "cell_type": "code",
   "execution_count": null,
   "id": "86e5f163",
   "metadata": {},
   "outputs": [],
   "source": []
  },
  {
   "cell_type": "markdown",
   "id": "efb1e83a",
   "metadata": {},
   "source": [
    "# Q5. What does the term &quot;self&quot; in a Python class mean?\n"
   ]
  },
  {
   "cell_type": "code",
   "execution_count": null,
   "id": "cbbf81a5",
   "metadata": {},
   "outputs": [],
   "source": [
    "self in python is used so that it can refer to the object of the class which is created \n"
   ]
  },
  {
   "cell_type": "code",
   "execution_count": null,
   "id": "839420d7",
   "metadata": {},
   "outputs": [],
   "source": []
  },
  {
   "cell_type": "markdown",
   "id": "29e4ef98",
   "metadata": {},
   "source": [
    "# Q6. How does a Python class handle operator overloading?"
   ]
  },
  {
   "cell_type": "code",
   "execution_count": null,
   "id": "5e15756d",
   "metadata": {},
   "outputs": [],
   "source": [
    "Using the magic methods python handles it by using double underscores before and after the method name "
   ]
  },
  {
   "cell_type": "code",
   "execution_count": 4,
   "id": "b06bebe4",
   "metadata": {},
   "outputs": [
    {
     "name": "stdout",
     "output_type": "stream",
     "text": [
      "39\n"
     ]
    }
   ],
   "source": [
    "class MY_CLASS:\n",
    "    def __init__(self,a):\n",
    "        self.a=a\n",
    "        \n",
    "    def __add__(self,b):\n",
    "        print(self.a + b.a)\n",
    "    \n",
    "obj1=MY_CLASS(19)\n",
    "obj2=MY_CLASS(20)\n",
    "\n",
    "obj1.__add__(obj2)"
   ]
  },
  {
   "cell_type": "code",
   "execution_count": null,
   "id": "58202588",
   "metadata": {},
   "outputs": [],
   "source": [
    "Q7. When do you consider allowing operator overloading of your classes?\n",
    "When we have different meaning for the same operator accroding to the context we use operator overloading."
   ]
  },
  {
   "cell_type": "code",
   "execution_count": null,
   "id": "da989a9f",
   "metadata": {},
   "outputs": [],
   "source": []
  },
  {
   "cell_type": "code",
   "execution_count": null,
   "id": "e525a9de",
   "metadata": {},
   "outputs": [],
   "source": [
    "Q8. What is the most popular form of operator overloading?"
   ]
  },
  {
   "cell_type": "code",
   "execution_count": 7,
   "id": "280b2559",
   "metadata": {},
   "outputs": [
    {
     "name": "stdout",
     "output_type": "stream",
     "text": [
      "39\n",
      "DEVANSH\n"
     ]
    }
   ],
   "source": [
    "class MY_CLASS:\n",
    "    def __init__(self,a):\n",
    "        self.a=a\n",
    "        \n",
    "    def __add__(self,b):\n",
    "        print(self.a + b.a)\n",
    "    \n",
    "obj1=MY_CLASS(19)\n",
    "obj2=MY_CLASS(20)\n",
    "\n",
    "obj3=MY_CLASS('DEV')\n",
    "obj4=MY_CLASS('ANSH')\n",
    "\n",
    "obj1.__add__(obj2)\n",
    "obj3.__add__(obj4)"
   ]
  },
  {
   "cell_type": "code",
   "execution_count": null,
   "id": "a9df4c83",
   "metadata": {},
   "outputs": [],
   "source": [
    "Q9. What are the two most important concepts to grasp in order to comprehend Python OOP code?"
   ]
  },
  {
   "cell_type": "code",
   "execution_count": null,
   "id": "ccc18df1",
   "metadata": {},
   "outputs": [],
   "source": [
    "classes and objects ,also python OOP's inheritance, polymorphism, encapsulation and abstraction ."
   ]
  }
 ],
 "metadata": {
  "kernelspec": {
   "display_name": "Python 3 (ipykernel)",
   "language": "python",
   "name": "python3"
  },
  "language_info": {
   "codemirror_mode": {
    "name": "ipython",
    "version": 3
   },
   "file_extension": ".py",
   "mimetype": "text/x-python",
   "name": "python",
   "nbconvert_exporter": "python",
   "pygments_lexer": "ipython3",
   "version": "3.9.13"
  }
 },
 "nbformat": 4,
 "nbformat_minor": 5
}
