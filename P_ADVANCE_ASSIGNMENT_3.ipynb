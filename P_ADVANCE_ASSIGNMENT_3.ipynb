{
 "cells": [
  {
   "cell_type": "markdown",
   "id": "383184ce",
   "metadata": {},
   "source": [
    "# 1. What is the concept of an abstract superclass?"
   ]
  },
  {
   "cell_type": "code",
   "execution_count": null,
   "id": "20fbdcd0",
   "metadata": {},
   "outputs": [],
   "source": [
    "abstract superclass contains methods but do not contain execution of them so any class who will inherit it have to give implementation of all the classes"
   ]
  },
  {
   "cell_type": "code",
   "execution_count": null,
   "id": "2264138b",
   "metadata": {},
   "outputs": [],
   "source": []
  },
  {
   "cell_type": "markdown",
   "id": "38abaca3",
   "metadata": {},
   "source": [
    "# 2. What happens when a class statement's top level contains a basic assignment statement?"
   ]
  },
  {
   "cell_type": "code",
   "execution_count": null,
   "id": "d2b27317",
   "metadata": {},
   "outputs": [],
   "source": [
    "Class statements contain a top level assignment to specify that as a class level attributes which is accessible to all methods/funcions of the class"
   ]
  },
  {
   "cell_type": "code",
   "execution_count": null,
   "id": "25d4a846",
   "metadata": {},
   "outputs": [],
   "source": []
  },
  {
   "cell_type": "code",
   "execution_count": null,
   "id": "072e53f3",
   "metadata": {},
   "outputs": [],
   "source": [
    "3. Why does a class need to manually call a superclass's init method?"
   ]
  },
  {
   "cell_type": "code",
   "execution_count": null,
   "id": "652f9c74",
   "metadata": {},
   "outputs": [],
   "source": [
    "to inhibit its attributes in its __init__ method.\n",
    "hild class has __init__ method, then it will not inherit the __init__ method of the parent class. in other words the __init__ method of the child class overrides the __init__ method of the parent class. "
   ]
  },
  {
   "cell_type": "code",
   "execution_count": null,
   "id": "6a5c9eeb",
   "metadata": {},
   "outputs": [],
   "source": []
  },
  {
   "cell_type": "code",
   "execution_count": null,
   "id": "f2fc592b",
   "metadata": {},
   "outputs": [],
   "source": [
    "4. How can you augment, instead of completely replacing, an inherited method?\n",
    "Ans: super() method can be used to augment, instead of completely replacing, an inherited method."
   ]
  },
  {
   "cell_type": "code",
   "execution_count": null,
   "id": "222cb16e",
   "metadata": {},
   "outputs": [],
   "source": []
  },
  {
   "cell_type": "code",
   "execution_count": null,
   "id": "197af3f3",
   "metadata": {},
   "outputs": [],
   "source": [
    "5. How is the local scope of a class different from that of a function?\n",
    "Ans: A Variable which is defined inside a function is local to that function. it is accesible from the point at which it is defined until the end of the function, and exists for as long as the function is existing.\n",
    "\n",
    "Similary a variable inside of a class also has a local variable scope. Variables which are defined in the class body (but outside all methods) are called as class level variables or class attributes. they can be referenced by there bare names within the same scope, but they can also be accessed from outside this scope if we use the attribute access operator (.). on a class or an instance of the class."
   ]
  },
  {
   "cell_type": "code",
   "execution_count": null,
   "id": "fd275e28",
   "metadata": {},
   "outputs": [],
   "source": []
  },
  {
   "cell_type": "code",
   "execution_count": 5,
   "id": "369af8e4",
   "metadata": {},
   "outputs": [
    {
     "name": "stdout",
     "output_type": "stream",
     "text": [
      "12345\n"
     ]
    },
    {
     "data": {
      "text/plain": [
       "14"
      ]
     },
     "execution_count": 5,
     "metadata": {},
     "output_type": "execute_result"
    }
   ],
   "source": [
    "class My_Class:\n",
    "    \n",
    "    attr='12345'\n",
    "    \n",
    "    def func1(a):\n",
    "        a=14\n",
    "        return a\n",
    "    \n",
    "obj=My_Class\n",
    "print(My_Class.attr)  ##class level attribute access\n",
    "obj.func1(22)         ##function level attribute access"
   ]
  },
  {
   "cell_type": "code",
   "execution_count": null,
   "id": "4449f434",
   "metadata": {},
   "outputs": [],
   "source": []
  }
 ],
 "metadata": {
  "kernelspec": {
   "display_name": "Python 3 (ipykernel)",
   "language": "python",
   "name": "python3"
  },
  "language_info": {
   "codemirror_mode": {
    "name": "ipython",
    "version": 3
   },
   "file_extension": ".py",
   "mimetype": "text/x-python",
   "name": "python",
   "nbconvert_exporter": "python",
   "pygments_lexer": "ipython3",
   "version": "3.9.13"
  }
 },
 "nbformat": 4,
 "nbformat_minor": 5
}
