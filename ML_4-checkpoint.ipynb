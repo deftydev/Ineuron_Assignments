{
 "cells": [
  {
   "cell_type": "code",
   "execution_count": null,
   "id": "64f45a1c",
   "metadata": {},
   "outputs": [],
   "source": [
    "What are the key tasks involved in getting ready to work with machine learning modeling?\n",
    "\n",
    "First we have to classify our dataset is following a linear relationship or not whether it is labelled or unlabelled dataset,\n",
    "the classify the equation for it .\n",
    "\n"
   ]
  },
  {
   "cell_type": "code",
   "execution_count": null,
   "id": "feda5fa7",
   "metadata": {},
   "outputs": [],
   "source": [
    "2. What are the different forms of data used in machine learning? Give a specific example for each of\n",
    "them.\n",
    "\n",
    "qualitative and quantitatiove data is used in machine learning\n",
    "\n",
    "quantitative data is numerical while quanlitaive data is categorical (nominal/ordinal/ratio).\n",
    "\n",
    "numerical- weight , height problem\n",
    "categorical data- distribution of balls or ranks in class."
   ]
  },
  {
   "cell_type": "code",
   "execution_count": null,
   "id": "f419d882",
   "metadata": {},
   "outputs": [],
   "source": []
  },
  {
   "cell_type": "code",
   "execution_count": null,
   "id": "919945e2",
   "metadata": {},
   "outputs": [],
   "source": [
    "Distinguish:\n",
    "\n",
    "1. Numeric vs. categorical attributes\n",
    "\n",
    "umerical- weight , height problem - numeric in nature\n",
    "categorical data- distribution of balls or ranks in class- This adta can be classified into categories.\n",
    "\n",
    "2. Feature selection vs. dimensionality reduction\n",
    "\n",
    "Feature selction simply means to include those input features which can contribute in predicting the output , on the other hand \n",
    "dimensionality reduction means to convert 3d data to 2d space by reducing its dimension . -- PCA is used to achive d reduction."
   ]
  },
  {
   "cell_type": "code",
   "execution_count": null,
   "id": "418d11ac",
   "metadata": {},
   "outputs": [],
   "source": []
  },
  {
   "cell_type": "code",
   "execution_count": null,
   "id": "187ab1d4",
   "metadata": {},
   "outputs": [],
   "source": [
    "4. Make quick notes on any two of the following:\n",
    "\n",
    "1. The histogram\n",
    "\n",
    "to plot the frequency of each of the inputs \n",
    "sns.histplot()\n",
    "\n",
    "2. Use a scatter plot\n",
    "\n",
    "to found the similarity between the two inputs or two features \n",
    "sns.scatterplot()"
   ]
  },
  {
   "cell_type": "code",
   "execution_count": null,
   "id": "45120a25",
   "metadata": {},
   "outputs": [],
   "source": []
  },
  {
   "cell_type": "code",
   "execution_count": null,
   "id": "7f5b6dea",
   "metadata": {},
   "outputs": [],
   "source": [
    "5. Why is it necessary to investigate data? Is there a discrepancy in how qualitative and quantitative\n",
    "data are explored?\n",
    "\n",
    "It is necessary to investigate data so to know about the data and remove any outliers, or doing scaling , normalizing the data \n",
    "for better accuracy.\n",
    "\n",
    "quantitaive data is numerical in nature , qualitative data is categorical in nature"
   ]
  },
  {
   "cell_type": "code",
   "execution_count": null,
   "id": "04a43dde",
   "metadata": {},
   "outputs": [],
   "source": []
  },
  {
   "cell_type": "code",
   "execution_count": null,
   "id": "3a486738",
   "metadata": {},
   "outputs": [],
   "source": [
    " What are the various histogram shapes? What exactly are ‘bins' ?\n",
    "Ans: The different types of a Histogram are:\n",
    "\n",
    "Uniform Histogram\n",
    "Symmetric Histogram\n",
    "Bimodal Histogram\n",
    "Probability Histogram.\n",
    "The bin in a histogram is the choice of unit and spacing on the X-axis. All the data in a probability distribution represented visually by a histogram is filled into the corresponding bins.\n",
    "The height of each bin is a measurement of the frequency with which data appears inside the range of that bin in the distribution."
   ]
  },
  {
   "cell_type": "code",
   "execution_count": null,
   "id": "24145715",
   "metadata": {},
   "outputs": [],
   "source": []
  },
  {
   "cell_type": "code",
   "execution_count": null,
   "id": "a9a71e30",
   "metadata": {},
   "outputs": [],
   "source": [
    "7. How do we deal with data outliers?\n",
    "\n",
    "by using z-score we can \n",
    "z = x- mu / s.d\n",
    "\n",
    "Z-Score:  just one line code as we have already calculated the Z-score.\n",
    "boston_df_o = boston_df_o[(z < 3).all(axis=1)]\n",
    "\n",
    "IQR Score: Calculate IQR score to filter out the outliers by keeping only valid values.\n",
    "boston_df_out = boston_df_o1[~((boston_df_o1 < (Q1 - 1.5 * IQR)) |(boston_df_o1 > (Q3 + 1.5 *IQR))).any(axis=1)]\n",
    "boston_df_out.shape\n",
    "\n",
    "Quantile function: Use quantile() to remove amount of data."
   ]
  },
  {
   "cell_type": "code",
   "execution_count": null,
   "id": "e0fd89b5",
   "metadata": {},
   "outputs": [],
   "source": []
  },
  {
   "cell_type": "code",
   "execution_count": null,
   "id": "c2318781",
   "metadata": {},
   "outputs": [],
   "source": [
    "8. What are the various central inclination measures? Why does mean vary too much from median in\n",
    "certain data sets?\n",
    "\n",
    "mean and median , mode are the ones.\n",
    "\n",
    "as because of the outliers mean vary to much from median.\n"
   ]
  },
  {
   "cell_type": "code",
   "execution_count": null,
   "id": "55b3c01f",
   "metadata": {},
   "outputs": [],
   "source": []
  },
  {
   "cell_type": "code",
   "execution_count": null,
   "id": "5f886242",
   "metadata": {},
   "outputs": [],
   "source": [
    "9. Describe how a scatter plot can be used to investigate bivariate relationships. Is it possible to find\n",
    "outliers using a scatter plot?"
   ]
  },
  {
   "cell_type": "code",
   "execution_count": null,
   "id": "5321e4aa",
   "metadata": {},
   "outputs": [],
   "source": [
    "it describes the correlation between the two input features x and y .\n",
    "\n",
    "Scatter plot can also help finding outliers as outliers can be visualized at farther distance than regular data."
   ]
  },
  {
   "cell_type": "code",
   "execution_count": null,
   "id": "e295f42b",
   "metadata": {},
   "outputs": [],
   "source": []
  },
  {
   "cell_type": "code",
   "execution_count": null,
   "id": "0a2ab9ef",
   "metadata": {},
   "outputs": [],
   "source": [
    "10. Describe how cross-tabs can be used to figure out how two variables are related.\n",
    "\n",
    "pd.crosstab - it is to find the frequency table for eachof the data present."
   ]
  }
 ],
 "metadata": {
  "kernelspec": {
   "display_name": "Python 3 (ipykernel)",
   "language": "python",
   "name": "python3"
  },
  "language_info": {
   "codemirror_mode": {
    "name": "ipython",
    "version": 3
   },
   "file_extension": ".py",
   "mimetype": "text/x-python",
   "name": "python",
   "nbconvert_exporter": "python",
   "pygments_lexer": "ipython3",
   "version": "3.9.13"
  }
 },
 "nbformat": 4,
 "nbformat_minor": 5
}
