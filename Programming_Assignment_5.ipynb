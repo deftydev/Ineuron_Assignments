{
 "cells": [
  {
   "cell_type": "markdown",
   "id": "d496f496",
   "metadata": {},
   "source": [
    "# 1. Write a Python Program to Find LCM?"
   ]
  },
  {
   "cell_type": "code",
   "execution_count": 11,
   "id": "5b82bcbb",
   "metadata": {},
   "outputs": [
    {
     "name": "stdout",
     "output_type": "stream",
     "text": [
      "4\n",
      "15\n",
      "60\n"
     ]
    }
   ],
   "source": [
    "num=int(input())\n",
    "num1=num\n",
    "num2=int(input())\n",
    "num3=num2\n",
    "\n",
    "if num>num2:\n",
    "    nu=num\n",
    "    den=num2\n",
    "else:\n",
    "    nu=num2\n",
    "    den=num\n",
    "    \n",
    "rem=nu%den\n",
    "\n",
    "while(rem!=0):\n",
    "    num=den\n",
    "    den=rem\n",
    "    rem=num%den\n",
    "gcdd=den\n",
    "print((num1*num3)//gcdd)\n",
    "    "
   ]
  },
  {
   "cell_type": "markdown",
   "id": "d78c6883",
   "metadata": {},
   "source": [
    "# 2. Write a Python Program to Find HCF?"
   ]
  },
  {
   "cell_type": "code",
   "execution_count": 15,
   "id": "b550bd94",
   "metadata": {},
   "outputs": [
    {
     "name": "stdout",
     "output_type": "stream",
     "text": [
      "10\n"
     ]
    }
   ],
   "source": [
    "num=10\n",
    "num1=20\n",
    "nu=0\n",
    "if num<num1:\n",
    "    nu=num\n",
    "else:\n",
    "    nu=num1\n",
    "hcff=0   \n",
    "for i in range(1,nu+1):\n",
    "    if(num%i==0) and num1%i==0 :\n",
    "        hcff=i\n",
    "        \n",
    "print(hcff)"
   ]
  },
  {
   "cell_type": "markdown",
   "id": "87cdaf14",
   "metadata": {},
   "source": [
    "# 3. Write a Python Program to Convert Decimal to Binary, Octal and Hexadecimal?"
   ]
  },
  {
   "cell_type": "code",
   "execution_count": 17,
   "id": "121ddbe5",
   "metadata": {},
   "outputs": [
    {
     "name": "stdout",
     "output_type": "stream",
     "text": [
      "Enter a decimal number: 10\n",
      "0b1010 in binary.\n",
      "0o12 in octal.\n",
      "0xa in hexadecimal.\n"
     ]
    }
   ],
   "source": [
    "dec = int(input(\"Enter a decimal number: \"))\n",
    "print(bin(dec),\"in binary.\")\n",
    "print(oct(dec),\"in octal.\")\n",
    "print(hex(dec),\"in hexadecimal.\")"
   ]
  },
  {
   "cell_type": "markdown",
   "id": "49cf7825",
   "metadata": {},
   "source": [
    "# 4. Write a Python Program To Find ASCII value of a character?"
   ]
  },
  {
   "cell_type": "code",
   "execution_count": 20,
   "id": "a8c50e41",
   "metadata": {},
   "outputs": [
    {
     "name": "stdout",
     "output_type": "stream",
     "text": [
      "Enter a character: a\n",
      "97 in ascii\n"
     ]
    }
   ],
   "source": [
    "chr1 = input(\"Enter a character: \")\n",
    "print(ord(str(chr1)),\"in ascii\")\n"
   ]
  },
  {
   "cell_type": "markdown",
   "id": "15a2ac15",
   "metadata": {},
   "source": [
    "# 5. Write a Python Program to Make a Simple Calculator with 4 basic mathematical operations?"
   ]
  },
  {
   "cell_type": "code",
   "execution_count": 23,
   "id": "eeec32d7",
   "metadata": {},
   "outputs": [
    {
     "name": "stdout",
     "output_type": "stream",
     "text": [
      "5\n",
      "30\n",
      "2\n",
      "-193\n"
     ]
    }
   ],
   "source": [
    "def add(x,y):\n",
    "    print(x+y)\n",
    "    \n",
    "def sub(x,y):\n",
    "    print(x-y)\n",
    "    \n",
    "def mul(x,y):\n",
    "    print(x*y)\n",
    "    \n",
    "def div(x,y):\n",
    "    print(x//y)\n",
    "    \n",
    "add(2,3)\n",
    "mul(5,6)\n",
    "div(14,7)\n",
    "sub(7,200)\n"
   ]
  },
  {
   "cell_type": "code",
   "execution_count": null,
   "id": "a2c5362a",
   "metadata": {},
   "outputs": [],
   "source": []
  }
 ],
 "metadata": {
  "kernelspec": {
   "display_name": "Python 3 (ipykernel)",
   "language": "python",
   "name": "python3"
  },
  "language_info": {
   "codemirror_mode": {
    "name": "ipython",
    "version": 3
   },
   "file_extension": ".py",
   "mimetype": "text/x-python",
   "name": "python",
   "nbconvert_exporter": "python",
   "pygments_lexer": "ipython3",
   "version": "3.9.13"
  }
 },
 "nbformat": 4,
 "nbformat_minor": 5
}
