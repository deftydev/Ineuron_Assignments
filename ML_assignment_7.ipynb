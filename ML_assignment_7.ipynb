{
 "cells": [
  {
   "cell_type": "code",
   "execution_count": null,
   "id": "cea1e76b",
   "metadata": {},
   "outputs": [],
   "source": [
    "1. What is the definition of a target function? In the sense of a real-life example, express the target\n",
    "function. How is a target function&#39;s fitness assessed?\n",
    "\n",
    "Target function is a dependent variable which is dependent on various indpendent features in a dataset and machine learning\n",
    "algorithm tries to predict output for it based on supplied inputs .\n",
    "\n",
    "It canbe assessed using means squared erorr in regression and in classification , accuracy, recal, roc, auc curve can be used.\n",
    "\n",
    "2. What are predictive models, and how do they work? What are descriptive types, and how do you\n",
    "use them? Examples of both types of models should be provided. Distinguish between these two\n",
    "forms of models.\n",
    "\n",
    "descriptive - \n",
    "It simply means to having new insights from the data , used in unsupervised learning.\n",
    "Customer segmentation is an example of it.\n",
    "predictive models-:\n",
    "    It means to predict the target output value which is a dependent variable.\n",
    "    Target function is a dependent variable which is dependent on various indpendent features in a dataset and machine learning\n",
    "algorithm tries to predict output for it based on supplied inputs ."
   ]
  },
  {
   "cell_type": "code",
   "execution_count": null,
   "id": "f250b909",
   "metadata": {},
   "outputs": [],
   "source": []
  },
  {
   "cell_type": "code",
   "execution_count": null,
   "id": "dd9db007",
   "metadata": {},
   "outputs": [],
   "source": [
    "3. Describe the method of assessing a classification model&#39;s efficiency in detail. Describe the various\n",
    "measurement parameters.\n",
    "\n",
    "Various measurement parametres include\n",
    "accuracy= TP+TN/ TP+FP+FN+TN\n",
    "RECALL = TP/ TP+FN\n",
    "PRECISION = TP/TP+FP\n",
    "\n",
    "\n",
    "4.\n",
    "i. In the sense of machine learning models, what is underfitting? What is the most common\n",
    "reason for underfitting?\n",
    "When our algorithm is unable to catch whole number of data points , it is due to high bias and low variance of algo supplied\n",
    "to the model for training.\n",
    "\n",
    "ii. What does it mean to overfit? When is it going to happen?\n",
    "overfitting simply means when model is try to capture all the data points , which in return decreases the accuracy of the model.\n",
    "\n",
    "iii. In the sense of model fitting, explain the bias-variance trade-off.\n",
    "high bias means high error , low variance means your line is not adjusting correctly when new data points are supplied to it."
   ]
  },
  {
   "cell_type": "code",
   "execution_count": null,
   "id": "d984c366",
   "metadata": {},
   "outputs": [],
   "source": []
  },
  {
   "cell_type": "code",
   "execution_count": null,
   "id": "5018896f",
   "metadata": {},
   "outputs": [],
   "source": [
    "5. Is it possible to boost the efficiency of a learning model? If so, please clarify how.\n",
    "by hypertuning the hyperparametres or by applying GRIDSEARCH CV technique.\n",
    "\n",
    "6. How would you rate an unsupervised learning model&#39;s success? What are the most common\n",
    "success indicators for an unsupervised learning model?\n",
    "when you model is predicting correct values on unknown dataset.\n",
    "Few examples of such measures are:\n",
    "\n",
    "Silhouette coefficient.\n",
    "\n",
    "\n",
    "7. Is it possible to use a classification model for numerical data or a regression model for categorical\n",
    "data with a classification model? Explain your answer.\n",
    "\n",
    "No its not possible as the output variable is of different type\n",
    "\n",
    "8. Describe the predictive modeling method for numerical values. What distinguishes it from\n",
    "categorical predictive modeling?\n",
    " Describe the predictive modeling method for numerical values. What distinguishes it from categorical predictive modeling ?\n",
    "Ans: predictive modeling is a statistical technique using machine learning and data mining to predict and\n",
    "    forecast likely future outcomes with the aid of historical\n",
    "    and existing data. It works by analyzing current and historical data and projecting what it learns on\n",
    "    a model generated to forecast likely outcomes.\n",
    "\n",
    "Classification is the process of identifying the category \n",
    "or class label of the new observation to which it belongs.Predication is the process of identifying the missing or \n",
    "unavailable numerical data for a new observation. That is the key difference between classification and prediction.\n"
   ]
  },
  {
   "cell_type": "markdown",
   "id": "587f4d02",
   "metadata": {},
   "source": [
    "# 10. Define the following terms:\n",
    "Purity vs. Silhouette width\n",
    "Boosting vs. Bagging\n",
    "The eager learner vs. the lazy learner\n",
    "Ans: The Following is the short notes on:\n",
    "\n",
    "Purity vs Silhouette width:\n",
    "\n",
    "Purity is a measure of the extent to which clusters contain a single class. Its calculation can be thought of as follows:\n",
    "    For each cluster, count the number of data points from the most common class in said cluster.\n",
    "The silhouette width is also \n",
    "an estimate of the average distance\n",
    "between clusters. Its value is comprised between 1 and -1 with a value of 1 indicating a very good cluster.\n",
    "Boosting vs. Bagging:\n",
    "\n",
    "Bagging is a way to decrease the variance in the prediction by generating\n",
    "additional data for training from dataset using combinations with repetitions to produce multi-sets of the original data.\n",
    "Boosting is an iterative technique which adjusts the weight of an observation based on the las\n",
    "t classification."
   ]
  },
  {
   "cell_type": "code",
   "execution_count": null,
   "id": "359df55a",
   "metadata": {},
   "outputs": [],
   "source": []
  }
 ],
 "metadata": {
  "kernelspec": {
   "display_name": "Python 3 (ipykernel)",
   "language": "python",
   "name": "python3"
  },
  "language_info": {
   "codemirror_mode": {
    "name": "ipython",
    "version": 3
   },
   "file_extension": ".py",
   "mimetype": "text/x-python",
   "name": "python",
   "nbconvert_exporter": "python",
   "pygments_lexer": "ipython3",
   "version": "3.9.13"
  }
 },
 "nbformat": 4,
 "nbformat_minor": 5
}
