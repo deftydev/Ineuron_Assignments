{
 "cells": [
  {
   "cell_type": "markdown",
   "id": "0e52bf57",
   "metadata": {},
   "source": [
    "# Q1. Describe three applications for exception processing.\n",
    "\n",
    "The applications will be when you wantuser to not provide invalid input(), to handle arithmetic/zero division errors or to handle file not found errors\n",
    "IN Banking applications, calculator program or in enterprise database\n",
    "\n"
   ]
  },
  {
   "cell_type": "code",
   "execution_count": null,
   "id": "b03429cc",
   "metadata": {},
   "outputs": [],
   "source": []
  },
  {
   "cell_type": "markdown",
   "id": "9a7b088a",
   "metadata": {},
   "source": [
    "# Q2. What happens if you don&#39;t do something extra to treat an exception?"
   ]
  },
  {
   "cell_type": "code",
   "execution_count": null,
   "id": "84e0fc4d",
   "metadata": {},
   "outputs": [],
   "source": [
    "The program will be crashed and end user will not be able to understand what to do next"
   ]
  },
  {
   "cell_type": "code",
   "execution_count": null,
   "id": "9120a4d0",
   "metadata": {},
   "outputs": [],
   "source": []
  },
  {
   "cell_type": "markdown",
   "id": "8feadbd8",
   "metadata": {},
   "source": [
    "# Q3. What are your options for recovering from an exception in your script?\n",
    "\n",
    "try:\n",
    "    a=a/0\n",
    "except Exception as e:\n",
    "    print(e)\n",
    "    \n",
    "    try and except are the two methods"
   ]
  },
  {
   "cell_type": "code",
   "execution_count": null,
   "id": "863b00f5",
   "metadata": {},
   "outputs": [],
   "source": []
  },
  {
   "cell_type": "markdown",
   "id": "3b8864c3",
   "metadata": {},
   "source": [
    "# 4. Describe two methods for triggering exceptions in your script.\n",
    "\n",
    "raise and assert are used to raise an exception , asser is used to raise an exception if the maintained condition is not True"
   ]
  },
  {
   "cell_type": "code",
   "execution_count": 2,
   "id": "f3e701ba",
   "metadata": {},
   "outputs": [
    {
     "ename": "Exception",
     "evalue": "a value should not be greater than 3",
     "output_type": "error",
     "traceback": [
      "\u001b[1;31m---------------------------------------------------------------------------\u001b[0m",
      "\u001b[1;31mException\u001b[0m                                 Traceback (most recent call last)",
      "\u001b[1;32m~\\AppData\\Local\\Temp\\ipykernel_9536\\729883656.py\u001b[0m in \u001b[0;36m<module>\u001b[1;34m\u001b[0m\n\u001b[0;32m      1\u001b[0m \u001b[0ma\u001b[0m\u001b[1;33m=\u001b[0m\u001b[1;36m5\u001b[0m\u001b[1;33m\u001b[0m\u001b[1;33m\u001b[0m\u001b[0m\n\u001b[1;32m----> 2\u001b[1;33m \u001b[1;32mraise\u001b[0m \u001b[0mException\u001b[0m\u001b[1;33m(\u001b[0m\u001b[1;34m'a value should not be greater than 3'\u001b[0m\u001b[1;33m)\u001b[0m\u001b[1;33m\u001b[0m\u001b[1;33m\u001b[0m\u001b[0m\n\u001b[0m\u001b[0;32m      3\u001b[0m \u001b[1;33m\u001b[0m\u001b[0m\n",
      "\u001b[1;31mException\u001b[0m: a value should not be greater than 3"
     ]
    }
   ],
   "source": [
    "a=5\n",
    "raise Exception('a value should not be greater than 3')\n",
    "\n"
   ]
  },
  {
   "cell_type": "code",
   "execution_count": 4,
   "id": "a419511e",
   "metadata": {},
   "outputs": [
    {
     "ename": "AssertionError",
     "evalue": "5 is not equal to 6",
     "output_type": "error",
     "traceback": [
      "\u001b[1;31m---------------------------------------------------------------------------\u001b[0m",
      "\u001b[1;31mAssertionError\u001b[0m                            Traceback (most recent call last)",
      "\u001b[1;32m~\\AppData\\Local\\Temp\\ipykernel_9536\\4035841785.py\u001b[0m in \u001b[0;36m<module>\u001b[1;34m\u001b[0m\n\u001b[1;32m----> 1\u001b[1;33m \u001b[1;32massert\u001b[0m\u001b[1;33m(\u001b[0m\u001b[1;36m5\u001b[0m\u001b[1;33m==\u001b[0m\u001b[1;36m6\u001b[0m\u001b[1;33m)\u001b[0m\u001b[1;33m,\u001b[0m\u001b[1;34m'5 is not equal to 6'\u001b[0m\u001b[1;33m\u001b[0m\u001b[1;33m\u001b[0m\u001b[0m\n\u001b[0m",
      "\u001b[1;31mAssertionError\u001b[0m: 5 is not equal to 6"
     ]
    }
   ],
   "source": [
    "assert(5==6),'5 is not equal to 6'"
   ]
  },
  {
   "cell_type": "code",
   "execution_count": null,
   "id": "3eacbeb9",
   "metadata": {},
   "outputs": [],
   "source": []
  },
  {
   "cell_type": "markdown",
   "id": "be69483e",
   "metadata": {},
   "source": [
    "# Q5. Identify two methods for specifying actions to be executed at termination time, regardless of\n",
    "whether or not an exception exists."
   ]
  },
  {
   "cell_type": "code",
   "execution_count": null,
   "id": "d5c0767b",
   "metadata": {},
   "outputs": [],
   "source": [
    "else- when no exception is occured\n",
    "finally- it ill get executed if there exista exception or not"
   ]
  }
 ],
 "metadata": {
  "kernelspec": {
   "display_name": "Python 3 (ipykernel)",
   "language": "python",
   "name": "python3"
  },
  "language_info": {
   "codemirror_mode": {
    "name": "ipython",
    "version": 3
   },
   "file_extension": ".py",
   "mimetype": "text/x-python",
   "name": "python",
   "nbconvert_exporter": "python",
   "pygments_lexer": "ipython3",
   "version": "3.9.13"
  }
 },
 "nbformat": 4,
 "nbformat_minor": 5
}
