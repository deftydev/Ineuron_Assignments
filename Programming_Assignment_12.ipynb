{
 "cells": [
  {
   "cell_type": "code",
   "execution_count": null,
   "id": "6e65f938",
   "metadata": {},
   "outputs": [],
   "source": [
    "1. Write a Python program to Extract Unique values dictionary values?\n",
    "2. Write a Python program to find the sum of all items in a dictionary?\n",
    "3. Write a Python program to Merging two Dictionaries?\n",
    "4. Write a Python program to convert key-values list to flat dictionary?\n",
    "5. Write a Python program to insertion at the beginning in OrderedDict?\n",
    "6. Write a Python program to check order of character in string using OrderedDict()?\n",
    "7. Write a Python program to sort Python Dictionaries by Key or Value?"
   ]
  },
  {
   "cell_type": "code",
   "execution_count": 1,
   "id": "fc4e731e",
   "metadata": {},
   "outputs": [
    {
     "name": "stdout",
     "output_type": "stream",
     "text": [
      "john\n"
     ]
    }
   ],
   "source": [
    "import collections\n",
    "d={'0':'dev','1':'ron','2':'john','3':'dev','4':'ron'}\n",
    "l=list()\n",
    "for i,j in d.items():\n",
    "    l.append(j)\n",
    "    \n",
    "for i,j in collections.Counter(l).items():\n",
    "    if j==1:\n",
    "        print(i)"
   ]
  },
  {
   "cell_type": "code",
   "execution_count": null,
   "id": "bf02b0db",
   "metadata": {},
   "outputs": [],
   "source": [
    "2. Write a Python program to find the sum of all items in a dictionary?"
   ]
  },
  {
   "cell_type": "code",
   "execution_count": 2,
   "id": "76a07d8e",
   "metadata": {},
   "outputs": [
    {
     "name": "stdout",
     "output_type": "stream",
     "text": [
      "17\n"
     ]
    }
   ],
   "source": [
    "import collections\n",
    "d={'0':1,'1':2,'2':3,'3':4,'4':7}\n",
    "summ=0\n",
    "for i,j in d.items():\n",
    "    summ=summ+j\n",
    "    \n",
    "print(summ)"
   ]
  },
  {
   "cell_type": "code",
   "execution_count": null,
   "id": "58a1d7ed",
   "metadata": {},
   "outputs": [],
   "source": [
    "3. Write a Python program to Merging two Dictionaries?"
   ]
  },
  {
   "cell_type": "code",
   "execution_count": 3,
   "id": "bb14fa74",
   "metadata": {},
   "outputs": [
    {
     "name": "stdout",
     "output_type": "stream",
     "text": [
      "{'a': 10, 'b': 8, 'd': 6, 'c': 4}\n"
     ]
    }
   ],
   "source": [
    "dict1 = {'a': 10, 'b': 8}\n",
    "dict2 = {'d': 6, 'c': 4}\n",
    " \n",
    "dict1.update(dict2)\n",
    "print(dict1)"
   ]
  },
  {
   "cell_type": "code",
   "execution_count": null,
   "id": "188ae64a",
   "metadata": {},
   "outputs": [],
   "source": [
    "4. Write a Python program to convert key-values list to flat dictionary?"
   ]
  },
  {
   "cell_type": "code",
   "execution_count": 5,
   "id": "5a431e56",
   "metadata": {},
   "outputs": [
    {
     "name": "stdout",
     "output_type": "stream",
     "text": [
      "{1: 'Jan', 2: 'Feb', 3: 'March'}\n"
     ]
    }
   ],
   "source": [
    "test_dict = {'month' : [1, 2, 3],\n",
    "             'name' : ['Jan', 'Feb', 'March']}\n",
    " \n",
    "res= dict(zip(test_dict['month'],test_dict['name']))\n",
    "print(res)"
   ]
  },
  {
   "cell_type": "code",
   "execution_count": null,
   "id": "facccc8a",
   "metadata": {},
   "outputs": [],
   "source": [
    "5. Write a Python program to insertion at the beginning in OrderedDict?"
   ]
  },
  {
   "cell_type": "code",
   "execution_count": 19,
   "id": "689c4731",
   "metadata": {},
   "outputs": [
    {
     "name": "stdout",
     "output_type": "stream",
     "text": [
      "OrderedDict([('manjeet', '4'), ('akash', '4'), ('akshat', '1'), ('nikhil', '2')])\n"
     ]
    }
   ],
   "source": [
    "import collections\n",
    "from collections import OrderedDict\n",
    "\n",
    "ini_dict1 = OrderedDict([('akshat', '1'), ('nikhil', '2')])\n",
    "ini_dict2 = OrderedDict([(\"manjeet\", '4'), (\"akash\", '4')])\n",
    " \n",
    "\n",
    "both = OrderedDict(list(ini_dict2.items()) + list(ini_dict1.items()))\n",
    "print(both)\n"
   ]
  },
  {
   "cell_type": "code",
   "execution_count": null,
   "id": "2050b972",
   "metadata": {},
   "outputs": [],
   "source": []
  },
  {
   "cell_type": "code",
   "execution_count": null,
   "id": "f3ec1f97",
   "metadata": {},
   "outputs": [],
   "source": [
    "6. Write a Python program to check order of character in string using OrderedDict()?"
   ]
  },
  {
   "cell_type": "code",
   "execution_count": null,
   "id": "8b5a6deb",
   "metadata": {},
   "outputs": [],
   "source": []
  },
  {
   "cell_type": "code",
   "execution_count": null,
   "id": "d8edbb68",
   "metadata": {},
   "outputs": [],
   "source": [
    "7. Write a Python program to sort Python Dictionaries by Key or Value?"
   ]
  },
  {
   "cell_type": "code",
   "execution_count": 24,
   "id": "7ad29bb6",
   "metadata": {},
   "outputs": [
    {
     "name": "stdout",
     "output_type": "stream",
     "text": [
      "[('a', 10), ('b', 8), ('c', 4), ('d', 6)]\n"
     ]
    }
   ],
   "source": [
    "#key\n",
    "d = {'a': 10, 'b': 8,'d': 6, 'c': 4}\n",
    "l=list(d)\n",
    "d=sorted(d.items(),key=lambda x:x[0])\n",
    "print(d)\n",
    "\n"
   ]
  },
  {
   "cell_type": "code",
   "execution_count": 20,
   "id": "ab0fb0d8",
   "metadata": {},
   "outputs": [
    {
     "name": "stdout",
     "output_type": "stream",
     "text": [
      "[('c', 4), ('d', 6), ('b', 8), ('a', 10)]\n"
     ]
    }
   ],
   "source": [
    "#value\n",
    "d = {'a': 10, 'b': 8,'d': 6, 'c': 4}\n",
    "l=list(d)\n",
    "d=sorted(d.items(),key=lambda x:x[1])\n",
    "print(d)"
   ]
  },
  {
   "cell_type": "code",
   "execution_count": null,
   "id": "17fe672f",
   "metadata": {},
   "outputs": [],
   "source": []
  }
 ],
 "metadata": {
  "kernelspec": {
   "display_name": "Python 3 (ipykernel)",
   "language": "python",
   "name": "python3"
  },
  "language_info": {
   "codemirror_mode": {
    "name": "ipython",
    "version": 3
   },
   "file_extension": ".py",
   "mimetype": "text/x-python",
   "name": "python",
   "nbconvert_exporter": "python",
   "pygments_lexer": "ipython3",
   "version": "3.9.13"
  }
 },
 "nbformat": 4,
 "nbformat_minor": 5
}
