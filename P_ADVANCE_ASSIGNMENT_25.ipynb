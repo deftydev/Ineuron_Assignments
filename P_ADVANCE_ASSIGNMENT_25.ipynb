{
 "cells": [
  {
   "cell_type": "code",
   "execution_count": null,
   "id": "8b31aa69",
   "metadata": {},
   "outputs": [],
   "source": [
    "Q1. What is the distinction between a numpy array and a pandas data frame? Is there a way to convert between the two if there is ?\n",
    "Ans: numpy array is a one dimesional representation in for of the vectors\n",
    "    \n",
    "Pandas Dataframe is an in-memory 2-dimensional tabular representation of data. In simpler words, it can be seen as a spreadsheet having rows and columns.\n",
    "\n",
    "Dataframe=pandas.DataFrame(arr_name)"
   ]
  },
  {
   "cell_type": "code",
   "execution_count": null,
   "id": "a8d4c7a8",
   "metadata": {},
   "outputs": [],
   "source": [
    "Q2. Identify some of the plotting techniques that are used to produce a stock-market chart ?\n",
    "Ans: Histograms, bar, line and scatter plots are used"
   ]
  },
  {
   "cell_type": "code",
   "execution_count": null,
   "id": "449d2546",
   "metadata": {},
   "outputs": [],
   "source": [
    "Q3. Why is it essential to print a legend on a stock market chart ?\n",
    "Ans: legend will gie a separate color to each stock so that people will be ale to identify which stock is overlapping with which and what are the start and end points."
   ]
  },
  {
   "cell_type": "code",
   "execution_count": null,
   "id": "ccc63d35",
   "metadata": {},
   "outputs": [],
   "source": [
    "Q4. What is the best way to limit the length of a pandas data frame to less than a year ?\n",
    "Ans: : We can use start and end parameters for that. In start we write the date from where we are starting and at the end we write the end date. SO within this span we can restric the duration.Also we can use the parameters like periods for how much times we need the duration and we can also use the frequency parameter.\n"
   ]
  },
  {
   "cell_type": "code",
   "execution_count": null,
   "id": "114881f9",
   "metadata": {},
   "outputs": [],
   "source": [
    "\n",
    "Q5. What is the definition of a 180-day moving average ?\n",
    "\n",
    "This will give the avaerage of the stock for 180 days and trader will be able t identify it the stocks goes upwards or having a downward slope."
   ]
  }
 ],
 "metadata": {
  "kernelspec": {
   "display_name": "Python 3 (ipykernel)",
   "language": "python",
   "name": "python3"
  },
  "language_info": {
   "codemirror_mode": {
    "name": "ipython",
    "version": 3
   },
   "file_extension": ".py",
   "mimetype": "text/x-python",
   "name": "python",
   "nbconvert_exporter": "python",
   "pygments_lexer": "ipython3",
   "version": "3.9.13"
  }
 },
 "nbformat": 4,
 "nbformat_minor": 5
}
