{
 "cells": [
  {
   "cell_type": "markdown",
   "id": "d8e8b37e",
   "metadata": {},
   "source": [
    "# 1. Compare and contrast the float and Decimal classes&#39; benefits and drawbacks."
   ]
  },
  {
   "cell_type": "code",
   "execution_count": 3,
   "id": "f29225f7",
   "metadata": {},
   "outputs": [
    {
     "name": "stdout",
     "output_type": "stream",
     "text": [
      "True\n",
      "False\n"
     ]
    }
   ],
   "source": [
    "from decimal import Decimal\n",
    "a=Decimal('0.3')+Decimal('0.3')+Decimal('0.3')\n",
    "\n",
    "b=Decimal('0.9')\n",
    "\n",
    "print(a==b)\n",
    "\n",
    "C=float('0.3')+float('0.3')+float('0.3')\n",
    "\n",
    "D=float('0.9')\n",
    "\n",
    "print(C==D)"
   ]
  },
  {
   "cell_type": "code",
   "execution_count": null,
   "id": "759f3de4",
   "metadata": {},
   "outputs": [],
   "source": [
    "with decimal you get correct precision values and with float you only get approximate values so it is not used with financial calculations\n",
    "as it may lead to wrong results."
   ]
  },
  {
   "cell_type": "code",
   "execution_count": null,
   "id": "5e47bd67",
   "metadata": {},
   "outputs": [],
   "source": []
  },
  {
   "cell_type": "markdown",
   "id": "341c9fdc",
   "metadata": {},
   "source": [
    "# 2. Decimal('1.200') and Decimal('1.2') are two objects to consider. In what sense are these the same object? Are these just two ways of representing the exact same value, or do they correspond to different internal states?"
   ]
  },
  {
   "cell_type": "code",
   "execution_count": 4,
   "id": "7b7b3ba9",
   "metadata": {},
   "outputs": [
    {
     "name": "stdout",
     "output_type": "stream",
     "text": [
      "True\n"
     ]
    }
   ],
   "source": [
    "print(Decimal('1.200')==Decimal('1.2'))\n"
   ]
  },
  {
   "cell_type": "code",
   "execution_count": null,
   "id": "d109c503",
   "metadata": {},
   "outputs": [],
   "source": [
    "They are generally the same value but precision differs."
   ]
  },
  {
   "cell_type": "code",
   "execution_count": null,
   "id": "91228100",
   "metadata": {},
   "outputs": [],
   "source": []
  },
  {
   "cell_type": "markdown",
   "id": "00831388",
   "metadata": {},
   "source": [
    "# 3. What happens if the equality of Decimal('1.200') and Decimal('1.2') is checked?"
   ]
  },
  {
   "cell_type": "code",
   "execution_count": 5,
   "id": "8071d503",
   "metadata": {},
   "outputs": [
    {
     "name": "stdout",
     "output_type": "stream",
     "text": [
      "True\n"
     ]
    }
   ],
   "source": [
    "print(Decimal('1.200')==Decimal('1.2'))"
   ]
  },
  {
   "cell_type": "code",
   "execution_count": null,
   "id": "260bf7db",
   "metadata": {},
   "outputs": [],
   "source": []
  },
  {
   "cell_type": "markdown",
   "id": "a5c62969",
   "metadata": {},
   "source": [
    "# 4. Why is it preferable to start a Decimal object with a string rather than a floating-point value?"
   ]
  },
  {
   "cell_type": "code",
   "execution_count": 7,
   "id": "d33a7625",
   "metadata": {},
   "outputs": [
    {
     "name": "stdout",
     "output_type": "stream",
     "text": [
      "1.2\n"
     ]
    }
   ],
   "source": [
    "a=Decimal('1.2')\n",
    "print(a)"
   ]
  },
  {
   "cell_type": "code",
   "execution_count": 9,
   "id": "390d4159",
   "metadata": {},
   "outputs": [
    {
     "name": "stdout",
     "output_type": "stream",
     "text": [
      "1.1999999999999999555910790149937383830547332763671875\n"
     ]
    }
   ],
   "source": [
    "a=Decimal(1.2)\n",
    "print(a)"
   ]
  },
  {
   "cell_type": "code",
   "execution_count": null,
   "id": "5df0e20d",
   "metadata": {},
   "outputs": [],
   "source": [
    "Because in case of strings it will give the value defined in quotes but if you dont use quotes it will give the correct precise value for it."
   ]
  },
  {
   "cell_type": "code",
   "execution_count": null,
   "id": "0959d8d8",
   "metadata": {},
   "outputs": [],
   "source": []
  },
  {
   "cell_type": "code",
   "execution_count": null,
   "id": "280c2f90",
   "metadata": {},
   "outputs": [],
   "source": [
    "5. In an arithmetic phrase, how simple is it to combine Decimal objects with integers?"
   ]
  },
  {
   "cell_type": "code",
   "execution_count": 14,
   "id": "442c7162",
   "metadata": {},
   "outputs": [
    {
     "name": "stdout",
     "output_type": "stream",
     "text": [
      "1.9\n"
     ]
    }
   ],
   "source": [
    "a=Decimal('0.9')\n",
    "b=1\n",
    "c=a+b\n",
    "print(c)"
   ]
  },
  {
   "cell_type": "code",
   "execution_count": null,
   "id": "3a709ee7",
   "metadata": {},
   "outputs": [],
   "source": []
  },
  {
   "cell_type": "markdown",
   "id": "43049fc8",
   "metadata": {},
   "source": [
    "# 6. Can Decimal objects and floating-point values be combined easily?"
   ]
  },
  {
   "cell_type": "code",
   "execution_count": 13,
   "id": "42b331dd",
   "metadata": {},
   "outputs": [
    {
     "ename": "TypeError",
     "evalue": "unsupported operand type(s) for +: 'decimal.Decimal' and 'float'",
     "output_type": "error",
     "traceback": [
      "\u001b[1;31m---------------------------------------------------------------------------\u001b[0m",
      "\u001b[1;31mTypeError\u001b[0m                                 Traceback (most recent call last)",
      "\u001b[1;32m~\\AppData\\Local\\Temp\\ipykernel_11780\\2931178389.py\u001b[0m in \u001b[0;36m<module>\u001b[1;34m\u001b[0m\n\u001b[0;32m      1\u001b[0m \u001b[0ma\u001b[0m\u001b[1;33m=\u001b[0m\u001b[0mDecimal\u001b[0m\u001b[1;33m(\u001b[0m\u001b[1;34m'0.9'\u001b[0m\u001b[1;33m)\u001b[0m\u001b[1;33m\u001b[0m\u001b[1;33m\u001b[0m\u001b[0m\n\u001b[0;32m      2\u001b[0m \u001b[0mb\u001b[0m\u001b[1;33m=\u001b[0m\u001b[0mfloat\u001b[0m\u001b[1;33m(\u001b[0m\u001b[1;34m'0.9'\u001b[0m\u001b[1;33m)\u001b[0m\u001b[1;33m\u001b[0m\u001b[1;33m\u001b[0m\u001b[0m\n\u001b[1;32m----> 3\u001b[1;33m \u001b[0mc\u001b[0m\u001b[1;33m=\u001b[0m\u001b[0ma\u001b[0m\u001b[1;33m+\u001b[0m\u001b[0mb\u001b[0m\u001b[1;33m\u001b[0m\u001b[1;33m\u001b[0m\u001b[0m\n\u001b[0m\u001b[0;32m      4\u001b[0m \u001b[0md\u001b[0m\u001b[1;33m=\u001b[0m\u001b[0mDecimal\u001b[0m\u001b[1;33m(\u001b[0m\u001b[0ma\u001b[0m\u001b[1;33m+\u001b[0m\u001b[0mb\u001b[0m\u001b[1;33m)\u001b[0m\u001b[1;33m\u001b[0m\u001b[1;33m\u001b[0m\u001b[0m\n\u001b[0;32m      5\u001b[0m \u001b[0mf\u001b[0m\u001b[1;33m=\u001b[0m\u001b[0mfloat\u001b[0m\u001b[1;33m(\u001b[0m\u001b[0ma\u001b[0m\u001b[1;33m+\u001b[0m\u001b[0mb\u001b[0m\u001b[1;33m)\u001b[0m\u001b[1;33m\u001b[0m\u001b[1;33m\u001b[0m\u001b[0m\n",
      "\u001b[1;31mTypeError\u001b[0m: unsupported operand type(s) for +: 'decimal.Decimal' and 'float'"
     ]
    }
   ],
   "source": [
    "a=Decimal('0.9')\n",
    "b=float('0.9')\n",
    "c=a+b\n",
    "d=Decimal(a+b)\n",
    "f=float(a+b)\n",
    "\n",
    "print(c)\n",
    "print(d)\n",
    "print(f)\n",
    "\n",
    "No they can't be "
   ]
  },
  {
   "cell_type": "code",
   "execution_count": null,
   "id": "339f0ba8",
   "metadata": {},
   "outputs": [],
   "source": []
  },
  {
   "cell_type": "code",
   "execution_count": null,
   "id": "4db9cfb3",
   "metadata": {},
   "outputs": [],
   "source": [
    "7. Using the Fraction class but not the Decimal class, give an example of a quantity that can be\n",
    "expressed with absolute precision."
   ]
  },
  {
   "cell_type": "code",
   "execution_count": null,
   "id": "04dafc73",
   "metadata": {},
   "outputs": [],
   "source": [
    "value of 0.5 can be represented by 1/2"
   ]
  },
  {
   "cell_type": "code",
   "execution_count": null,
   "id": "8c1ae7a3",
   "metadata": {},
   "outputs": [],
   "source": []
  },
  {
   "cell_type": "code",
   "execution_count": null,
   "id": "8ae73aec",
   "metadata": {},
   "outputs": [],
   "source": [
    "8. Describe a quantity that can be accurately expressed by the Decimal or Fraction classes but not by\n",
    "a floating-point value."
   ]
  },
  {
   "cell_type": "code",
   "execution_count": 18,
   "id": "a626d216",
   "metadata": {},
   "outputs": [
    {
     "name": "stdout",
     "output_type": "stream",
     "text": [
      "1.6666666666666667406815349750104360282421112060546875\n",
      "1.6666666666666667\n",
      "1.6666666666666667\n"
     ]
    }
   ],
   "source": [
    "c=5/3\n",
    "a=Decimal(c)\n",
    "b=float(c)\n",
    "\n",
    "print(a)\n",
    "print(b)\n",
    "print(c)"
   ]
  },
  {
   "cell_type": "code",
   "execution_count": null,
   "id": "18fc6299",
   "metadata": {},
   "outputs": [],
   "source": []
  },
  {
   "cell_type": "code",
   "execution_count": null,
   "id": "de292e23",
   "metadata": {},
   "outputs": [],
   "source": [
    "Q9.Consider the following two fraction objects: Fraction(1, 2) and Fraction(1, 2). (5, 10). Is the internal\n",
    "state of these two objects the same? Why do you think that is?"
   ]
  },
  {
   "cell_type": "code",
   "execution_count": null,
   "id": "46623c6c",
   "metadata": {},
   "outputs": [],
   "source": [
    "internal state is same as both will get reduced to 1/2"
   ]
  },
  {
   "cell_type": "code",
   "execution_count": null,
   "id": "9fb674ab",
   "metadata": {},
   "outputs": [],
   "source": []
  },
  {
   "cell_type": "code",
   "execution_count": null,
   "id": "a4642efe",
   "metadata": {},
   "outputs": [],
   "source": [
    "Q10. How do the Fraction class and the integer type (int) relate to each other? Containment or\n",
    "inheritance?"
   ]
  },
  {
   "cell_type": "code",
   "execution_count": null,
   "id": "70df1564",
   "metadata": {},
   "outputs": [],
   "source": [
    "As numerator and denomenator of fraction class contains integer so it is related to that int class as a container, using it as a container.\n"
   ]
  }
 ],
 "metadata": {
  "kernelspec": {
   "display_name": "Python 3 (ipykernel)",
   "language": "python",
   "name": "python3"
  },
  "language_info": {
   "codemirror_mode": {
    "name": "ipython",
    "version": 3
   },
   "file_extension": ".py",
   "mimetype": "text/x-python",
   "name": "python",
   "nbconvert_exporter": "python",
   "pygments_lexer": "ipython3",
   "version": "3.9.13"
  }
 },
 "nbformat": 4,
 "nbformat_minor": 5
}
