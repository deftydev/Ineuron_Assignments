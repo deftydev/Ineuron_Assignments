{
 "cells": [
  {
   "cell_type": "markdown",
   "id": "41c6e95c",
   "metadata": {},
   "source": [
    "# 1. What are escape characters, and how do you use them?"
   ]
  },
  {
   "cell_type": "code",
   "execution_count": null,
   "id": "292cfe22",
   "metadata": {},
   "outputs": [],
   "source": [
    "excape characters are the specified characters which start with backslash and are used to perform certain tasks while printing output"
   ]
  },
  {
   "cell_type": "code",
   "execution_count": 2,
   "id": "54735e78",
   "metadata": {},
   "outputs": [
    {
     "name": "stdout",
     "output_type": "stream",
     "text": [
      "Dev is \n",
      "learning python programming\n"
     ]
    }
   ],
   "source": [
    "s=\"Dev is \\nlearning python programming\"  #\\n for new line\n",
    "print(s)"
   ]
  },
  {
   "cell_type": "code",
   "execution_count": 6,
   "id": "c51194e1",
   "metadata": {},
   "outputs": [
    {
     "name": "stdout",
     "output_type": "stream",
     "text": [
      "Dev is \"learning\" python programming\n"
     ]
    }
   ],
   "source": [
    "s=\"Dev is \\\"learning\\\" python programming\"  #\\\" used for double quote\n",
    "print(s)"
   ]
  },
  {
   "cell_type": "markdown",
   "id": "5188c2ee",
   "metadata": {},
   "source": [
    "# 2. What do the escape characters n and t stand for?"
   ]
  },
  {
   "cell_type": "code",
   "execution_count": null,
   "id": "acdf2632",
   "metadata": {},
   "outputs": [],
   "source": [
    "\\n sands for new line wheras \\t stands for tab"
   ]
  },
  {
   "cell_type": "code",
   "execution_count": null,
   "id": "aea56a95",
   "metadata": {},
   "outputs": [],
   "source": []
  },
  {
   "cell_type": "markdown",
   "id": "1055ae16",
   "metadata": {},
   "source": [
    "# 3. What is the way to include backslash characters in a string?"
   ]
  },
  {
   "cell_type": "code",
   "execution_count": null,
   "id": "64c57f1e",
   "metadata": {},
   "outputs": [],
   "source": [
    "by using \\\\ in the word"
   ]
  },
  {
   "cell_type": "code",
   "execution_count": 7,
   "id": "53cd8ffa",
   "metadata": {},
   "outputs": [
    {
     "name": "stdout",
     "output_type": "stream",
     "text": [
      "Dev is \\learning python programming\n"
     ]
    }
   ],
   "source": [
    "s=\"Dev is \\\\learning python programming\"  #\\\" used for double quote\n",
    "print(s)"
   ]
  },
  {
   "cell_type": "code",
   "execution_count": null,
   "id": "fa67b4ff",
   "metadata": {},
   "outputs": [],
   "source": []
  },
  {
   "cell_type": "markdown",
   "id": "3d17dbb0",
   "metadata": {},
   "source": [
    "# 4. The string &quot;Howl&#39;s Moving Castle&quot; is a correct value. Why isn&#39;t the single quote character in the\n",
    "word Howl&#39;s not escaped a problem?"
   ]
  },
  {
   "cell_type": "code",
   "execution_count": null,
   "id": "cc8b5bfa",
   "metadata": {},
   "outputs": [],
   "source": [
    "because it is enclosed within double quotes"
   ]
  },
  {
   "cell_type": "code",
   "execution_count": null,
   "id": "3d959048",
   "metadata": {},
   "outputs": [],
   "source": []
  },
  {
   "cell_type": "markdown",
   "id": "450e7141",
   "metadata": {},
   "source": [
    "# 5. How do you write a string of newlines if you don&#39;t want to use the n character?"
   ]
  },
  {
   "cell_type": "code",
   "execution_count": null,
   "id": "6596eeb8",
   "metadata": {},
   "outputs": [],
   "source": [
    "using triple quotes in string"
   ]
  },
  {
   "cell_type": "code",
   "execution_count": 8,
   "id": "f99e76d5",
   "metadata": {},
   "outputs": [
    {
     "name": "stdout",
     "output_type": "stream",
     "text": [
      "first line\n",
      "second\n",
      "third\n"
     ]
    }
   ],
   "source": [
    "s='''first line\n",
    "second\n",
    "third'''\n",
    "print(s)"
   ]
  },
  {
   "cell_type": "code",
   "execution_count": null,
   "id": "9fa8c153",
   "metadata": {},
   "outputs": [],
   "source": []
  },
  {
   "cell_type": "markdown",
   "id": "ed6e40b0",
   "metadata": {},
   "source": [
    "# 6. What are the values of the given expressions?\n",
    "&#39;Hello, world!&#39;[1]\n",
    "&#39;Hello, world!&#39;[0:5]\n",
    "&#39;Hello, world!&#39;[:5]\n",
    "&#39;Hello, world!&#39;[3:]"
   ]
  },
  {
   "cell_type": "code",
   "execution_count": 10,
   "id": "61074722",
   "metadata": {},
   "outputs": [
    {
     "name": "stdout",
     "output_type": "stream",
     "text": [
      "Hello\n"
     ]
    }
   ],
   "source": [
    "print('Hello, world!'[:5] )"
   ]
  },
  {
   "cell_type": "code",
   "execution_count": 11,
   "id": "ae4f8fbb",
   "metadata": {},
   "outputs": [
    {
     "name": "stdout",
     "output_type": "stream",
     "text": [
      "e\n"
     ]
    }
   ],
   "source": [
    "print('Hello, world!'[1] )"
   ]
  },
  {
   "cell_type": "code",
   "execution_count": 12,
   "id": "0b36da71",
   "metadata": {},
   "outputs": [
    {
     "name": "stdout",
     "output_type": "stream",
     "text": [
      "Hello\n"
     ]
    }
   ],
   "source": [
    "print('Hello, world!'[0:5] )"
   ]
  },
  {
   "cell_type": "code",
   "execution_count": 13,
   "id": "b14eefb5",
   "metadata": {},
   "outputs": [
    {
     "name": "stdout",
     "output_type": "stream",
     "text": [
      "lo, world!\n"
     ]
    }
   ],
   "source": [
    "print('Hello, world!'[3:] )"
   ]
  },
  {
   "cell_type": "code",
   "execution_count": null,
   "id": "2faa7fd1",
   "metadata": {},
   "outputs": [],
   "source": []
  },
  {
   "cell_type": "markdown",
   "id": "06e84cee",
   "metadata": {},
   "source": [
    "# 7. What are the values of the following expressions?\n",
    "&#39;Hello&#39;.upper()\n",
    "&#39;Hello&#39;.upper().isupper()\n",
    "&#39;Hello&#39;.upper().lower()"
   ]
  },
  {
   "cell_type": "code",
   "execution_count": null,
   "id": "cb935231",
   "metadata": {},
   "outputs": [],
   "source": [
    "HELLO\n",
    "True\n",
    "hello"
   ]
  },
  {
   "cell_type": "code",
   "execution_count": null,
   "id": "bf9a6a88",
   "metadata": {},
   "outputs": [],
   "source": []
  },
  {
   "cell_type": "markdown",
   "id": "42d43085",
   "metadata": {},
   "source": [
    "# 8. What are the values of the following expressions?\n",
    "&#39;Remember, remember, the fifth of July.&#39;.split()\n",
    "&#39;-&#39;.join(&#39;There can only one.&#39;.split())"
   ]
  },
  {
   "cell_type": "code",
   "execution_count": 14,
   "id": "e0e46ca7",
   "metadata": {},
   "outputs": [
    {
     "data": {
      "text/plain": [
       "['Remember,', 'remember,', 'the', 'fifth', 'of', 'July.']"
      ]
     },
     "execution_count": 14,
     "metadata": {},
     "output_type": "execute_result"
    }
   ],
   "source": [
    "'Remember, remember, the fifth of July.'.split() #split them on basis of space"
   ]
  },
  {
   "cell_type": "code",
   "execution_count": 17,
   "id": "d81763d0",
   "metadata": {},
   "outputs": [
    {
     "data": {
      "text/plain": [
       "'There-can-only-one.'"
      ]
     },
     "execution_count": 17,
     "metadata": {},
     "output_type": "execute_result"
    }
   ],
   "source": [
    "'-'.join('There can only one.'.split()) #first split them then join when they turn to individual strings"
   ]
  },
  {
   "cell_type": "code",
   "execution_count": null,
   "id": "22809f91",
   "metadata": {},
   "outputs": [],
   "source": []
  },
  {
   "cell_type": "markdown",
   "id": "6a4e98fe",
   "metadata": {},
   "source": [
    "# 9. What are the methods for right-justifying, left-justifying, and centering a string?"
   ]
  },
  {
   "cell_type": "code",
   "execution_count": null,
   "id": "89ad7056",
   "metadata": {},
   "outputs": [],
   "source": [
    "rjust(),ljust(),center() respectively"
   ]
  },
  {
   "cell_type": "code",
   "execution_count": null,
   "id": "87307ebc",
   "metadata": {},
   "outputs": [],
   "source": []
  },
  {
   "cell_type": "markdown",
   "id": "f9dff087",
   "metadata": {},
   "source": [
    "# 10. What is the best way to remove whitespace characters from the start or end?"
   ]
  },
  {
   "cell_type": "code",
   "execution_count": null,
   "id": "0debf2a9",
   "metadata": {},
   "outputs": [],
   "source": [
    "from start using lstrip()\n",
    "from end using rstrip()\n",
    "for both use strip()\n",
    "."
   ]
  }
 ],
 "metadata": {
  "kernelspec": {
   "display_name": "Python 3 (ipykernel)",
   "language": "python",
   "name": "python3"
  },
  "language_info": {
   "codemirror_mode": {
    "name": "ipython",
    "version": 3
   },
   "file_extension": ".py",
   "mimetype": "text/x-python",
   "name": "python",
   "nbconvert_exporter": "python",
   "pygments_lexer": "ipython3",
   "version": "3.9.13"
  }
 },
 "nbformat": 4,
 "nbformat_minor": 5
}
