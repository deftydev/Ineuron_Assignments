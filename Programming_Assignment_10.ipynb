{
 "cells": [
  {
   "cell_type": "markdown",
   "id": "82ce2655",
   "metadata": {},
   "source": [
    "# 1. Write a Python program to find sum of elements in list?"
   ]
  },
  {
   "cell_type": "code",
   "execution_count": 29,
   "id": "89623ec3",
   "metadata": {},
   "outputs": [
    {
     "data": {
      "text/plain": [
       "1275"
      ]
     },
     "execution_count": 29,
     "metadata": {},
     "output_type": "execute_result"
    }
   ],
   "source": [
    "\n",
    "l=[1,2,87,89,98,998]\n",
    "def summ(l):\n",
    "    su=0\n",
    "    for i in range(0,len(l)):\n",
    "        su=su+l[i]    \n",
    "    return su\n",
    "summ(l)\n",
    "\n"
   ]
  },
  {
   "cell_type": "markdown",
   "id": "70c28013",
   "metadata": {},
   "source": [
    "# 2. Write a Python program to find multiply of elements in list?"
   ]
  },
  {
   "cell_type": "code",
   "execution_count": 2,
   "id": "5e146ff6",
   "metadata": {},
   "outputs": [
    {
     "data": {
      "text/plain": [
       "1514592744"
      ]
     },
     "execution_count": 2,
     "metadata": {},
     "output_type": "execute_result"
    }
   ],
   "source": [
    "\n",
    "l=[1,2,87,89,98,998]\n",
    "def mul(l):\n",
    "    su=1\n",
    "    for i in range(0,len(l)):\n",
    "        su=su*l[i]    \n",
    "    return su\n",
    "mul(l)"
   ]
  },
  {
   "cell_type": "markdown",
   "id": "a60bb7f7",
   "metadata": {},
   "source": [
    "# 3. Write a Python program to find smallest number in a list?"
   ]
  },
  {
   "cell_type": "code",
   "execution_count": 3,
   "id": "821b8d2e",
   "metadata": {},
   "outputs": [
    {
     "name": "stdout",
     "output_type": "stream",
     "text": [
      "-87\n"
     ]
    }
   ],
   "source": [
    "l=[-4,-5,-87,6,4,7,9]\n",
    "print(min(l))"
   ]
  },
  {
   "cell_type": "code",
   "execution_count": null,
   "id": "5b30e4c7",
   "metadata": {},
   "outputs": [],
   "source": [
    "4. Write a Python program to find largest number in a list?"
   ]
  },
  {
   "cell_type": "code",
   "execution_count": 4,
   "id": "80c0b079",
   "metadata": {},
   "outputs": [
    {
     "name": "stdout",
     "output_type": "stream",
     "text": [
      "9\n"
     ]
    }
   ],
   "source": [
    "l=[-4,-5,-87,6,4,7,9]\n",
    "print(max(l))"
   ]
  },
  {
   "cell_type": "code",
   "execution_count": null,
   "id": "cea52653",
   "metadata": {},
   "outputs": [],
   "source": [
    "5. Write a Python program to find second largest number in a list?"
   ]
  },
  {
   "cell_type": "code",
   "execution_count": 5,
   "id": "26a769de",
   "metadata": {},
   "outputs": [
    {
     "name": "stdout",
     "output_type": "stream",
     "text": [
      "7\n"
     ]
    }
   ],
   "source": [
    "l=[-4,-5,-87,6,4,7,9]\n",
    "l.sort()\n",
    "print(l[-2])"
   ]
  },
  {
   "cell_type": "code",
   "execution_count": null,
   "id": "da10d563",
   "metadata": {},
   "outputs": [],
   "source": []
  },
  {
   "cell_type": "code",
   "execution_count": null,
   "id": "1869a2ab",
   "metadata": {},
   "outputs": [],
   "source": [
    "6. Write a Python program to find N largest number in a list?"
   ]
  },
  {
   "cell_type": "code",
   "execution_count": 6,
   "id": "a18075e4",
   "metadata": {},
   "outputs": [
    {
     "name": "stdout",
     "output_type": "stream",
     "text": [
      "6\n"
     ]
    }
   ],
   "source": [
    "n=3\n",
    "\n",
    "l=[-4,-5,-87,6,4,7,9]\n",
    "l.sort()\n",
    "print(l[-3])"
   ]
  },
  {
   "cell_type": "code",
   "execution_count": null,
   "id": "2e48cd2f",
   "metadata": {},
   "outputs": [],
   "source": [
    "7. Write a Python program to print even numbers in a list?\n",
    "8. Write a Python program to print odd numbers in a List?"
   ]
  },
  {
   "cell_type": "code",
   "execution_count": 8,
   "id": "9c67b842",
   "metadata": {},
   "outputs": [
    {
     "name": "stdout",
     "output_type": "stream",
     "text": [
      "-4 is even\n",
      "-5 is odd\n",
      "-87 is odd\n",
      "6 is even\n",
      "4 is even\n",
      "7 is odd\n",
      "9 is odd\n"
     ]
    }
   ],
   "source": [
    "l=[-4,-5,-87,6,4,7,9]\n",
    "\n",
    "for i in range(len(l)):\n",
    "    if int(l[i])%2==0:\n",
    "        print(f'{l[i]} is even')\n",
    "    else:\n",
    "        print(f'{l[i]} is odd')     "
   ]
  },
  {
   "cell_type": "code",
   "execution_count": null,
   "id": "6095485c",
   "metadata": {},
   "outputs": [],
   "source": [
    "9. Write a Python program to Remove empty List from List?\n",
    "\n"
   ]
  },
  {
   "cell_type": "code",
   "execution_count": 13,
   "id": "e8257fe1",
   "metadata": {},
   "outputs": [
    {
     "name": "stdout",
     "output_type": "stream",
     "text": [
      "[-4, -5, -87, 6, 4, 7, 9]\n"
     ]
    }
   ],
   "source": [
    "l=[-4,-5,-87,6,4,7,9,[]]\n",
    "\n",
    "l.remove([])\n",
    "print(l)"
   ]
  },
  {
   "cell_type": "code",
   "execution_count": null,
   "id": "c21365e0",
   "metadata": {},
   "outputs": [],
   "source": [
    "10. Write a Python program to Cloning or Copying a list?\n"
   ]
  },
  {
   "cell_type": "code",
   "execution_count": 28,
   "id": "139bc332",
   "metadata": {},
   "outputs": [
    {
     "name": "stdout",
     "output_type": "stream",
     "text": [
      "[1, 2, 3, 4, 5]\n"
     ]
    }
   ],
   "source": [
    "l=[1,2,3,4,5]\n",
    "l1=l[:]\n",
    "print(l1)"
   ]
  },
  {
   "cell_type": "code",
   "execution_count": null,
   "id": "7a6f5926",
   "metadata": {},
   "outputs": [],
   "source": [
    "11. Write a Python program to Count occurrences of an element in a list?"
   ]
  },
  {
   "cell_type": "code",
   "execution_count": 25,
   "id": "02fc4fff",
   "metadata": {},
   "outputs": [
    {
     "name": "stdout",
     "output_type": "stream",
     "text": [
      "1 is having 4 count\n",
      "2 is having 1 count\n",
      "3 is having 1 count\n",
      "4 is having 1 count\n",
      "5 is having 1 count\n",
      "76 is having 2 count\n",
      "65 is having 1 count\n",
      "7 is having 2 count\n",
      "8 is having 1 count\n"
     ]
    }
   ],
   "source": [
    "import collections\n",
    "l=[1,1,1,1,2,3,4,5,76,65,76,7,7,8]\n",
    "\n",
    "\n",
    "\n",
    "for item,count in collections.Counter(l).items():\n",
    "    print(f'{item} is having {count} count')\n",
    "    "
   ]
  },
  {
   "cell_type": "code",
   "execution_count": null,
   "id": "1a2d1664",
   "metadata": {},
   "outputs": [],
   "source": []
  }
 ],
 "metadata": {
  "kernelspec": {
   "display_name": "Python 3 (ipykernel)",
   "language": "python",
   "name": "python3"
  },
  "language_info": {
   "codemirror_mode": {
    "name": "ipython",
    "version": 3
   },
   "file_extension": ".py",
   "mimetype": "text/x-python",
   "name": "python",
   "nbconvert_exporter": "python",
   "pygments_lexer": "ipython3",
   "version": "3.9.13"
  }
 },
 "nbformat": 4,
 "nbformat_minor": 5
}
