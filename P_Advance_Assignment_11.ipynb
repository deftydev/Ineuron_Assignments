{
 "cells": [
  {
   "cell_type": "markdown",
   "id": "acf104f7",
   "metadata": {},
   "source": [
    "# Q1. What is the concept of a metaclass?\n",
    "\n",
    "metaclass is used to define how a class will behave, bdefault if you dont specify metaclass it will by default take it type of type.\n",
    "like in below class-Mytypeis of type--> type\n",
    "\n",
    "class Mytype:\n",
    "    pass\n",
    "\n",
    "class My(metaclass=Mytype):\n",
    "    pass\n"
   ]
  },
  {
   "cell_type": "markdown",
   "id": "aa030c13",
   "metadata": {},
   "source": [
    "# Q2. What is the best way to declare a class's metaclass?\n",
    "\n",
    "by using metclass keyword\n",
    "\n",
    "class Mytype: pass\n",
    "\n",
    "class My(metaclass=Mytype): pass"
   ]
  },
  {
   "cell_type": "markdown",
   "id": "dbff07cb",
   "metadata": {},
   "source": [
    "# Q3. How do class decorators overlap with metaclasses for handling classes?\n",
    "\n",
    "for handling classess new mthod is written"
   ]
  },
  {
   "cell_type": "markdown",
   "id": "91bc01d7",
   "metadata": {},
   "source": [
    "# Q4. How do class decorators overlap with metaclasses for handling instances?\n",
    "\n",
    "for handling instances initmethod is used whenever instance or object of class is created it will be called\n",
    "\n",
    "class Myclass: def init(self,param1,param2): pass\n",
    "\n",
    "object1=Myclass(12,34) #object creation"
   ]
  },
  {
   "cell_type": "code",
   "execution_count": null,
   "id": "7e6fe6f3",
   "metadata": {},
   "outputs": [],
   "source": []
  }
 ],
 "metadata": {
  "kernelspec": {
   "display_name": "Python 3 (ipykernel)",
   "language": "python",
   "name": "python3"
  },
  "language_info": {
   "codemirror_mode": {
    "name": "ipython",
    "version": 3
   },
   "file_extension": ".py",
   "mimetype": "text/x-python",
   "name": "python",
   "nbconvert_exporter": "python",
   "pygments_lexer": "ipython3",
   "version": "3.9.13"
  }
 },
 "nbformat": 4,
 "nbformat_minor": 5
}
