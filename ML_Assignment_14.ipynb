{
 "cells": [
  {
   "cell_type": "code",
   "execution_count": null,
   "id": "93cab7c2",
   "metadata": {},
   "outputs": [],
   "source": [
    "1. What is the concept of supervised learning? What is the significance of the name?\n",
    "supervised learning simply means when you have labelled datasets means you akreday have the output for several inputs \n",
    "so you simply trai those inputs and outputs and predict output for new data points.\n",
    "The name signifies that there will be output for every input.\n",
    "\n",
    "2. In the hospital sector, offer an example of supervised learning.\n",
    "Means based on certain criteria a person may be a cancer patient or may not or output will be Yes or NO \n",
    "that why its is called supervised learning.\n",
    "\n",
    "3. Give three supervised learning examples.\n",
    "Three supervised learning\n",
    "1- Cancer pateints datasets\n",
    "2- Predict the delievery time based on certain factors\n",
    "3- Predict the admission is possible or not based on certain factors//inputs.\n",
    "\n",
    "4. In supervised learning, what are classification and regression?\n",
    "0 or 1 output is classification , if output is continous then regression\n",
    "\n",
    "5. Give some popular classification algorithms as examples.\n",
    "Random forest calssifier , XGBOOST classifer \n",
    "To classify if a person will be passed in exams or not based on gender , subjects score , study time and playing time."
   ]
  },
  {
   "cell_type": "code",
   "execution_count": null,
   "id": "67e1a1db",
   "metadata": {},
   "outputs": [],
   "source": []
  },
  {
   "cell_type": "code",
   "execution_count": null,
   "id": "94424a9c",
   "metadata": {},
   "outputs": [],
   "source": [
    "6. Briefly describe the SVM model.\n",
    "SVM model just draws the hyperplane in the data if draing it is not possible it will use kernel trick to increase\n",
    "the dimesion of the data and then draw two euidistant lines from up and from down and the points touching those \n",
    "lines will be termed as a support vectors.\n",
    "\n",
    "7. In SVM, what is the cost of misclassification?\n",
    " In cost-sensitive learning instead of each instance being either correctly or \n",
    "    incorrectly classified, each class (or instance) is given a misclassification cost.\n",
    "    Thus, instead of trying to optimize the accuracy, the problem is then to minimize the total misclassification cost.\n",
    "\n",
    "8. In the SVM model, define Support Vectors.\n",
    "SVM model just draws the hyperplane in the data if draing it is not possible it will use kernel trick to increase\n",
    "the dimesion of the data and then draw two euidistant lines from up and from down and the points touching those \n",
    "lines will be termed as a support vectors.\n",
    "\n",
    "9. In the SVM model, define the kernel.\n",
    "SVM model just draws the hyperplane in the data if draing it is not possible it will use kernel trick to increase\n",
    "the dimesion of the data and then draw two euidistant lines from up and from down and the points touching those \n",
    "lines will be termed as a support vectors.\n",
    "\n",
    "10. What are the factors that influence SVM&#39;s effectiveness?\n",
    "SVM model just draws the hyperplane in the data if draing it is not possible it will use kernel trick to increase\n",
    "the dimesion of the data and then draw two euidistant lines from up and from down and the points touching those \n",
    "lines will be termed as a support vectors."
   ]
  },
  {
   "cell_type": "code",
   "execution_count": null,
   "id": "f57a2c4c",
   "metadata": {},
   "outputs": [],
   "source": []
  },
  {
   "cell_type": "code",
   "execution_count": null,
   "id": "b99a35e2",
   "metadata": {},
   "outputs": [],
   "source": [
    "What are the benefits of using the SVM model ?\n",
    "Ans: SVM works relatively well when there is a clear margin of separation between classes.\n",
    "    SVM is more effective in high dimensional spaces. SVM is effective in\n",
    "    cases where the number of dimensions is greater than the number of samples.SVM is relatively memory efficient.\n",
    "\n",
    "12. What are the drawbacks of using the SVM model ?\n",
    "Ans: SVM algorithm is not suitable for large data sets. \n",
    "    SVM does not perform very well when the data set has more noise i.e. \n",
    "    target classes are overlapping. In cases where the number of features for \n",
    "    each data point exceeds the number of training data samples, the SVM will underperform."
   ]
  },
  {
   "cell_type": "code",
   "execution_count": null,
   "id": "34478ce9",
   "metadata": {},
   "outputs": [],
   "source": []
  },
  {
   "cell_type": "code",
   "execution_count": null,
   "id": "7305311e",
   "metadata": {},
   "outputs": [],
   "source": [
    "What are some of the benefits of the kNN algorithm ?\n",
    "Ans: Some Advantages of KNN are:\n",
    "\n",
    "Quick calculation time.\n",
    "Simple algorithm – to interpret."
   ]
  },
  {
   "cell_type": "code",
   "execution_count": null,
   "id": "44f2a2f4",
   "metadata": {},
   "outputs": [],
   "source": []
  },
  {
   "cell_type": "code",
   "execution_count": null,
   "id": "4fd8ac2d",
   "metadata": {},
   "outputs": [],
   "source": [
    " In a decision tree, define knowledge gain ?\n",
    "Ans: Information gain is the reduction in entropy or surprise by transforming a dataset and is often used in training decision \n",
    "    trees.Information gain is calculated by comparing the entropy of the dataset before and after a transformation."
   ]
  }
 ],
 "metadata": {
  "kernelspec": {
   "display_name": "Python 3 (ipykernel)",
   "language": "python",
   "name": "python3"
  },
  "language_info": {
   "codemirror_mode": {
    "name": "ipython",
    "version": 3
   },
   "file_extension": ".py",
   "mimetype": "text/x-python",
   "name": "python",
   "nbconvert_exporter": "python",
   "pygments_lexer": "ipython3",
   "version": "3.9.13"
  }
 },
 "nbformat": 4,
 "nbformat_minor": 5
}
