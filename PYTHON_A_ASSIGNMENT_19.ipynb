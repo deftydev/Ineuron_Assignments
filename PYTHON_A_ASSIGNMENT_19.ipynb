{
 "cells": [
  {
   "cell_type": "code",
   "execution_count": null,
   "id": "5a740743",
   "metadata": {},
   "outputs": [],
   "source": [
    "Q1. Define the relationship between a class and its instances. Is it a one-to-one or a one-to-many\n",
    "partnership, for example?\n",
    "\n",
    "class is the blueprint of ur application which contains many variables , methods which can be used by creating several instances of thet \n",
    "class which are called the objects ,so one class can have many instances so it is a one to many relationship.\n",
    "\n",
    "Q2. What kind of data is held only in an instance?\n",
    "\n",
    "They contain data about the instance variables used inside method of that class\n",
    "\n",
    "Q3. What kind of knowledge is stored in a class?\n",
    "\n",
    "Class can contain several types of methods which can we used on creation of any application,private attributes .\n",
    "\n",
    "Q4. What exactly is a method, and how is it different from a regular function?\n",
    "\n",
    "method is different from a function as they contain self keyword means when any instance of  aclass is created that object has a reference\n",
    "to these methods and by the help of it can be called from outside.\n",
    "\n",
    "Q5. Is inheritance supported in Python, and if so, what is the syntax?\n",
    "\n",
    "Yes inheritance is supported in python.\n",
    "\n",
    "class Myclass:\n",
    "    def __init__(self,a):\n",
    "        self.a=a\n",
    "        \n",
    "class Mytwo(Myclass):\n",
    "    def __init__(self,a,b):\n",
    "        super().__init__(a)\n",
    "        self.b=b\n",
    "        \n",
    "object=Mytwo(4,5)\n",
    "\n",
    "Q6. How much encapsulation (making instance or class variables private) does Python support?\n",
    "\n",
    "using double underscores you can make any class attribute private"
   ]
  },
  {
   "cell_type": "code",
   "execution_count": null,
   "id": "8d257e52",
   "metadata": {},
   "outputs": [],
   "source": []
  },
  {
   "cell_type": "code",
   "execution_count": null,
   "id": "c653f6a6",
   "metadata": {},
   "outputs": [],
   "source": [
    "Q7. How do you distinguish between a class variable and an instance variable?\n",
    "\n",
    "class variabe can be only accessible using the classname and dot notation they cannot be accessible using object and instance variables\n",
    "are created inside a method of that class and available to all instnaces created ."
   ]
  },
  {
   "cell_type": "code",
   "execution_count": null,
   "id": "f7c02a04",
   "metadata": {},
   "outputs": [],
   "source": []
  },
  {
   "cell_type": "markdown",
   "id": "0eb9f552",
   "metadata": {},
   "source": [
    "# Q8. When, if ever, can self be included in a class&#39;s method definitions?"
   ]
  },
  {
   "cell_type": "code",
   "execution_count": null,
   "id": "e2c0677e",
   "metadata": {},
   "outputs": [],
   "source": [
    "self, is by default inluded in class methods so that using instances of it you can access there methods"
   ]
  },
  {
   "cell_type": "code",
   "execution_count": null,
   "id": "a43c5537",
   "metadata": {},
   "outputs": [],
   "source": []
  },
  {
   "cell_type": "code",
   "execution_count": null,
   "id": "fba88e54",
   "metadata": {},
   "outputs": [],
   "source": [
    "Q9. What is the difference between the _ _add_ _ and the _ _radd_ _ methods?\n",
    "\n",
    "__add__ will give the typeerror() if it is not implemented but __radd__ will frst check or the __add__ method before giving typeerror\n",
    "\n",
    "Q10. When is it necessary to use a reflection method? When do you not need it, even though you\n",
    "support the operation in question?\n",
    "\n",
    "Q11. What is the _ _iadd_ _ method called?\n",
    "\n",
    "when you do like a+=b so you have to write (a)__iadd__(b)."
   ]
  },
  {
   "cell_type": "code",
   "execution_count": null,
   "id": "c693651b",
   "metadata": {},
   "outputs": [],
   "source": []
  },
  {
   "cell_type": "code",
   "execution_count": null,
   "id": "71b8ef1d",
   "metadata": {},
   "outputs": [],
   "source": [
    "Q12. Is the _ _init_ _ method inherited by subclasses? What do you do if you need to customize its\n",
    "behavior within a subclass?\n",
    "\n",
    "using the super() keyword you can customize its behaviour , yes it is inherited by subclass"
   ]
  },
  {
   "cell_type": "code",
   "execution_count": null,
   "id": "a78875e2",
   "metadata": {},
   "outputs": [],
   "source": [
    "class Myclass:\n",
    "    def __init__(self,a):\n",
    "        self.a=a\n",
    "        \n",
    "class Mytwo(Myclass):\n",
    "    def __init__(self,a,b):\n",
    "        super().__init__(a)\n",
    "        self.b=b\n",
    "        \n",
    "object=Mytwo(4,5)"
   ]
  }
 ],
 "metadata": {
  "kernelspec": {
   "display_name": "Python 3 (ipykernel)",
   "language": "python",
   "name": "python3"
  },
  "language_info": {
   "codemirror_mode": {
    "name": "ipython",
    "version": 3
   },
   "file_extension": ".py",
   "mimetype": "text/x-python",
   "name": "python",
   "nbconvert_exporter": "python",
   "pygments_lexer": "ipython3",
   "version": "3.9.13"
  }
 },
 "nbformat": 4,
 "nbformat_minor": 5
}
