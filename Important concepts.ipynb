{
 "cells": [
  {
   "cell_type": "code",
   "execution_count": null,
   "id": "0f10c041",
   "metadata": {},
   "outputs": [],
   "source": [
    "Question 5:\n",
    "Write a program that accepts a sentence and calculate the number of letters and digits.\n",
    "Suppose the following input is supplied to the program:\n",
    "hello world! 123\n",
    "Then, the output should be:\n",
    "LETTERS 10\n",
    "\n",
    "DIGITS 3"
   ]
  },
  {
   "cell_type": "code",
   "execution_count": 1,
   "id": "a214855c",
   "metadata": {},
   "outputs": [
    {
     "name": "stdout",
     "output_type": "stream",
     "text": [
      "hello world! 123\n",
      "LETTERS 10\n",
      " \n",
      "DIGITS 3\n"
     ]
    }
   ],
   "source": [
    "s=input()\n",
    "l=s.split(' ')\n",
    "s1=''\n",
    "for i in l:\n",
    "    s1=s1+i\n",
    "import re\n",
    "\n",
    "p=re.compile('[0-9]')\n",
    "st=p.findall(s1)\n",
    "p1=re.compile('[a-zA-Z]')\n",
    "st1=p1.findall(s1)\n",
    "len_of_digit=len(st)\n",
    "len_of_string= len(st1)\n",
    "\n",
    "print(\"LETTERS\",len(st1))\n",
    "print(' ')\n",
    "print('DIGITS',len(st))"
   ]
  },
  {
   "cell_type": "markdown",
   "id": "d591a2cb",
   "metadata": {},
   "source": [
    "# 2D ARRAY IN Python"
   ]
  },
  {
   "cell_type": "code",
   "execution_count": null,
   "id": "abde925f",
   "metadata": {},
   "outputs": [],
   "source": [
    "X=int(input())\n",
    "Y=int(input())\n",
    "L=[[0]*Y for i in range(X)] #only way to initialize 2d array\n",
    "\n",
    "\n",
    "for i in range(X):\n",
    "    for j in range(Y):\n",
    "        L[i][j]=i*j\n",
    "        \n",
    "print(L)        \n"
   ]
  },
  {
   "cell_type": "code",
   "execution_count": null,
   "id": "d3ea02a9",
   "metadata": {},
   "outputs": [],
   "source": [
    "Question 6:\n",
    "A website requires the users to input username and password to register. Write a program to\n",
    "check the validity of password input by users.\n",
    "Following are the criteria for checking the password:\n",
    "1. At least 1 letter between [a-z]\n",
    "2. At least 1 number between [0-9]\n",
    "1. At least 1 letter between [A-Z]\n",
    "3. At least 1 character from [$#@]\n",
    "4. Minimum length of transaction password: 6\n",
    "5. Maximum length of transaction password: 12\n",
    "Your program should accept a sequence of comma separated passwords and will check them\n",
    "according to the above criteria. Passwords that match the criteria are to be printed, each\n",
    "separated by a comma.\n",
    "Example\n",
    "If the following passwords are given as input to the program:\n",
    "ABd1234@1,a F1#,2w3E*,2We3345\n",
    "Then, the output of the program should be:\n",
    "ABd1234@1"
   ]
  },
  {
   "cell_type": "code",
   "execution_count": null,
   "id": "4c9c2559",
   "metadata": {},
   "outputs": [],
   "source": [
    "import re\n",
    "a=input()\n",
    "s=a.split(',')\n",
    "for i in range(len(s)):\n",
    "    if not 5<len(s[i])<=12:\n",
    "        continue\n",
    "    elif not re.search('[0-9]',s[i]):\n",
    "        continue\n",
    "    elif not re.search('[a-z]',s[i]):\n",
    "        continue\n",
    "    elif not re.search('[A-Z]',s[i]):\n",
    "        continue\n",
    "    elif not re.search('[$#@]',s[i]):\n",
    "        continue\n",
    "    elif re.search('\\s',s[i]):  ##whitespace\n",
    "        continue\n",
    "    else:\n",
    "        print(s[i])"
   ]
  },
  {
   "cell_type": "code",
   "execution_count": null,
   "id": "a7b1733e",
   "metadata": {},
   "outputs": [],
   "source": []
  },
  {
   "cell_type": "code",
   "execution_count": null,
   "id": "4e55c6b3",
   "metadata": {},
   "outputs": [],
   "source": [
    "Q8. When is pickling the best option?\n",
    "\n",
    "pickling is the best option to convert python data types like dict , list into character stream then with the help of this character stream\n",
    "we can convert tis data back to its form in another location in another file."
   ]
  },
  {
   "cell_type": "code",
   "execution_count": null,
   "id": "691e1bcd",
   "metadata": {},
   "outputs": [],
   "source": []
  },
  {
   "cell_type": "code",
   "execution_count": null,
   "id": "d1f15888",
   "metadata": {},
   "outputs": [],
   "source": [
    "#Multiple inheritance best example\n",
    "\n",
    "class Myclass:\n",
    "    def __init__(self,a):\n",
    "        self.a=a\n",
    "class Myone:\n",
    "    def __init__(self,d):\n",
    "        self.d=d\n",
    "class Mytwo(Myclass,Myone):\n",
    "    def __init__(self,a,d,b):\n",
    "        super().__init__(a)\n",
    "        Myone.__init__(self,d)\n",
    "        self.b=b\n",
    "    def show(self):\n",
    "        print(f'a is {self.a}')\n",
    "        print(f'b is {self.b}')\n",
    "        print(f'd is {self.d}')\n",
    "        \n",
    "obj=Mytwo(9,8,7)\n",
    "obj.show()"
   ]
  },
  {
   "cell_type": "code",
   "execution_count": null,
   "id": "0b748374",
   "metadata": {},
   "outputs": [],
   "source": []
  },
  {
   "cell_type": "code",
   "execution_count": 1,
   "id": "614ee4b0",
   "metadata": {},
   "outputs": [
    {
     "name": "stdout",
     "output_type": "stream",
     "text": [
      "0.30000000000000000000\n",
      "0.29999999999999998890\n"
     ]
    }
   ],
   "source": [
    "from decimal import Decimal\n",
    "\n",
    "num=0.3\n",
    "a=f\"{Decimal('0.3'):.20f}\"\n",
    "print(a)\n",
    "\n",
    "b=f\"{float('0.3'):.20f}\"\n",
    "print(b)\n",
    "\n",
    "#Decimal should b used when you want precision"
   ]
  },
  {
   "cell_type": "code",
   "execution_count": 2,
   "id": "bff04466",
   "metadata": {},
   "outputs": [
    {
     "name": "stdout",
     "output_type": "stream",
     "text": [
      "True\n",
      "False\n"
     ]
    }
   ],
   "source": [
    "a=Decimal('0.3')+Decimal('0.3')+Decimal('0.3')\n",
    "\n",
    "b=Decimal('0.9')\n",
    "\n",
    "print(a==b)\n",
    "\n",
    "a=float('0.3')+float('0.3')+float('0.3')\n",
    "\n",
    "b=float('0.9')\n",
    "\n",
    "print(a==b)"
   ]
  },
  {
   "cell_type": "code",
   "execution_count": null,
   "id": "a712dc6a",
   "metadata": {},
   "outputs": [],
   "source": [
    "Fibonacci"
   ]
  },
  {
   "cell_type": "code",
   "execution_count": 9,
   "id": "c6b7f73c",
   "metadata": {},
   "outputs": [
    {
     "name": "stdout",
     "output_type": "stream",
     "text": [
      "0\n",
      "1\n",
      "1\n",
      "2\n",
      "3\n"
     ]
    }
   ],
   "source": [
    "print(0)\n",
    "def fib(n,a=0,b=1):\n",
    "    if n==0:\n",
    "        return a\n",
    "    if n==1:\n",
    "        return b\n",
    "    print(b)\n",
    "    return fib(n-1,b,a+b)\n",
    "\n",
    "print(fib(4))"
   ]
  },
  {
   "cell_type": "code",
   "execution_count": 17,
   "id": "e6dc0036",
   "metadata": {},
   "outputs": [
    {
     "name": "stdout",
     "output_type": "stream",
     "text": [
      "Move rod from disk A to disk C\n",
      "Move rod from disk A to disk B\n",
      "Move rod from disk C to disk B\n",
      "Move rod from disk A to disk C\n",
      "Move rod from disk B to disk A\n",
      "Move rod from disk B to disk C\n",
      "Move rod from disk A to disk C\n"
     ]
    }
   ],
   "source": [
    "def towers(n,s,d,m):\n",
    "    if n==0:\n",
    "        return\n",
    "    \n",
    "    towers(n-1,s,m,d)\n",
    "    print(f\"Move rod from disk {s} to disk {d}\")\n",
    "    towers(n-1,m,d,s)\n",
    "    \n",
    "towers(3,'A','C','B')\n",
    "    \n"
   ]
  },
  {
   "cell_type": "markdown",
   "id": "db1f8028",
   "metadata": {},
   "source": [
    "# OOPS"
   ]
  },
  {
   "cell_type": "code",
   "execution_count": null,
   "id": "09fbf508",
   "metadata": {},
   "outputs": [],
   "source": [
    "static method in class can be called outsde ithout specifying self inside their parameter"
   ]
  },
  {
   "cell_type": "code",
   "execution_count": 6,
   "id": "c70f2ab0",
   "metadata": {},
   "outputs": [
    {
     "name": "stdout",
     "output_type": "stream",
     "text": [
      "self should not be given\n",
      "method2\n",
      "self should not be given\n"
     ]
    },
    {
     "ename": "TypeError",
     "evalue": "method2() missing 1 required positional argument: 'self'",
     "output_type": "error",
     "traceback": [
      "\u001b[1;31m---------------------------------------------------------------------------\u001b[0m",
      "\u001b[1;31mTypeError\u001b[0m                                 Traceback (most recent call last)",
      "\u001b[1;32m~\\AppData\\Local\\Temp\\ipykernel_8940\\784952775.py\u001b[0m in \u001b[0;36m<module>\u001b[1;34m\u001b[0m\n\u001b[0;32m     12\u001b[0m \u001b[0mobj\u001b[0m\u001b[1;33m.\u001b[0m\u001b[0mmethod2\u001b[0m\u001b[1;33m(\u001b[0m\u001b[1;33m)\u001b[0m\u001b[1;33m\u001b[0m\u001b[1;33m\u001b[0m\u001b[0m\n\u001b[0;32m     13\u001b[0m \u001b[0mOops\u001b[0m\u001b[1;33m.\u001b[0m\u001b[0mmethod1\u001b[0m\u001b[1;33m(\u001b[0m\u001b[1;33m)\u001b[0m\u001b[1;33m\u001b[0m\u001b[1;33m\u001b[0m\u001b[0m\n\u001b[1;32m---> 14\u001b[1;33m \u001b[0mOops\u001b[0m\u001b[1;33m.\u001b[0m\u001b[0mmethod2\u001b[0m\u001b[1;33m(\u001b[0m\u001b[1;33m)\u001b[0m  \u001b[1;31m## this will ive error as you have given self so you only call it by making object of it\u001b[0m\u001b[1;33m\u001b[0m\u001b[1;33m\u001b[0m\u001b[0m\n\u001b[0m",
      "\u001b[1;31mTypeError\u001b[0m: method2() missing 1 required positional argument: 'self'"
     ]
    }
   ],
   "source": [
    "class Oops:\n",
    "    \n",
    "    @staticmethod\n",
    "    def method1():\n",
    "        print(\"self should not be given\")\n",
    "        \n",
    "    def method2(self):\n",
    "        print(\"method2\")\n",
    "        \n",
    "obj=Oops()\n",
    "obj.method1()\n",
    "obj.method2()\n",
    "Oops.method1()\n",
    "Oops.method2()  ## this will ive error as you have given self so you only call it by making object of it"
   ]
  },
  {
   "cell_type": "markdown",
   "id": "9eb16a79",
   "metadata": {},
   "source": [
    "# usability of static method- the insert/update and like mthods in utils.py and all utility methods should be given in static method so that obj of that class not needs to be created."
   ]
  },
  {
   "cell_type": "code",
   "execution_count": null,
   "id": "1b6013ff",
   "metadata": {},
   "outputs": [],
   "source": []
  },
  {
   "cell_type": "code",
   "execution_count": null,
   "id": "f343c5bb",
   "metadata": {},
   "outputs": [],
   "source": [
    "Method overloading- It is a concept where method name will be same ."
   ]
  },
  {
   "cell_type": "code",
   "execution_count": 8,
   "id": "56c71931",
   "metadata": {},
   "outputs": [
    {
     "name": "stdout",
     "output_type": "stream",
     "text": [
      "8 7 6\n"
     ]
    }
   ],
   "source": [
    "class test8:\n",
    "    \n",
    "    def test(self,a=8,b=7,c=6):\n",
    "        print(a,b,c)\n",
    "    \n",
    "obj=test8()\n",
    "obj.test()"
   ]
  },
  {
   "cell_type": "code",
   "execution_count": 9,
   "id": "76493410",
   "metadata": {},
   "outputs": [
    {
     "name": "stdout",
     "output_type": "stream",
     "text": [
      "dev ansh 6\n"
     ]
    }
   ],
   "source": [
    "obj.test(\"dev\",\"ansh\")"
   ]
  },
  {
   "cell_type": "code",
   "execution_count": 10,
   "id": "11aa734d",
   "metadata": {},
   "outputs": [
    {
     "name": "stdout",
     "output_type": "stream",
     "text": [
      "mom you're beautiful\n"
     ]
    }
   ],
   "source": [
    "obj.test(\"mom\",\"you're\",\"beautiful\")"
   ]
  },
  {
   "cell_type": "markdown",
   "id": "5db81bdd",
   "metadata": {},
   "source": [
    "# polymorphism"
   ]
  },
  {
   "cell_type": "code",
   "execution_count": null,
   "id": "93f04f38",
   "metadata": {},
   "outputs": [],
   "source": [
    "#method overloading and methdoverridig hrlpsin achieving polymorphism"
   ]
  },
  {
   "cell_type": "code",
   "execution_count": 13,
   "id": "aae74742",
   "metadata": {},
   "outputs": [
    {
     "data": {
      "text/plain": [
       "'devansh gupta'"
      ]
     },
     "execution_count": 13,
     "metadata": {},
     "output_type": "execute_result"
    }
   ],
   "source": [
    "def test(a,b):\n",
    "    return a+b\n",
    "\n",
    "test(\"devansh\",\" gupta\")"
   ]
  },
  {
   "cell_type": "code",
   "execution_count": 14,
   "id": "1c7cfbf0",
   "metadata": {},
   "outputs": [
    {
     "data": {
      "text/plain": [
       "7"
      ]
     },
     "execution_count": 14,
     "metadata": {},
     "output_type": "execute_result"
    }
   ],
   "source": [
    "test(3,4)"
   ]
  },
  {
   "cell_type": "markdown",
   "id": "01efec3a",
   "metadata": {},
   "source": [
    "# logging  ##do not use print statement in production codes oly use logging\n"
   ]
  },
  {
   "cell_type": "code",
   "execution_count": 15,
   "id": "35d8b3c7",
   "metadata": {},
   "outputs": [],
   "source": [
    "import logging\n",
    "\n",
    "logging.basicConfig(filename=\"data_science.txt\",level=logging.DEBUG,filemode='w',format=\"%(asctime)s %(levelname)s %(message)s\")\n",
    "\n",
    "\n",
    "\n",
    "\n",
    "class file : \n",
    "    def __init__(self , filename)  :\n",
    "        self.filename = filename \n",
    "                    \n",
    "    def read(self):\n",
    "        logging.info(\"This is a start of read operation \" )\n",
    "        try :\n",
    "            logging.info(\"i am inside try block of read method \")\n",
    "            with open(self.filename , 'r') as file :\n",
    "                data = file.read()\n",
    "                logging.info(\"I am able to read the file \")\n",
    "                return data\n",
    "        except FileNotFoundError as e :\n",
    "            #print(e)\n",
    "            logging.error(\"there is some issue with  the read file operation\")\n",
    "            logging.error(e)\n",
    "        \n",
    "    def write(self,data1):\n",
    "        try: \n",
    "            \n",
    "            with open(self.filename, 'a') as file :\n",
    "                data = file.write(data1) \n",
    "        except Exception as e : \n",
    "            print(e)"
   ]
  },
  {
   "cell_type": "code",
   "execution_count": 17,
   "id": "31960f9f",
   "metadata": {},
   "outputs": [
    {
     "data": {
      "text/plain": [
       "'Write is performed now.........Write is performed now.........'"
      ]
     },
     "execution_count": 17,
     "metadata": {},
     "output_type": "execute_result"
    }
   ],
   "source": [
    "obj=file(\"data_science2.txt\")\n",
    "obj.write(\"Write is performed now.........\")\n",
    "obj.read()"
   ]
  },
  {
   "cell_type": "markdown",
   "id": "797b7b95",
   "metadata": {},
   "source": [
    "# MY SQL BULK UPLOAD DATA FROM GLASS.CSV FILE"
   ]
  },
  {
   "cell_type": "code",
   "execution_count": null,
   "id": "c22836f1",
   "metadata": {},
   "outputs": [],
   "source": [
    "import logging\n",
    "import mysql.connector as conn\n",
    "\n",
    "import csv\n",
    "\n",
    "logging.basicConfig(filename=\"sql_bulk_upload.log\", level=logging.DEBUG, filemode='w', format = \"%(asctime)s %(levelname)s %(message)s\")\n",
    "\n",
    "class MySQL_Bulk_Upload():\n",
    "    \n",
    "    def __init__(self, host, user, password,database):\n",
    "        self.host = host\n",
    "        self.user = user\n",
    "        self.password = password\n",
    "        self.database = database\n",
    "        \n",
    "    def create_connection(self):\n",
    "        try:\n",
    "            mydb = conn.connect(host = self.host, user = self.user, passwd = self.password, database = self.database)\n",
    "            cursor = mydb.cursor()\n",
    "            self.mydb = mydb\n",
    "            self.cursor = cursor\n",
    "            logging.info(\"Connection to DB successful\")\n",
    "            print(\"Connection to DB successful\")\n",
    "        except Exception as e:\n",
    "            logging.error(\"Exception occurred\", e)\n",
    "        \n",
    "        \n",
    "    def create_table(self, table_name, columns):\n",
    "        try:\n",
    "            self.table_name = table_name\n",
    "            self.columns = columns\n",
    "            self.cursor.execute(f\"CREATE TABLE if not exists {self.table_name}({self.columns})\")\n",
    "            self.mydb.commit()\n",
    "            logging.info(\"table has created\")\n",
    "            print(\"Table has created\")\n",
    "        except Exception as e:\n",
    "            logging.error(\"Exception occurred\", e)\n",
    "        \n",
    "    def insert_data(self,csv_file):\n",
    "        try:\n",
    "            with open(csv_file, \"r\") as f:\n",
    "                data  = csv.reader(f, delimiter = '\\n')\n",
    "                next(data)\n",
    "                for i in data:\n",
    "                    self.cursor.execute(f'insert into {self.database}.{self.table_name} values({str(i[0])})')\n",
    "            self.mydb.commit()\n",
    "            logging.info(\"Bulk Upload is successful\")\n",
    "        \n",
    "        except Exception as e:\n",
    "            print(e)\n",
    "            logging.error(\"Exception occurred\",e)\n",
    "                   \n",
    "        \n",
    "    def show_data(self):\n",
    "        try:\n",
    "            self.cursor.execute(f\"SELECT * from {self.table_name}\")\n",
    "            logging.info(\"Showing Data from table is successful\")\n",
    "            print(self.cursor.fetchall())\n",
    "        except Exception as e:\n",
    "            logging.error(\"Exception occurred\", e)\n",
    "\n",
    "\n",
    "obj = MySQL_Bulk_Upload(\"localhost\", \"abc\", \"password\", \"ineuron\")\n",
    "\n",
    "obj.create_connection()\n",
    "\n",
    "obj.create_table(\"glassdata2\", \"col1 INT(10), col2 float(30,10), col3 float(30,10), col4 float(30,10), col5 float(30,10), col6 float(30,10), col7 float(30,10), col8 float(30,10), col9 float(30,10), col10 float(30,10), col11 INT(10)\")\n",
    "\n",
    "\n",
    "obj.insert_data(\"glass.data\")\n",
    "\n",
    "\n",
    "obj.show_data()"
   ]
  }
 ],
 "metadata": {
  "kernelspec": {
   "display_name": "Python 3 (ipykernel)",
   "language": "python",
   "name": "python3"
  },
  "language_info": {
   "codemirror_mode": {
    "name": "ipython",
    "version": 3
   },
   "file_extension": ".py",
   "mimetype": "text/x-python",
   "name": "python",
   "nbconvert_exporter": "python",
   "pygments_lexer": "ipython3",
   "version": "3.9.13"
  }
 },
 "nbformat": 4,
 "nbformat_minor": 5
}
