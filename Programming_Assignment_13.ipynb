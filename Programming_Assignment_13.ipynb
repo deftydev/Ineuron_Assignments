{
 "cells": [
  {
   "cell_type": "markdown",
   "id": "3d8fd65f",
   "metadata": {},
   "source": [
    "# Question 1:\n",
    "Write a program that calculates and prints the value according to the given formula:\n",
    "Q = Square root of [(2 * C * D)/H]\n",
    "Following are the fixed values of C and H:\n",
    "C is 50. H is 30.\n",
    "D is the variable whose values should be input to your program in a comma-separated\n",
    "sequence.\n",
    "Example\n",
    "Let us assume the following comma separated input sequence is given to the program:\n",
    "100,150,180\n",
    "The output of the program should be:\n",
    "18,22,24"
   ]
  },
  {
   "cell_type": "code",
   "execution_count": 5,
   "id": "09950242",
   "metadata": {},
   "outputs": [
    {
     "name": "stdout",
     "output_type": "stream",
     "text": [
      "100,150,180\n",
      "18\n",
      "22\n",
      "24\n"
     ]
    }
   ],
   "source": [
    "import math\n",
    "C=50\n",
    "H=30\n",
    "\n",
    "d1=input()\n",
    "d=d1.split(',')\n",
    "\n",
    "for j in range(3):\n",
    "    q=math.sqrt((2*C*int(d[j]))/H)\n",
    "    print(int(q))\n"
   ]
  },
  {
   "cell_type": "code",
   "execution_count": null,
   "id": "ffd8ab49",
   "metadata": {},
   "outputs": [],
   "source": [
    "Question 2:\n",
    "Write a program which takes 2 digits, X,Y as input and generates a 2-dimensional array. The\n",
    "element value in the i-th row and j-th column of the array should be i*j.\n",
    "Note: i=0,1.., X-1; j=0,1,¡Y-1.\n",
    "Example\n",
    "Suppose the following inputs are given to the program:\n",
    "3,5\n",
    "Then, the output of the program should be:\n",
    "[[0, 0, 0, 0, 0], [0, 1, 2, 3, 4], [0, 2, 4, 6, 8]]"
   ]
  },
  {
   "cell_type": "code",
   "execution_count": 5,
   "id": "fde95ba3",
   "metadata": {},
   "outputs": [
    {
     "name": "stdout",
     "output_type": "stream",
     "text": [
      "3\n",
      "5\n",
      "[[0, 0, 0, 0, 0], [0, 1, 2, 3, 4], [0, 2, 4, 6, 8]]\n"
     ]
    }
   ],
   "source": [
    "X=int(input())\n",
    "Y=int(input())\n",
    "L=[[0]*Y for i in range(X)]\n",
    "\n",
    "\n",
    "for i in range(X):\n",
    "    for j in range(Y):\n",
    "        L[i][j]=i*j\n",
    "        \n",
    "print(L)        \n"
   ]
  },
  {
   "cell_type": "code",
   "execution_count": null,
   "id": "455f8a82",
   "metadata": {},
   "outputs": [],
   "source": [
    "Question 3:\n",
    "Write a program that accepts a comma separated sequence of words as input and prints the\n",
    "words in a comma-separated sequence after sorting them alphabetically.\n",
    "Suppose the following input is supplied to the program:\n",
    "without,hello,bag,world\n",
    "Then, the output should be:\n",
    "bag,hello,without,world"
   ]
  },
  {
   "cell_type": "code",
   "execution_count": 10,
   "id": "bbe5ede5",
   "metadata": {},
   "outputs": [
    {
     "name": "stdout",
     "output_type": "stream",
     "text": [
      "without,hello,bag,world\n",
      "bag,hello,without,world\n"
     ]
    }
   ],
   "source": [
    "a= input()\n",
    "l=a.split(',')\n",
    "l.sort()\n",
    "s=''\n",
    "for i in range(len(l)):\n",
    "    if i==len(l)-1:\n",
    "        s=s+l[i]\n",
    "    else:\n",
    "        s=s+l[i]+','\n",
    "print(s)"
   ]
  },
  {
   "cell_type": "code",
   "execution_count": null,
   "id": "fa56cd68",
   "metadata": {},
   "outputs": [],
   "source": [
    "Question 4:\n",
    "Write a program that accepts a sequence of whitespace separated words as input and prints\n",
    "the words after removing all duplicate words and sorting them alphanumerically.\n",
    "Suppose the following input is supplied to the program:\n",
    "hello world and practice makes perfect and hello world again\n",
    "Then, the output should be:\n",
    "again and hello makes perfect practice world"
   ]
  },
  {
   "cell_type": "code",
   "execution_count": 5,
   "id": "29ce5fb1",
   "metadata": {},
   "outputs": [
    {
     "name": "stdout",
     "output_type": "stream",
     "text": [
      "again and hello makes perfect practice world\n"
     ]
    }
   ],
   "source": [
    "import collections\n",
    "a=\"hello world and practice makes perfect and hello world again\"\n",
    "l=a.split(' ')\n",
    "l.sort()\n",
    "\n",
    "for i,j in collections.Counter(l).items():\n",
    "    if j>=2:\n",
    "        l.remove(i)\n",
    "\n",
    "s=''\n",
    "for i in range(len(l)):\n",
    "    if i==len(l)-1:\n",
    "        s=s+l[i]\n",
    "    else:\n",
    "        s=s+l[i]+' '\n",
    "print(s)"
   ]
  },
  {
   "cell_type": "code",
   "execution_count": null,
   "id": "37d4ed2b",
   "metadata": {},
   "outputs": [],
   "source": [
    "Question 5:\n",
    "Write a program that accepts a sentence and calculate the number of letters and digits.\n",
    "Suppose the following input is supplied to the program:\n",
    "hello world! 123\n",
    "Then, the output should be:\n",
    "LETTERS 10\n",
    "\n",
    "DIGITS 3"
   ]
  },
  {
   "cell_type": "code",
   "execution_count": 7,
   "id": "34b9bc10",
   "metadata": {},
   "outputs": [
    {
     "name": "stdout",
     "output_type": "stream",
     "text": [
      "hello world! 123\n",
      "LETTERS 10\n",
      " \n",
      "DIGITS 3\n"
     ]
    }
   ],
   "source": [
    "s=input()\n",
    "l=s.split(' ')\n",
    "s1=''\n",
    "for i in l:\n",
    "    s1=s1+i\n",
    "import re\n",
    "\n",
    "p=re.compile('[0-9]')\n",
    "st=p.findall(s1)\n",
    "p1=re.compile('[a-zA-Z]')\n",
    "st1=p1.findall(s1)\n",
    "len_of_digit=len(st)\n",
    "len_of_string= len(st1)\n",
    "\n",
    "print(\"LETTERS\",len(st1))\n",
    "print(' ')\n",
    "print('DIGITS',len(st))"
   ]
  },
  {
   "cell_type": "code",
   "execution_count": null,
   "id": "b7c64162",
   "metadata": {},
   "outputs": [],
   "source": [
    "Question 6:\n",
    "A website requires the users to input username and password to register. Write a program to\n",
    "check the validity of password input by users.\n",
    "Following are the criteria for checking the password:\n",
    "1. At least 1 letter between [a-z]\n",
    "2. At least 1 number between [0-9]\n",
    "1. At least 1 letter between [A-Z]\n",
    "3. At least 1 character from [$#@]\n",
    "4. Minimum length of transaction password: 6\n",
    "5. Maximum length of transaction password: 12\n",
    "Your program should accept a sequence of comma separated passwords and will check them\n",
    "according to the above criteria. Passwords that match the criteria are to be printed, each\n",
    "separated by a comma.\n",
    "Example\n",
    "If the following passwords are given as input to the program:\n",
    "ABd1234@1,a F1#,2w3E*,2We3345\n",
    "Then, the output of the program should be:\n",
    "ABd1234@1"
   ]
  },
  {
   "cell_type": "code",
   "execution_count": 9,
   "id": "1db9f65e",
   "metadata": {},
   "outputs": [
    {
     "name": "stdout",
     "output_type": "stream",
     "text": [
      "ABd1234@1,a F1#,2w3E*,2We3345\n",
      "ABd1234@1\n"
     ]
    }
   ],
   "source": [
    "import re\n",
    "a=input()\n",
    "s=a.split(',')\n",
    "for i in range(len(s)):\n",
    "    if not 5<len(s[i])<=12:\n",
    "        continue\n",
    "    elif not re.search('[0-9]',s[i]):\n",
    "        continue\n",
    "    elif not re.search('[a-z]',s[i]):\n",
    "        continue\n",
    "    elif not re.search('[A-Z]',s[i]):\n",
    "        continue\n",
    "    elif not re.search('[$#@]',s[i]):\n",
    "        continue\n",
    "    elif re.search('\\s',s[i]):  ##whitespace\n",
    "        continue\n",
    "    else:\n",
    "        print(s[i])"
   ]
  },
  {
   "cell_type": "code",
   "execution_count": null,
   "id": "fb9ecc1c",
   "metadata": {},
   "outputs": [],
   "source": []
  }
 ],
 "metadata": {
  "kernelspec": {
   "display_name": "Python 3 (ipykernel)",
   "language": "python",
   "name": "python3"
  },
  "language_info": {
   "codemirror_mode": {
    "name": "ipython",
    "version": 3
   },
   "file_extension": ".py",
   "mimetype": "text/x-python",
   "name": "python",
   "nbconvert_exporter": "python",
   "pygments_lexer": "ipython3",
   "version": "3.9.13"
  }
 },
 "nbformat": 4,
 "nbformat_minor": 5
}
