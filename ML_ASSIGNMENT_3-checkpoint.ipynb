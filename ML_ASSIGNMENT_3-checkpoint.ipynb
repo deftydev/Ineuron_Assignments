{
 "cells": [
  {
   "cell_type": "code",
   "execution_count": null,
   "id": "7e57981e",
   "metadata": {},
   "outputs": [],
   "source": [
    "1.Explain the term machine learning, and how does it work? Explain two machine learning\n",
    "applications in the business world. What are some of the ethical concerns that machine learning\n",
    "applications could raise?\n",
    "\n",
    "Machine learning simply means when machine tries to learn or understand something without being explicitly programmed.\n",
    "\n",
    "Used in predicting company sales/growth\n",
    "Used in predicting growth of crop(wheat/potatoes) this year and the influence by other factors.\n",
    "\n",
    "Ethical concerns-: It can lead to mimic human behaviour completely which can lead to significant increase in domination\n",
    "    of mchines over humans, they can also lead to use of user's data without their consent."
   ]
  },
  {
   "cell_type": "code",
   "execution_count": null,
   "id": "696b7167",
   "metadata": {},
   "outputs": [],
   "source": []
  },
  {
   "cell_type": "code",
   "execution_count": null,
   "id": "ddb2186c",
   "metadata": {},
   "outputs": [],
   "source": [
    "2. Describe the process of human learning:\n",
    "    \n",
    "i. Under the supervision of experts\n",
    "--> It simply means when human tries to learn something while taking learning from others and by listening to their experiences\n",
    "the simply try to grasp things the way the experts thought to them.\n",
    "\n",
    "ii. With the assistance of experts in an indirect manner\n",
    "--> In this users tries to learn something on thier own but they follow the path told by their mentor.\n",
    "\n",
    "iii. Self-education\n",
    "--> In this whole effort is put by the persons and on the basics of his/her decisions they are able to reach conclusions."
   ]
  },
  {
   "cell_type": "code",
   "execution_count": null,
   "id": "0a361be5",
   "metadata": {},
   "outputs": [],
   "source": []
  },
  {
   "cell_type": "code",
   "execution_count": null,
   "id": "28aaed5d",
   "metadata": {},
   "outputs": [],
   "source": [
    "Provide a few examples of various types of machine learning.\n",
    "\n",
    "Supervised ML-: when you try to predict the weight or Height of the person based on previous inputs.\n",
    "    \n",
    "Unsupervised ML-: when you try to predict whether the figure shown is of CAT, DOG or any other animal\n",
    "    \n",
    "Reinforcement learning-: When robot tries to find its way by itself if it encounters any obstacles in between."
   ]
  },
  {
   "cell_type": "code",
   "execution_count": null,
   "id": "4607413c",
   "metadata": {},
   "outputs": [],
   "source": []
  },
  {
   "cell_type": "code",
   "execution_count": null,
   "id": "64462701",
   "metadata": {},
   "outputs": [],
   "source": [
    "4. Examine the various forms of machine learning.\n",
    "\n",
    " Supervised Learning In this type of machine learning, machines are trained using labeled datasets.\n",
    " Unsupervised Learning Unlike the supervised learning technique, here there is no supervision involved.\n",
    " Semi-Supervised Learning This technique was created keeping the pros and cons of the supervised and unsupervised learning methods in mind. .."
   ]
  },
  {
   "cell_type": "code",
   "execution_count": null,
   "id": "59ec6de2",
   "metadata": {},
   "outputs": [],
   "source": []
  },
  {
   "cell_type": "code",
   "execution_count": null,
   "id": "0a2eab40",
   "metadata": {},
   "outputs": [],
   "source": [
    "5. Can you explain what a well-posed learning problem is? Explain the main characteristics that must\n",
    "be present to identify a learning problem properly."
   ]
  },
  {
   "cell_type": "code",
   "execution_count": null,
   "id": "4cf05507",
   "metadata": {},
   "outputs": [],
   "source": [
    "A learning problem simply means which has inputs and on the basics of previous inputs you try to predict value\n",
    "for the other inputs supplied to the network.\n",
    "\n",
    "Like weights and height problem\n",
    "as w is directly proportional to height.\n",
    "w= mh + c , so in this machine find error in m and error in c and then try to find new slope and new intercept and when error becomes \n",
    "proportional tose are the values of m and c and on the basics of that predict the weight or height as required."
   ]
  },
  {
   "cell_type": "code",
   "execution_count": null,
   "id": "88aef3f3",
   "metadata": {},
   "outputs": [],
   "source": []
  },
  {
   "cell_type": "code",
   "execution_count": null,
   "id": "b3d277dd",
   "metadata": {},
   "outputs": [],
   "source": [
    "6. Is machine learning capable of solving all problems? Give a detailed explanation of your answer.\n",
    "\n",
    "ML does not work well with images/ speech datasets as they are not represent by simply numbers."
   ]
  },
  {
   "cell_type": "code",
   "execution_count": null,
   "id": "e8f2f383",
   "metadata": {},
   "outputs": [],
   "source": []
  },
  {
   "cell_type": "code",
   "execution_count": null,
   "id": "3be8dddf",
   "metadata": {},
   "outputs": [],
   "source": [
    "7. What are the various methods and technologies for solving machine learning problems? Any two\n",
    "of them should be defined in detail.\n",
    "\n",
    "Linear regression , logistic regression , decision tress, random forest, clustering , bagging classifiers\n",
    "\n",
    "Linear regression example-:\n",
    "    Like weights and height problem\n",
    "as w is directly proportional to height.\n",
    "w= mh + c , so in this machine find error in m and error in c and then try to find new slope and new intercept and when error becomes \n",
    "proportional tose are the values of m and c and on the basics of that predict the weight or height as required.\n",
    "\n",
    "Logistic regression - in this simply the data is divided in two classes using sigmoid activation function and basedon the that\n",
    "the new data point will be predicting that it will belong to this class or not \n",
    "\n",
    "p(x) = 1/ 1 + e.(-)pow(mx+c)\n",
    "\n",
    "having cost function = -1/m summation (y loy p(x) + (1-y)log(1-p(x)))\n",
    "on the basis of it \n",
    "as updating values of m and c is found and \n",
    "log p(x)/1 + p(x) = mx+c\n",
    "\n",
    " we fill found whether it belongd to one class or the other.\n",
    "    by putting threshold if p(x)<0.5 or p(x)>0.5\n",
    "\n",
    "\n",
    "    "
   ]
  },
  {
   "cell_type": "code",
   "execution_count": null,
   "id": "9b9581f6",
   "metadata": {},
   "outputs": [],
   "source": []
  },
  {
   "cell_type": "code",
   "execution_count": null,
   "id": "79851d3a",
   "metadata": {},
   "outputs": [],
   "source": [
    "8. Can you explain the various forms of supervised learning? Explain each one with an example\n",
    "application.\n",
    "Regression: In regression, a single output value is produced using training data.For example, regression can help predict the price of a house based on its locality, size, etc.\n",
    "Classification: It involves grouping the data into classes.eg. If you are thinking of extending credit to a person, you can use classification to determine whether or not a person would be a loan defaulter.\n",
    "Naive Bayesian Model: The Bayesian model of classification is used for large finite datasets. It is a method of assigning class labels using a direct acyclic graph.\n",
    "Decision Trees: A decision tree is a flowchart-like model that contains conditional control statements, comprising decisions and their probable consequences. The output relates to the labelling of unforeseen data."
   ]
  },
  {
   "cell_type": "code",
   "execution_count": null,
   "id": "8485d279",
   "metadata": {},
   "outputs": [],
   "source": []
  },
  {
   "cell_type": "code",
   "execution_count": null,
   "id": "ea95b78c",
   "metadata": {},
   "outputs": [],
   "source": [
    "9. What is the difference between supervised and unsupervised learning? With a sample application\n",
    "in each region, explain the differences.\n",
    "\n",
    "supervised learning-:\n",
    "    Like weights and height problem\n",
    "as w is directly proportional to height.\n",
    "w= mh + c , so in this machine find error in m and error in c and then try to find new slope and new intercept and when error becomes \n",
    "proportional tose are the values of m and c and on the basics of that predict the weight or height as required.\n",
    "\n",
    "\n",
    "unsupervised learning-: clustering problems, like labelling different types of animals.\n",
    "    \n",
    "    "
   ]
  },
  {
   "cell_type": "code",
   "execution_count": null,
   "id": "6f8b02a4",
   "metadata": {},
   "outputs": [],
   "source": []
  },
  {
   "cell_type": "code",
   "execution_count": null,
   "id": "21ac30d4",
   "metadata": {},
   "outputs": [],
   "source": [
    "11. Make a comparison between:-\n",
    "Generalization and abstraction\n",
    "Learning that is guided and unsupervised\n",
    "Regression and classification\n",
    "Ans: The differences between among the given concepts is:\n",
    "\n",
    "Generalization and abstraction: Abstraction is the process of removing details of objects. And Generalization, then, is the formulation of general concepts from specific instances by abstracting common properties. A concrete object can be looked at as a “subset” of a more generalized object.\n",
    "\n",
    "Learning that is guided and Unsupervised: Supervised learning is the method that trains machines to use data that is well classified and labeled. Whereas Unsupervised learning, on the other hand, is the method that trains machines to use data that is neither classified nor labeled.\n",
    "\n",
    "Regression and classification:\n",
    "\n",
    "Classification Models – Classification models are used for problems where the output variable can be categorized, such as Yes or No, or Pass or Fail. Classification Models are used to predict the category of the data. Real-life examples include spam detection, sentiment analysis, scorecard prediction of exams, etc.\n",
    "\n",
    "Regression Models – Regression models are used for problems where the output variable is a real value such as a unique number, dollars, salary, weight or pressure, for example. It is most often used to predict numerical values based on previous data observations. Some of the more familiar regression algorithms include linear regression, logistic regression, polynomial regression, and ridge regression."
   ]
  },
  {
   "cell_type": "code",
   "execution_count": null,
   "id": "863d173f",
   "metadata": {},
   "outputs": [],
   "source": []
  },
  {
   "cell_type": "code",
   "execution_count": null,
   "id": "54cec4bc",
   "metadata": {},
   "outputs": [],
   "source": []
  },
  {
   "cell_type": "code",
   "execution_count": null,
   "id": "58b963a6",
   "metadata": {},
   "outputs": [],
   "source": []
  },
  {
   "cell_type": "code",
   "execution_count": null,
   "id": "0a9cb23d",
   "metadata": {},
   "outputs": [],
   "source": []
  },
  {
   "cell_type": "code",
   "execution_count": null,
   "id": "3262b190",
   "metadata": {},
   "outputs": [],
   "source": []
  },
  {
   "cell_type": "code",
   "execution_count": null,
   "id": "76a61d8c",
   "metadata": {},
   "outputs": [],
   "source": []
  },
  {
   "cell_type": "code",
   "execution_count": null,
   "id": "6ec50803",
   "metadata": {},
   "outputs": [],
   "source": []
  },
  {
   "cell_type": "code",
   "execution_count": null,
   "id": "5bf6c687",
   "metadata": {},
   "outputs": [],
   "source": []
  },
  {
   "cell_type": "code",
   "execution_count": null,
   "id": "048e69ae",
   "metadata": {},
   "outputs": [],
   "source": []
  },
  {
   "cell_type": "code",
   "execution_count": null,
   "id": "03cb0446",
   "metadata": {},
   "outputs": [],
   "source": []
  },
  {
   "cell_type": "code",
   "execution_count": null,
   "id": "3f9fe14d",
   "metadata": {},
   "outputs": [],
   "source": []
  },
  {
   "cell_type": "code",
   "execution_count": null,
   "id": "2d1778a0",
   "metadata": {},
   "outputs": [],
   "source": []
  },
  {
   "cell_type": "code",
   "execution_count": null,
   "id": "9fb12aaa",
   "metadata": {},
   "outputs": [],
   "source": []
  }
 ],
 "metadata": {
  "kernelspec": {
   "display_name": "Python 3 (ipykernel)",
   "language": "python",
   "name": "python3"
  },
  "language_info": {
   "codemirror_mode": {
    "name": "ipython",
    "version": 3
   },
   "file_extension": ".py",
   "mimetype": "text/x-python",
   "name": "python",
   "nbconvert_exporter": "python",
   "pygments_lexer": "ipython3",
   "version": "3.9.13"
  }
 },
 "nbformat": 4,
 "nbformat_minor": 5
}
