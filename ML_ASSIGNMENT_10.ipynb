{
 "cells": [
  {
   "cell_type": "code",
   "execution_count": null,
   "id": "266057dd",
   "metadata": {},
   "outputs": [],
   "source": [
    "1. Define the Bayesian interpretation of probability.\n",
    "They simply means a probability measues the degree of belief\n",
    "\n",
    "2. Define probability of a union of two events with equation.\n",
    "P(A u B) = P(A)+P(B)-P(A intersection B)\n",
    "\n",
    "3. What is joint probability? What is its formula?\n",
    "Joint Probability: P(A and B) = P(A)*P(B)"
   ]
  },
  {
   "cell_type": "code",
   "execution_count": null,
   "id": "125f5cb4",
   "metadata": {},
   "outputs": [],
   "source": []
  },
  {
   "cell_type": "code",
   "execution_count": null,
   "id": "6ef33181",
   "metadata": {},
   "outputs": [],
   "source": [
    "5. What is conditional probability means? What is the formula of it?\n",
    "It is the probability of happening of event A , if event B has already happened\n",
    "P(A|B)= P(B|A)P(A) / P(B)\n",
    "\n",
    "6. What are continuous random variables?\n",
    "Continous random variables are the variables which are continous in nature like predicting if how many times we will rveive 2 from a dice\n",
    "if dice is tolled 10 times\n",
    "\n",
    "7. What are Bernoulli distributions? What is the formula of it?\n",
    "Bernoulli distribution is the distribution which gives 2 outcomes success and failure , it is a large part of binomial \n",
    "distribution.\n",
    "\n",
    "8. What is binomial distribution? What is the formula?\n",
    "binomail distribution is the distribution which gives 2 outcomes success and failure , like tossing  coin will give only\n",
    "2 results head or tail."
   ]
  },
  {
   "cell_type": "code",
   "execution_count": null,
   "id": "bbc56f63",
   "metadata": {},
   "outputs": [],
   "source": []
  },
  {
   "cell_type": "code",
   "execution_count": null,
   "id": "04a6a6bc",
   "metadata": {},
   "outputs": [],
   "source": [
    "9. What is Poisson distribution? What is the formula?\n",
    "Poisson distribution is the distribution in which you predict then in every momemt a event is occuring\n",
    "like how many customers are present in a bank in a hour.\n",
    "\n",
    "10. Define covariance.\n",
    "covarience defines how two variables vary with respect to each other.\n",
    "\n",
    "11. Define correlation\n",
    "correlation defines how two variables are related to each other.\n",
    "\n",
    "12. Define sampling with replacement. Give example.\n",
    "13. What is sampling without replacement? Give example."
   ]
  },
  {
   "cell_type": "code",
   "execution_count": null,
   "id": "c2aaba07",
   "metadata": {},
   "outputs": [],
   "source": []
  },
  {
   "cell_type": "code",
   "execution_count": null,
   "id": "083f9e40",
   "metadata": {},
   "outputs": [],
   "source": [
    "14. What is hypothesis? Give example.\n",
    "Hypothesis means to test if the prediction that is made is correct or not\n",
    "like to predict that there are 30% of the people in a society who visit park everyday."
   ]
  }
 ],
 "metadata": {
  "kernelspec": {
   "display_name": "Python 3 (ipykernel)",
   "language": "python",
   "name": "python3"
  },
  "language_info": {
   "codemirror_mode": {
    "name": "ipython",
    "version": 3
   },
   "file_extension": ".py",
   "mimetype": "text/x-python",
   "name": "python",
   "nbconvert_exporter": "python",
   "pygments_lexer": "ipython3",
   "version": "3.9.13"
  }
 },
 "nbformat": 4,
 "nbformat_minor": 5
}
