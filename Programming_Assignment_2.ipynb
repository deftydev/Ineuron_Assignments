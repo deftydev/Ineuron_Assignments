{
 "cells": [
  {
   "cell_type": "markdown",
   "id": "110db875",
   "metadata": {},
   "source": [
    "# 1. Write a Python program to convert kilometers to miles?\n"
   ]
  },
  {
   "cell_type": "code",
   "execution_count": null,
   "id": "93e2bd8c",
   "metadata": {},
   "outputs": [],
   "source": []
  },
  {
   "cell_type": "code",
   "execution_count": 2,
   "id": "0d7e6da9",
   "metadata": {},
   "outputs": [
    {
     "name": "stdout",
     "output_type": "stream",
     "text": [
      "621.0\n"
     ]
    }
   ],
   "source": [
    "kilometre =1000\n",
    "\n",
    "miles= int(kilometre)*0.621\n",
    "print(miles)"
   ]
  },
  {
   "cell_type": "markdown",
   "id": "9bfb02c8",
   "metadata": {},
   "source": [
    "# 2. Write a Python program to convert Celsius to Fahrenheit?"
   ]
  },
  {
   "cell_type": "code",
   "execution_count": 7,
   "id": "2456f8fe",
   "metadata": {},
   "outputs": [
    {
     "name": "stdout",
     "output_type": "stream",
     "text": [
      "176.0\n"
     ]
    }
   ],
   "source": [
    "cel = 80 \n",
    "fahrnhit=(cel*1.8)+32\n",
    "print(fahrnhit)"
   ]
  },
  {
   "cell_type": "markdown",
   "id": "7cf270fc",
   "metadata": {},
   "source": [
    "# 3. Write a Python program to display calendar?"
   ]
  },
  {
   "cell_type": "code",
   "execution_count": 8,
   "id": "77e40814",
   "metadata": {},
   "outputs": [
    {
     "data": {
      "text/plain": [
       "'                                   23\\n\\n      January                   February                   March\\nMo Tu We Th Fr Sa Su      Mo Tu We Th Fr Sa Su      Mo Tu We Th Fr Sa Su\\n                   1             1  2  3  4  5             1  2  3  4  5\\n 2  3  4  5  6  7  8       6  7  8  9 10 11 12       6  7  8  9 10 11 12\\n 9 10 11 12 13 14 15      13 14 15 16 17 18 19      13 14 15 16 17 18 19\\n16 17 18 19 20 21 22      20 21 22 23 24 25 26      20 21 22 23 24 25 26\\n23 24 25 26 27 28 29      27 28                     27 28 29 30 31\\n30 31\\n\\n       April                      May                       June\\nMo Tu We Th Fr Sa Su      Mo Tu We Th Fr Sa Su      Mo Tu We Th Fr Sa Su\\n                1  2       1  2  3  4  5  6  7                1  2  3  4\\n 3  4  5  6  7  8  9       8  9 10 11 12 13 14       5  6  7  8  9 10 11\\n10 11 12 13 14 15 16      15 16 17 18 19 20 21      12 13 14 15 16 17 18\\n17 18 19 20 21 22 23      22 23 24 25 26 27 28      19 20 21 22 23 24 25\\n24 25 26 27 28 29 30      29 30 31                  26 27 28 29 30\\n\\n        July                     August                  September\\nMo Tu We Th Fr Sa Su      Mo Tu We Th Fr Sa Su      Mo Tu We Th Fr Sa Su\\n                1  2          1  2  3  4  5  6                   1  2  3\\n 3  4  5  6  7  8  9       7  8  9 10 11 12 13       4  5  6  7  8  9 10\\n10 11 12 13 14 15 16      14 15 16 17 18 19 20      11 12 13 14 15 16 17\\n17 18 19 20 21 22 23      21 22 23 24 25 26 27      18 19 20 21 22 23 24\\n24 25 26 27 28 29 30      28 29 30 31               25 26 27 28 29 30\\n31\\n\\n      October                   November                  December\\nMo Tu We Th Fr Sa Su      Mo Tu We Th Fr Sa Su      Mo Tu We Th Fr Sa Su\\n                   1             1  2  3  4  5                   1  2  3\\n 2  3  4  5  6  7  8       6  7  8  9 10 11 12       4  5  6  7  8  9 10\\n 9 10 11 12 13 14 15      13 14 15 16 17 18 19      11 12 13 14 15 16 17\\n16 17 18 19 20 21 22      20 21 22 23 24 25 26      18 19 20 21 22 23 24\\n23 24 25 26 27 28 29      27 28 29 30               25 26 27 28 29 30 31\\n30 31\\n'"
      ]
     },
     "execution_count": 8,
     "metadata": {},
     "output_type": "execute_result"
    }
   ],
   "source": [
    "import calendar\n",
    "yy=23\n",
    "calendar.calendar(23)"
   ]
  },
  {
   "cell_type": "markdown",
   "id": "d5a5eeec",
   "metadata": {},
   "source": [
    "# 4. Write a Python program to solve quadratic equation?"
   ]
  },
  {
   "cell_type": "code",
   "execution_count": 16,
   "id": "d4dde273",
   "metadata": {},
   "outputs": [
    {
     "name": "stdout",
     "output_type": "stream",
     "text": [
      "First root -0.5 i 3.872983346207417\n",
      "Second root -0.5 -i 3.872983346207417\n"
     ]
    }
   ],
   "source": [
    "import math\n",
    "def solve_quadratic(a,b,c):\n",
    "    if(a==0):\n",
    "        return \"Not correct value entered\"\n",
    "    \n",
    "    dis= (b**b) - 4*a*c\n",
    "    sqrt_v=math.sqrt(abs(dis))\n",
    "    if dis>0:\n",
    "        print(\"First root\", -b+sqrt_v/2*a)\n",
    "        print(\"Second root\", -b-sqrt_v/2*a )\n",
    "        \n",
    "    elif dis==0:\n",
    "        print(\"root\", -b/2*a)\n",
    "    else:\n",
    "        print(\"First root\", -b/2*a+'i',sqrt_v)\n",
    "        print(\"Second root\", -b/2*a,'-i',sqrt_v )\n",
    "        \n",
    "solve_quadratic(1,1,4)"
   ]
  },
  {
   "cell_type": "code",
   "execution_count": null,
   "id": "7e3b25bd",
   "metadata": {},
   "outputs": [],
   "source": []
  },
  {
   "cell_type": "markdown",
   "id": "579a3c7e",
   "metadata": {},
   "source": [
    "# 5. Write a Python program to swap two variables without temp variable?"
   ]
  },
  {
   "cell_type": "code",
   "execution_count": 11,
   "id": "6de7cec7",
   "metadata": {},
   "outputs": [
    {
     "name": "stdout",
     "output_type": "stream",
     "text": [
      "6\n",
      "3\n"
     ]
    }
   ],
   "source": [
    "a=3\n",
    "b=6\n",
    "a=a+b\n",
    "b=abs(b-a)\n",
    "a=a-b\n",
    "print(a)\n",
    "print(b)"
   ]
  }
 ],
 "metadata": {
  "kernelspec": {
   "display_name": "Python 3 (ipykernel)",
   "language": "python",
   "name": "python3"
  },
  "language_info": {
   "codemirror_mode": {
    "name": "ipython",
    "version": 3
   },
   "file_extension": ".py",
   "mimetype": "text/x-python",
   "name": "python",
   "nbconvert_exporter": "python",
   "pygments_lexer": "ipython3",
   "version": "3.9.13"
  }
 },
 "nbformat": 4,
 "nbformat_minor": 5
}
