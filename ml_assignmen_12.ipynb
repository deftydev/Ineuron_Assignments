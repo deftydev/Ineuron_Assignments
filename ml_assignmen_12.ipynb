{
 "cells": [
  {
   "cell_type": "markdown",
   "id": "bf0e91c5",
   "metadata": {},
   "source": [
    "# 1. What is prior probability? Give an example.\n",
    "prior probability is the assumed probability before something happens \n",
    "\n",
    "2. What is posterior probability? Give an example.\n",
    "type of conditional probability that results from updating the prior probability\n",
    "\n",
    "3. What is likelihood probability? Give an example.\n",
    "Likelihood Function in Machine Learning and Data Science is the joint probability distribution(jpd) of the dataset given as a function of the parameter. Think of it as the probability of obtaining the observed data given the parameter values.\n",
    "\n",
    "4. What is Naïve Bayes classifier? Why is it named so?\n",
    " Naive Bayes is a simple and powerful algorithm for predictive modeling.\n",
    "\n",
    "5. What is optimal Bayes classifier?"
   ]
  },
  {
   "cell_type": "code",
   "execution_count": null,
   "id": "3893438d",
   "metadata": {},
   "outputs": [],
   "source": []
  },
  {
   "cell_type": "code",
   "execution_count": null,
   "id": "a8d9a296",
   "metadata": {},
   "outputs": [],
   "source": [
    " Define the concept of consistent learners ?\n",
    "Ans: Consistent Learners: A learner L using a hypothesis H and training data D is said to be a consistent\n",
    "        learner if it always outputs a hypothesis with zero error on D whenever H contains such a hypothesis. \n",
    "        • By definition, a consistent learner must produce a hypothesis in the version space for H given D.\n",
    "\n",
    "8. Write any two strengths of Bayes classifier ?\n",
    "Ans: This algorithm works quickly and can save a lot of time.\n",
    "    Naive Bayes is suitable for solving multi-class prediction problems. If its assumption of the independence \n",
    "    of features holds true, it can perform better than other models and requires much less training data.\n",
    "\n",
    "9. Write any two weaknesses of Bayes classifier ?\n",
    "Ans: The greatest weakness of the naïve Bayes classifier is that it relies on an often-faulty assumption\n",
    "    of equally important and independent features which results in biased posterior probabilities."
   ]
  }
 ],
 "metadata": {
  "kernelspec": {
   "display_name": "Python 3 (ipykernel)",
   "language": "python",
   "name": "python3"
  },
  "language_info": {
   "codemirror_mode": {
    "name": "ipython",
    "version": 3
   },
   "file_extension": ".py",
   "mimetype": "text/x-python",
   "name": "python",
   "nbconvert_exporter": "python",
   "pygments_lexer": "ipython3",
   "version": "3.9.13"
  }
 },
 "nbformat": 4,
 "nbformat_minor": 5
}
