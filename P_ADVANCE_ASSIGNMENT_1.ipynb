{
 "cells": [
  {
   "cell_type": "code",
   "execution_count": null,
   "id": "e24b8ccd",
   "metadata": {},
   "outputs": [],
   "source": [
    "Q1. What is the purpose of Python's OOP?\n",
    "Ans: Object-oriented programming is a programming paradigm that provides a means of structuring programs so that properties and behaviors are bundled into individual objects\n",
    "\n",
    "With the help of OOP we can implement real world scenario in form of inheritance, polymorphism, encapsulation and abstraction "
   ]
  },
  {
   "cell_type": "code",
   "execution_count": null,
   "id": "c30a8b42",
   "metadata": {},
   "outputs": [],
   "source": []
  },
  {
   "cell_type": "code",
   "execution_count": null,
   "id": "cd0f0f03",
   "metadata": {},
   "outputs": [],
   "source": [
    "Q2. Where does an inheritance search look for an attribute?\n",
    "Ans: It searches in upward fashion first it will searched in its class then its superclass"
   ]
  },
  {
   "cell_type": "code",
   "execution_count": null,
   "id": "6a842818",
   "metadata": {},
   "outputs": [],
   "source": []
  },
  {
   "cell_type": "code",
   "execution_count": null,
   "id": "7935b4c0",
   "metadata": {},
   "outputs": [],
   "source": [
    "Q3. How do you distinguish between a class object and an instance object?\n",
    "\n",
    "class is the way of creating objects but instance object is an instance of class used to access methods and variables of the class"
   ]
  },
  {
   "cell_type": "code",
   "execution_count": null,
   "id": "d08af4ef",
   "metadata": {},
   "outputs": [],
   "source": [
    "Q4. What makes the first argument in a class’s method function special?\n",
    "Ans: Python Classes usually have three types of methods which are:\n",
    "\n",
    "Instance Methods (object level methods)\n",
    "Class Methods (class level methods)\n",
    "Static Methods (general utility methods)\n",
    "self is the first argument for instance methods. which refers to the object itself\n",
    "cls is the first argument for class methods which refers to the class itself\n"
   ]
  },
  {
   "cell_type": "code",
   "execution_count": null,
   "id": "b07b99b1",
   "metadata": {},
   "outputs": [],
   "source": []
  },
  {
   "cell_type": "code",
   "execution_count": null,
   "id": "30159067",
   "metadata": {},
   "outputs": [],
   "source": [
    "Q5. What is the purpose of the init method?\n",
    "Ans:  It served the role of a constructor in class. This method is called when an object is created from a class and it allows the class to initialize the attributes of the class"
   ]
  },
  {
   "cell_type": "code",
   "execution_count": null,
   "id": "e3eac711",
   "metadata": {},
   "outputs": [],
   "source": []
  },
  {
   "cell_type": "code",
   "execution_count": null,
   "id": "1f9afdb5",
   "metadata": {},
   "outputs": [],
   "source": [
    "Q6. What is the process for creating a class instance?\n",
    "\n",
    "Class Myclass:\n",
    "    \n",
    "    def func1(self):\n",
    "        return \"create instance\"\n",
    "    \n",
    "object1=Myclass  ##object1 is the instance of class named Myclass\n",
    "object1.func1"
   ]
  },
  {
   "cell_type": "code",
   "execution_count": null,
   "id": "d35bad37",
   "metadata": {},
   "outputs": [],
   "source": []
  },
  {
   "cell_type": "code",
   "execution_count": null,
   "id": "cc4997d0",
   "metadata": {},
   "outputs": [],
   "source": [
    "Q7. What is the process for creating a class?"
   ]
  },
  {
   "cell_type": "code",
   "execution_count": null,
   "id": "4c844a18",
   "metadata": {},
   "outputs": [],
   "source": [
    "It acts as a blueprint of our whole process as it contains varuous methods , variables we can be used by making objects of that class several time at several places as well as we can inherit OOP's concepts for reusability and making relationship between various methods associated with each other"
   ]
  },
  {
   "cell_type": "code",
   "execution_count": null,
   "id": "f2015d97",
   "metadata": {},
   "outputs": [],
   "source": []
  },
  {
   "cell_type": "code",
   "execution_count": null,
   "id": "8feddde9",
   "metadata": {},
   "outputs": [],
   "source": [
    "Q8. How would you define the superclasses of a class?"
   ]
  },
  {
   "cell_type": "code",
   "execution_count": null,
   "id": "c6cd6e53",
   "metadata": {},
   "outputs": [],
   "source": [
    "The class which is inherited by some other class is the superclass of that class , all subclass can have access to all methods of its superclass and all variables if they are not made private in their superclass"
   ]
  }
 ],
 "metadata": {
  "kernelspec": {
   "display_name": "Python 3 (ipykernel)",
   "language": "python",
   "name": "python3"
  },
  "language_info": {
   "codemirror_mode": {
    "name": "ipython",
    "version": 3
   },
   "file_extension": ".py",
   "mimetype": "text/x-python",
   "name": "python",
   "nbconvert_exporter": "python",
   "pygments_lexer": "ipython3",
   "version": "3.9.13"
  }
 },
 "nbformat": 4,
 "nbformat_minor": 5
}
