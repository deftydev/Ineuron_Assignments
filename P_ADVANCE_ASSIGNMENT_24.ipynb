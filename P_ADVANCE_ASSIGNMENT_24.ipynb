{
 "cells": [
  {
   "cell_type": "markdown",
   "id": "bf10484b",
   "metadata": {},
   "source": [
    "# Q1. Is it permissible to use several import statements to import the same module? What would the\n",
    "goal be? Can you think of a situation where it would be beneficial?"
   ]
  },
  {
   "cell_type": "code",
   "execution_count": null,
   "id": "58ecc70d",
   "metadata": {},
   "outputs": [],
   "source": [
    "Yes we can use several import statements to import the same module as we might want different functions at different times."
   ]
  },
  {
   "cell_type": "markdown",
   "id": "42890151",
   "metadata": {},
   "source": [
    "# Q2. What are some of a module&#39;s characteristics? (Name at least one.)"
   ]
  },
  {
   "cell_type": "code",
   "execution_count": null,
   "id": "9a30d825",
   "metadata": {},
   "outputs": [],
   "source": [
    "__name__ it returns the name of the module\n",
    "__file__ it returns the file path to which this file\n",
    "__dict__ it return the attributes in form of dictionaries"
   ]
  },
  {
   "cell_type": "markdown",
   "id": "ec111276",
   "metadata": {},
   "source": [
    "# Q3. Circular importing, such as when two modules import each other, can lead to dependencies and bugs that aren't visible. How can you go about creating a program that avoids mutual importing?"
   ]
  },
  {
   "cell_type": "code",
   "execution_count": null,
   "id": "1940e560",
   "metadata": {},
   "outputs": [],
   "source": [
    "Think of a scenario you have two files one named pone.py and another name dptwo.py and now pone.py is importing some fun() from \n",
    "ptwo.py and ptwo.py is importing some from pone.py so now it creates a problem as this will run into some endless loop\n",
    "so to get out of this situation we can do use '__name__'=='__main__'."
   ]
  },
  {
   "cell_type": "markdown",
   "id": "14fb2822",
   "metadata": {},
   "source": [
    "# Q4. Why is _ _all_ _ in Python?"
   ]
  },
  {
   "cell_type": "code",
   "execution_count": null,
   "id": "df977f07",
   "metadata": {},
   "outputs": [],
   "source": [
    "Using __all__ it will import all the modules at once."
   ]
  },
  {
   "cell_type": "markdown",
   "id": "799c7df9",
   "metadata": {},
   "source": [
    "# Q5. In what situation is it useful to refer to the _ _name_ _ attribute or the string &#39;_ _main_ _&#39;?"
   ]
  },
  {
   "cell_type": "code",
   "execution_count": null,
   "id": "95226976",
   "metadata": {},
   "outputs": [],
   "source": [
    "we use '__name__'=='__main__' ascurrently we are under main module so continue our function calling or execution we call it."
   ]
  },
  {
   "cell_type": "code",
   "execution_count": null,
   "id": "37827aca",
   "metadata": {},
   "outputs": [],
   "source": []
  }
 ],
 "metadata": {
  "kernelspec": {
   "display_name": "Python 3 (ipykernel)",
   "language": "python",
   "name": "python3"
  },
  "language_info": {
   "codemirror_mode": {
    "name": "ipython",
    "version": 3
   },
   "file_extension": ".py",
   "mimetype": "text/x-python",
   "name": "python",
   "nbconvert_exporter": "python",
   "pygments_lexer": "ipython3",
   "version": "3.9.13"
  }
 },
 "nbformat": 4,
 "nbformat_minor": 5
}
