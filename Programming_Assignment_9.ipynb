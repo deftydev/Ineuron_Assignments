{
 "cells": [
  {
   "cell_type": "markdown",
   "id": "27cf2b2d",
   "metadata": {},
   "source": [
    "# 1. Write a Python program to check if the given number is a Disarium Number?"
   ]
  },
  {
   "cell_type": "code",
   "execution_count": 6,
   "id": "1247d566",
   "metadata": {},
   "outputs": [
    {
     "name": "stdout",
     "output_type": "stream",
     "text": [
      "153\n"
     ]
    }
   ],
   "source": [
    "n=int(input())\n",
    "o=n\n",
    "le=len(str(n))\n",
    "ne=0\n",
    "summ=0\n",
    "while(n>0):\n",
    "    ne=n%10\n",
    "    summ=summ+ ne**le\n",
    "    le-=1\n",
    "    n=n//10\n",
    "    \n",
    "if(summ==o):\n",
    "    print('Disarium')"
   ]
  },
  {
   "cell_type": "markdown",
   "id": "940135af",
   "metadata": {},
   "source": [
    "# 2. Write a Python program to print all disarium numbers between 1 to 100?"
   ]
  },
  {
   "cell_type": "code",
   "execution_count": 7,
   "id": "17088bca",
   "metadata": {},
   "outputs": [
    {
     "name": "stdout",
     "output_type": "stream",
     "text": [
      "1 Disarium\n",
      "2 Disarium\n",
      "3 Disarium\n",
      "4 Disarium\n",
      "5 Disarium\n",
      "6 Disarium\n",
      "7 Disarium\n",
      "8 Disarium\n",
      "9 Disarium\n",
      "89 Disarium\n"
     ]
    }
   ],
   "source": [
    "for n in range(1,100):\n",
    "    o=n\n",
    "    le=len(str(n))\n",
    "    ne=0\n",
    "    summ=0\n",
    "    while(n>0):\n",
    "        ne=n%10\n",
    "        summ=summ+ ne**le\n",
    "        n=n//10\n",
    "        le-=1\n",
    "        \n",
    "    if(summ==o):\n",
    "        print(f'{o} Disarium')"
   ]
  },
  {
   "cell_type": "markdown",
   "id": "73827016",
   "metadata": {},
   "source": [
    "# 3. Write a Python program to check if the given number is Happy Number?"
   ]
  },
  {
   "cell_type": "code",
   "execution_count": 1,
   "id": "0d9b0353",
   "metadata": {},
   "outputs": [
    {
     "name": "stdout",
     "output_type": "stream",
     "text": [
      "13\n",
      "10\n",
      "1\n",
      " 23 is happy\n"
     ]
    }
   ],
   "source": [
    "num=23\n",
    "og=num\n",
    "s=set()\n",
    "s.add(num)\n",
    "s.add(1)\n",
    "def print_happy(num):\n",
    "    \n",
    "    \n",
    "    summ=0\n",
    "    ne=9\n",
    "    while(num>0):\n",
    "        ne=num%10\n",
    "        summ=summ+ ne**2\n",
    "        num=num//10\n",
    "    print(summ)\n",
    "    if summ not in s:\n",
    "        s.add(summ)\n",
    "        print_happy(summ)\n",
    "    elif summ==1:\n",
    "        print(f' {og} is happy')\n",
    "    else:\n",
    "        print(f'{num} is !happy')\n",
    "        \n",
    "print_happy(num)"
   ]
  },
  {
   "cell_type": "markdown",
   "id": "e559b230",
   "metadata": {},
   "source": [
    "# 4. Write a Python program to print all happy numbers between 1 and 100?"
   ]
  },
  {
   "cell_type": "code",
   "execution_count": 8,
   "id": "4f8b8a36",
   "metadata": {},
   "outputs": [
    {
     "name": "stdout",
     "output_type": "stream",
     "text": [
      " 1 is happy number\n",
      " 7 is happy number\n",
      " 10 is happy number\n",
      " 13 is happy number\n",
      " 19 is happy number\n",
      " 23 is happy number\n",
      " 28 is happy number\n",
      " 31 is happy number\n",
      " 32 is happy number\n",
      " 44 is happy number\n",
      " 49 is happy number\n",
      " 68 is happy number\n",
      " 70 is happy number\n",
      " 79 is happy number\n",
      " 82 is happy number\n",
      " 86 is happy number\n",
      " 91 is happy number\n",
      " 94 is happy number\n",
      " 97 is happy number\n",
      " 100 is happy number\n"
     ]
    }
   ],
   "source": [
    "print(\" 1 is happy number\")\n",
    "\n",
    "for i in range(2,101):\n",
    "    num=i\n",
    "    og=num\n",
    "    s=set()\n",
    "    s.add(num)\n",
    "    s.add(1)\n",
    "    def print_happy(num):\n",
    "        summ=0\n",
    "        ne=9\n",
    "        while(num>0):\n",
    "            ne=num%10\n",
    "            summ=summ+ ne**2\n",
    "            num=num//10\n",
    "        if summ not in s:\n",
    "            s.add(summ)\n",
    "            print_happy(summ)\n",
    "        elif summ==1:\n",
    "            print(f' {og} is happy number')\n",
    "\n",
    "            \n",
    "    print_happy(num)\n",
    "    "
   ]
  },
  {
   "cell_type": "markdown",
   "id": "bfcd53ea",
   "metadata": {},
   "source": [
    "# 5. Write a Python program to determine whether the given number is a Harshad Number?"
   ]
  },
  {
   "cell_type": "code",
   "execution_count": 2,
   "id": "84135be3",
   "metadata": {},
   "outputs": [
    {
     "name": "stdout",
     "output_type": "stream",
     "text": [
      "18 is harshad\n"
     ]
    }
   ],
   "source": [
    "num=18\n",
    "og=num\n",
    "ne=0\n",
    "summ=0\n",
    "while(num>0):\n",
    "    ne=num%10\n",
    "    summ=summ+ ne\n",
    "    num=num//10\n",
    "    \n",
    "if(og%summ==0):\n",
    "    print(f'{og} is harshad')"
   ]
  },
  {
   "cell_type": "markdown",
   "id": "561b044a",
   "metadata": {},
   "source": [
    "# 6. Write a Python program to print all pronic numbers between 1 and 100?"
   ]
  },
  {
   "cell_type": "code",
   "execution_count": 3,
   "id": "8a65a78f",
   "metadata": {},
   "outputs": [
    {
     "name": "stdout",
     "output_type": "stream",
     "text": [
      "0 2 6 12 20 30 42 56 72 90 "
     ]
    }
   ],
   "source": [
    "import math\n",
    " \n",
    "\n",
    "def checkPronic (x) :\n",
    " \n",
    "    i = 0\n",
    "    while ( i <= (int)(math.sqrt(x)) ) :\n",
    "         \n",
    "        \n",
    "        if ( x == i * (i + 1)) :\n",
    "            return True\n",
    "        i = i + 1\n",
    " \n",
    "    return False\n",
    " \n",
    "#\n",
    "i = 0\n",
    "while (i <= 100 ) :\n",
    "    if checkPronic(i) :\n",
    "        print(i,end=\" \")\n",
    "    i = i + 1"
   ]
  },
  {
   "cell_type": "code",
   "execution_count": null,
   "id": "b104a7d6",
   "metadata": {},
   "outputs": [],
   "source": []
  }
 ],
 "metadata": {
  "kernelspec": {
   "display_name": "Python 3 (ipykernel)",
   "language": "python",
   "name": "python3"
  },
  "language_info": {
   "codemirror_mode": {
    "name": "ipython",
    "version": 3
   },
   "file_extension": ".py",
   "mimetype": "text/x-python",
   "name": "python",
   "nbconvert_exporter": "python",
   "pygments_lexer": "ipython3",
   "version": "3.9.13"
  }
 },
 "nbformat": 4,
 "nbformat_minor": 5
}
