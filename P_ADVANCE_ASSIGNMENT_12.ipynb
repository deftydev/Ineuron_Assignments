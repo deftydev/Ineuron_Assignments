{
 "cells": [
  {
   "cell_type": "markdown",
   "id": "7f1bbda6",
   "metadata": {},
   "source": [
    "# Q1. Does assigning a value to a string&#39;s indexed character violate Python&#39;s string immutability?"
   ]
  },
  {
   "cell_type": "code",
   "execution_count": null,
   "id": "0ebed821",
   "metadata": {},
   "outputs": [],
   "source": [
    "Yes it will voilate python string immutability as strings are mutable you just cant assign a value using index into them\n",
    "it will raise typeerror\n"
   ]
  },
  {
   "cell_type": "code",
   "execution_count": 3,
   "id": "2a435ddb",
   "metadata": {},
   "outputs": [
    {
     "ename": "TypeError",
     "evalue": "'str' object does not support item assignment",
     "output_type": "error",
     "traceback": [
      "\u001b[1;31m---------------------------------------------------------------------------\u001b[0m",
      "\u001b[1;31mTypeError\u001b[0m                                 Traceback (most recent call last)",
      "\u001b[1;32m~\\AppData\\Local\\Temp\\ipykernel_6876\\927755713.py\u001b[0m in \u001b[0;36m<module>\u001b[1;34m\u001b[0m\n\u001b[0;32m      1\u001b[0m \u001b[0ms\u001b[0m\u001b[1;33m=\u001b[0m\u001b[1;34m\"ineuronaiineuronaidevanshgupta\"\u001b[0m\u001b[1;33m\u001b[0m\u001b[1;33m\u001b[0m\u001b[0m\n\u001b[1;32m----> 2\u001b[1;33m \u001b[0ms\u001b[0m\u001b[1;33m[\u001b[0m\u001b[1;36m2\u001b[0m\u001b[1;33m]\u001b[0m\u001b[1;33m=\u001b[0m\u001b[1;34m'i'\u001b[0m\u001b[1;33m\u001b[0m\u001b[1;33m\u001b[0m\u001b[0m\n\u001b[0m",
      "\u001b[1;31mTypeError\u001b[0m: 'str' object does not support item assignment"
     ]
    }
   ],
   "source": [
    "s=\"ineuronaiineuronaidevanshgupta\"\n",
    "s[2]='i'"
   ]
  },
  {
   "cell_type": "code",
   "execution_count": null,
   "id": "be282cdf",
   "metadata": {},
   "outputs": [],
   "source": [
    "Q2. Does using the += operator to concatenate strings violate Python's string immutability? Why or why not?\n",
    "\n",
    "it wil not voilate it as it does concatenation , not assignment "
   ]
  },
  {
   "cell_type": "code",
   "execution_count": 4,
   "id": "f7675861",
   "metadata": {},
   "outputs": [
    {
     "name": "stdout",
     "output_type": "stream",
     "text": [
      "ineuroni\n"
     ]
    }
   ],
   "source": [
    "s=\"ineuron\"\n",
    "s=s+'i'\n",
    "print(s)"
   ]
  },
  {
   "cell_type": "code",
   "execution_count": null,
   "id": "1ab9ce6b",
   "metadata": {},
   "outputs": [],
   "source": [
    "Q3. In Python, how many different ways are there to index a character?\n",
    "\n",
    "you can index a characer using s[character_index]\n",
    "or s.index('haracter_name')"
   ]
  },
  {
   "cell_type": "code",
   "execution_count": null,
   "id": "a62761b0",
   "metadata": {},
   "outputs": [],
   "source": []
  },
  {
   "cell_type": "code",
   "execution_count": null,
   "id": "43c85033",
   "metadata": {},
   "outputs": [],
   "source": [
    "Q4. What is the relationship between indexing and slicing?"
   ]
  },
  {
   "cell_type": "code",
   "execution_count": null,
   "id": "5ded839f",
   "metadata": {},
   "outputs": [],
   "source": [
    "indexing simply refers to print character at that particular index , to access character at that index\n",
    "\n",
    "slicing means to slice  a list using : "
   ]
  },
  {
   "cell_type": "code",
   "execution_count": 5,
   "id": "d6ba8ea4",
   "metadata": {},
   "outputs": [
    {
     "name": "stdout",
     "output_type": "stream",
     "text": [
      "in\n",
      "i\n"
     ]
    }
   ],
   "source": [
    "s=\"ineuron.ineuron\"\n",
    "print(s[0:2])\n",
    "print(s[0])"
   ]
  },
  {
   "cell_type": "markdown",
   "id": "99ed5b8d",
   "metadata": {},
   "source": [
    "# Q5. What is an indexed character&#39;s exact data type? What is the data form of a slicing-generated\n",
    "substring?"
   ]
  },
  {
   "cell_type": "code",
   "execution_count": 6,
   "id": "6007fd70",
   "metadata": {},
   "outputs": [
    {
     "name": "stdout",
     "output_type": "stream",
     "text": [
      "<class 'str'>\n",
      "<class 'str'>\n"
     ]
    }
   ],
   "source": [
    "s=\"ineuron.ineuron\"\n",
    "print(type(s[0:2]))\n",
    "print(type(s[0]))"
   ]
  },
  {
   "cell_type": "code",
   "execution_count": null,
   "id": "910a513d",
   "metadata": {},
   "outputs": [],
   "source": [
    "they are of type string"
   ]
  },
  {
   "cell_type": "code",
   "execution_count": null,
   "id": "ce9d6046",
   "metadata": {},
   "outputs": [],
   "source": []
  },
  {
   "cell_type": "code",
   "execution_count": null,
   "id": "362797c6",
   "metadata": {},
   "outputs": [],
   "source": [
    "Q6. What is the relationship between string and character \"types\" in Python?"
   ]
  },
  {
   "cell_type": "code",
   "execution_count": null,
   "id": "27521fdf",
   "metadata": {},
   "outputs": [],
   "source": [
    "string is a combination of characters \n",
    "s=\"ineuron.ineuron\"\n",
    "c='i'\n"
   ]
  },
  {
   "cell_type": "code",
   "execution_count": null,
   "id": "1b8aa777",
   "metadata": {},
   "outputs": [],
   "source": [
    "Q7. Identify at least two operators and one method that allow you to combine one or more smaller strings to create a larger string."
   ]
  },
  {
   "cell_type": "code",
   "execution_count": null,
   "id": "b3a4b6aa",
   "metadata": {},
   "outputs": [],
   "source": [
    "\"+\" and \"+=\" are the two operators"
   ]
  },
  {
   "cell_type": "code",
   "execution_count": 10,
   "id": "27c51d36",
   "metadata": {},
   "outputs": [
    {
     "name": "stdout",
     "output_type": "stream",
     "text": [
      "ineuron data science\n",
      "ineuron.ai\n"
     ]
    }
   ],
   "source": [
    "s=\"ineuron\"\n",
    "d=\"data science\"\n",
    "\n",
    "p=s+\" \"+d\n",
    "print(p)\n",
    "\n",
    "s=s+\".ai\"\n",
    "print(s)"
   ]
  },
  {
   "cell_type": "code",
   "execution_count": null,
   "id": "814cc10a",
   "metadata": {},
   "outputs": [],
   "source": [
    "Q8. What is the benefit of first checking the target string with in or not in before using the index method to find a substring?"
   ]
  },
  {
   "cell_type": "code",
   "execution_count": null,
   "id": "ba0b2696",
   "metadata": {},
   "outputs": [],
   "source": [
    "First cecking with in or not helps to handle valueerror(), so that program does not get crash by itself"
   ]
  },
  {
   "cell_type": "code",
   "execution_count": null,
   "id": "404e4052",
   "metadata": {},
   "outputs": [],
   "source": []
  },
  {
   "cell_type": "code",
   "execution_count": null,
   "id": "567c34ce",
   "metadata": {},
   "outputs": [],
   "source": [
    "Q9. Which operators and built-in string methods produce simple Boolean (true/false) results?\n",
    "\n",
    "s.isalnum()#check if s is alphanumeric\n",
    "s.istitle()#check if s first character is capital\n",
    "s.isupper()#check if s is upper\n",
    "s.isalpha()#check if s is alphan\n",
    "s.islower()#check if s is lower"
   ]
  }
 ],
 "metadata": {
  "kernelspec": {
   "display_name": "Python 3 (ipykernel)",
   "language": "python",
   "name": "python3"
  },
  "language_info": {
   "codemirror_mode": {
    "name": "ipython",
    "version": 3
   },
   "file_extension": ".py",
   "mimetype": "text/x-python",
   "name": "python",
   "nbconvert_exporter": "python",
   "pygments_lexer": "ipython3",
   "version": "3.9.13"
  }
 },
 "nbformat": 4,
 "nbformat_minor": 5
}
