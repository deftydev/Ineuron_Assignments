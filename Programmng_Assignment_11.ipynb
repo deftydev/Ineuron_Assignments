{
 "cells": [
  {
   "cell_type": "markdown",
   "id": "1bd02593",
   "metadata": {},
   "source": [
    "# 1. Write a Python program to find words which are greater than given length k?"
   ]
  },
  {
   "cell_type": "code",
   "execution_count": 3,
   "id": "5d3b7814",
   "metadata": {},
   "outputs": [
    {
     "name": "stdout",
     "output_type": "stream",
     "text": [
      "5\n",
      "shalja\n",
      "dirubhai\n",
      "mukesh\n",
      "jahnvi\n",
      "enoughofthem\n"
     ]
    }
   ],
   "source": [
    "k=int(input())\n",
    "L=['dev','shalja','dirubhai','mukesh','bebo','jahnvi','enoughofthem','okbye']\n",
    "\n",
    "for i in range(len(L)):\n",
    "    if len(L[i])>k:\n",
    "        print(L[i])"
   ]
  },
  {
   "cell_type": "markdown",
   "id": "0f9a62d6",
   "metadata": {},
   "source": [
    "# 2. Write a Python program for removing i-th character from a string?"
   ]
  },
  {
   "cell_type": "code",
   "execution_count": 9,
   "id": "85acafbb",
   "metadata": {},
   "outputs": [
    {
     "name": "stdout",
     "output_type": "stream",
     "text": [
      "2\n",
      "rmovithcharactr\n"
     ]
    }
   ],
   "source": [
    "s='removeithcharacter'\n",
    "\n",
    "i=int(input())\n",
    "s=s.replace(s[i-1],'')\n",
    "print(s)"
   ]
  },
  {
   "cell_type": "code",
   "execution_count": null,
   "id": "6cbef0d5",
   "metadata": {},
   "outputs": [],
   "source": [
    "3. Write a Python program to split and join a string?"
   ]
  },
  {
   "cell_type": "code",
   "execution_count": 10,
   "id": "b3b7ae1e",
   "metadata": {},
   "outputs": [
    {
     "name": "stdout",
     "output_type": "stream",
     "text": [
      "j-o-i-n-s-p-l-i-t\n",
      "['jo', 'nspl', 't']\n"
     ]
    }
   ],
   "source": [
    "s='joinsplit'\n",
    "s1='-'.join(s)\n",
    "print(s1)\n",
    "s2=s.split('i')\n",
    "print(s2)"
   ]
  },
  {
   "cell_type": "code",
   "execution_count": null,
   "id": "16872847",
   "metadata": {},
   "outputs": [],
   "source": [
    "4. Write a Python to check if a given string is binary string or not?"
   ]
  },
  {
   "cell_type": "code",
   "execution_count": 14,
   "id": "db0341be",
   "metadata": {},
   "outputs": [
    {
     "name": "stdout",
     "output_type": "stream",
     "text": [
      "not binary\n"
     ]
    }
   ],
   "source": [
    "import re\n",
    "s='01286536a'\n",
    "p=re.compile('[a-zA-Z]')\n",
    "s1=p.findall(s)\n",
    "if len(s1)>0:\n",
    "    print('not binary')\n",
    "else:\n",
    "    print('binary')\n",
    "        "
   ]
  },
  {
   "cell_type": "code",
   "execution_count": null,
   "id": "56051951",
   "metadata": {},
   "outputs": [],
   "source": [
    "5. Write a Python program to find uncommon words from two Strings?"
   ]
  },
  {
   "cell_type": "code",
   "execution_count": 15,
   "id": "a7fa558e",
   "metadata": {},
   "outputs": [
    {
     "name": "stdout",
     "output_type": "stream",
     "text": [
      "viratt\n",
      "ronaldo\n",
      "alnesser\n"
     ]
    }
   ],
   "source": [
    "s=['dev','beta','cricket','virat']\n",
    "s1=['dev','viratt','ronaldo','alnesser','beta']\n",
    "\n",
    "for i in range(len(s1)):\n",
    "    if s1[i] not in s:\n",
    "        print(s1[i])"
   ]
  },
  {
   "cell_type": "code",
   "execution_count": null,
   "id": "eda89d66",
   "metadata": {},
   "outputs": [],
   "source": [
    "6. Write a Python to find all duplicate characters in string?"
   ]
  },
  {
   "cell_type": "code",
   "execution_count": 16,
   "id": "a0aa5752",
   "metadata": {},
   "outputs": [
    {
     "name": "stdout",
     "output_type": "stream",
     "text": [
      "c\n",
      "a\n",
      "t\n",
      "e\n",
      "r\n"
     ]
    }
   ],
   "source": [
    "s='duplicatecharacters'\n",
    "import collections\n",
    "for i,j in collections.Counter(s).items():\n",
    "    if j>1:\n",
    "        print(i)"
   ]
  },
  {
   "cell_type": "code",
   "execution_count": null,
   "id": "bdfb6a66",
   "metadata": {},
   "outputs": [],
   "source": [
    "7. Write a Python Program to check if a string contains any special character?"
   ]
  },
  {
   "cell_type": "code",
   "execution_count": 20,
   "id": "83162f90",
   "metadata": {},
   "outputs": [
    {
     "name": "stdout",
     "output_type": "stream",
     "text": [
      "Contains special characters\n"
     ]
    }
   ],
   "source": [
    "s='abcd$ersynxhs&*'\n",
    "\n",
    "if (s.isalnum() or s==' ' or s.isalpha() or s.isdigit()):\n",
    "    print('No special characters')\n",
    "else:\n",
    "    print('Contains special characters')"
   ]
  },
  {
   "cell_type": "code",
   "execution_count": null,
   "id": "f1043c07",
   "metadata": {},
   "outputs": [],
   "source": []
  }
 ],
 "metadata": {
  "kernelspec": {
   "display_name": "Python 3 (ipykernel)",
   "language": "python",
   "name": "python3"
  },
  "language_info": {
   "codemirror_mode": {
    "name": "ipython",
    "version": 3
   },
   "file_extension": ".py",
   "mimetype": "text/x-python",
   "name": "python",
   "nbconvert_exporter": "python",
   "pygments_lexer": "ipython3",
   "version": "3.9.13"
  }
 },
 "nbformat": 4,
 "nbformat_minor": 5
}
