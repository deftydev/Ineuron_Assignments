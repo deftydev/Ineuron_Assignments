{
 "cells": [
  {
   "cell_type": "markdown",
   "id": "94e0d2f9",
   "metadata": {},
   "source": [
    "# Question4\n",
    "Write a function, that replaces all vowels in a string with a specified vowel.\n",
    "Examples\n",
    "vow_replace(&quot;apples and bananas&quot;, &quot;u&quot;) ➞ &quot;upplus und bununus&quot;\n",
    "vow_replace(&quot;cheese casserole&quot;, &quot;o&quot;) ➞ &quot;chooso cossorolo&quot;\n",
    "vow_replace(&quot;stuffed jalapeno poppers&quot;, &quot;e&quot;) ➞ &quot;steffed jelepene peppers&quot;\n",
    "Notes\n",
    "All words will be lowercase. Y is not considered a vowel.\n"
   ]
  },
  {
   "cell_type": "code",
   "execution_count": 3,
   "id": "d30dcca5",
   "metadata": {},
   "outputs": [
    {
     "name": "stdout",
     "output_type": "stream",
     "text": [
      "chooso cossorolo\n"
     ]
    }
   ],
   "source": [
    "s1=\"cheese casserole\"\n",
    "s2=\"o\"\n",
    "def vow_replace(str1,str2):\n",
    "    for i in range(len(str1)):\n",
    "        if str1[i] in ['a','e','i','o','u']:\n",
    "            str1=str1.replace(str1[i],str2)\n",
    "            \n",
    "    return str1\n",
    "            \n",
    "s11=vow_replace(s1,s2)\n",
    "print(s11)"
   ]
  },
  {
   "cell_type": "markdown",
   "id": "b3ef990e",
   "metadata": {},
   "source": [
    "# Question5\n",
    "Create a function that takes a string as input and capitalizes a letter if its ASCII code is even\n",
    "and returns its lower case version if its ASCII code is odd.\n",
    "Examples\n",
    "ascii_capitalize(&quot;to be or not to be!&quot;) ➞ &quot;To Be oR NoT To Be!&quot;\n",
    "ascii_capitalize(&quot;THE LITTLE MERMAID&quot;) ➞ &quot;THe LiTTLe meRmaiD&quot;\n",
    "ascii_capitalize(&quot;Oh what a beautiful morning.&quot;) ➞ &quot;oH wHaT a BeauTiFuL\n",
    "moRNiNg.&quot;"
   ]
  },
  {
   "cell_type": "code",
   "execution_count": 5,
   "id": "2fc3e032",
   "metadata": {},
   "outputs": [
    {
     "name": "stdout",
     "output_type": "stream",
     "text": [
      "THe LiTTLe meRmaiD\n"
     ]
    }
   ],
   "source": [
    "def capi_ascii(str1):\n",
    "    summ=0\n",
    "    st=''\n",
    "    for i in range(len(str1)):\n",
    "        if ord(str1[i])%2==0:\n",
    "            st=st+str1[i].upper()\n",
    "        else:\n",
    "            st=st+ str1[i].lower()\n",
    "        \n",
    "   \n",
    "    return st\n",
    "\n",
    "a=capi_ascii(\"THE LITTLE MERMAID\")\n",
    "print(a)"
   ]
  },
  {
   "cell_type": "markdown",
   "id": "334844bb",
   "metadata": {},
   "source": [
    "# Question2\n",
    "Write a function that converts a dictionary into a list of keys-values tuples.\n",
    "Examples\n",
    "dict_to_list({\n",
    "&quot;D&quot;: 1,\n",
    "&quot;B&quot;: 2,\n",
    "&quot;C&quot;: 3\n",
    "}) ➞ [(&quot;B&quot;, 2), (&quot;C&quot;, 3), (&quot;D&quot;, 1)]\n",
    "dict_to_list({\n",
    "&quot;likes&quot;: 2,\n",
    "&quot;dislikes&quot;: 3,\n",
    "&quot;followers&quot;: 10\n",
    "}) ➞ [(&quot;dislikes&quot;, 3), (&quot;followers&quot;, 10), (&quot;likes&quot;, 2)]\n",
    "Notes\n",
    "Return the elements in the list in alphabetical order."
   ]
  },
  {
   "cell_type": "code",
   "execution_count": 6,
   "id": "de89952c",
   "metadata": {},
   "outputs": [
    {
     "name": "stdout",
     "output_type": "stream",
     "text": [
      "[('B', 2), ('C', 3), ('D', 1)]\n"
     ]
    }
   ],
   "source": [
    "def convert(d):\n",
    "    d=sorted(d.items(),key= lambda x:x[0])\n",
    "    return d\n",
    "d1={ \"D\": 1, \"B\": 2, \"C\": 3 }\n",
    "a=convert(d1)\n",
    "print(a)"
   ]
  },
  {
   "cell_type": "code",
   "execution_count": null,
   "id": "fd5a8cca",
   "metadata": {},
   "outputs": [],
   "source": [
    "Question1\n",
    "Create a function that takes three integer arguments (a, b, c) and returns the amount of\n",
    "integers which are of equal value.\n",
    "Examples\n",
    "equal(3, 4, 3) ➞ 2\n",
    "equal(1, 1, 1) ➞ 3\n",
    "equal(3, 4, 1) ➞ 0\n",
    "Notes\n",
    "Your function must return 0, 2 or 3."
   ]
  },
  {
   "cell_type": "code",
   "execution_count": 7,
   "id": "69901290",
   "metadata": {},
   "outputs": [
    {
     "name": "stdout",
     "output_type": "stream",
     "text": [
      "2\n"
     ]
    }
   ],
   "source": [
    "def thrrr(a,b,c):\n",
    "    if a==b==c:\n",
    "        return 3\n",
    "    elif a==b or a==c or b==c:\n",
    "        return 2\n",
    "    else:\n",
    "        return 0\n",
    "    \n",
    "a=thrrr(3,4,3)\n",
    "print(a)"
   ]
  },
  {
   "cell_type": "markdown",
   "id": "3a4f3116",
   "metadata": {},
   "source": [
    "# Question3\n",
    "Write a function that creates a dictionary with each (key, value) pair being the (lower case,\n",
    "upper case) versions of a letter, respectively.\n",
    "Examples\n",
    "mapping([&quot;p&quot;, &quot;s&quot;]) ➞ { &quot;p&quot;: &quot;P&quot;, &quot;s&quot;: &quot;S&quot; }\n",
    "\n",
    "mapping([&quot;a&quot;, &quot;b&quot;, &quot;c&quot;]) ➞ { &quot;a&quot;: &quot;A&quot;, &quot;b&quot;: &quot;B&quot;, &quot;c&quot;: &quot;C&quot; }\n",
    "mapping([&quot;a&quot;, &quot;v&quot;, &quot;y&quot;, &quot;z&quot;]) ➞ { &quot;a&quot;: &quot;A&quot;, &quot;v&quot;: &quot;V&quot;, &quot;y&quot;: &quot;Y&quot;, &quot;z&quot;: &quot;Z&quot; }\n",
    "Notes\n",
    "All of the letters in the input list will always be lowercase."
   ]
  },
  {
   "cell_type": "code",
   "execution_count": 10,
   "id": "575f1951",
   "metadata": {},
   "outputs": [
    {
     "name": "stdout",
     "output_type": "stream",
     "text": [
      "{'p': 'P', 's': 'S'}\n"
     ]
    }
   ],
   "source": [
    "def mapp(l):\n",
    "    d=dict()\n",
    "    for i in l:\n",
    "        d[i]=i.upper()\n",
    "    return d\n",
    "\n",
    "d1=mapp([\"p\", \"s\"])\n",
    "print(d1)"
   ]
  },
  {
   "cell_type": "code",
   "execution_count": null,
   "id": "19062596",
   "metadata": {},
   "outputs": [],
   "source": [
    "Question5\n",
    "Create a function that takes a string as input and capitalizes a letter if its ASCII code is even and returns its lower case version if its ASCII code is odd. Examples ascii_capitalize(\"to be or not to be!\") ➞ \"To Be oR NoT To Be!\" ascii_capitalize(\"THE LITTLE MERMAID\") ➞ \"THe LiTTLe meRmaiD\" ascii_capitalize(\"Oh what a beautiful morning.\") ➞ \"oH wHaT a BeauTiFuL moRNiNg.\"\n",
    "\n"
   ]
  },
  {
   "cell_type": "code",
   "execution_count": 11,
   "id": "cb46c1f9",
   "metadata": {},
   "outputs": [
    {
     "name": "stdout",
     "output_type": "stream",
     "text": [
      "THe LiTTLe meRmaiD\n"
     ]
    }
   ],
   "source": [
    "def capi_ascii(str1):\n",
    "    summ=0\n",
    "    st=''\n",
    "    for i in range(len(str1)):\n",
    "        if ord(str1[i])%2==0:\n",
    "            st=st+str1[i].upper()\n",
    "        else:\n",
    "            st=st+ str1[i].lower()\n",
    "        \n",
    "   \n",
    "    return st\n",
    "\n",
    "a=capi_ascii(\"THE LITTLE MERMAID\")\n",
    "print(a)"
   ]
  },
  {
   "cell_type": "code",
   "execution_count": null,
   "id": "d9d17b57",
   "metadata": {},
   "outputs": [],
   "source": []
  }
 ],
 "metadata": {
  "kernelspec": {
   "display_name": "Python 3 (ipykernel)",
   "language": "python",
   "name": "python3"
  },
  "language_info": {
   "codemirror_mode": {
    "name": "ipython",
    "version": 3
   },
   "file_extension": ".py",
   "mimetype": "text/x-python",
   "name": "python",
   "nbconvert_exporter": "python",
   "pygments_lexer": "ipython3",
   "version": "3.9.13"
  }
 },
 "nbformat": 4,
 "nbformat_minor": 5
}
