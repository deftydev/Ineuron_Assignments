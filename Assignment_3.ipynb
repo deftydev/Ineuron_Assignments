{
 "cells": [
  {
   "cell_type": "code",
   "execution_count": null,
   "id": "430edafe",
   "metadata": {},
   "outputs": [],
   "source": [
    "1. Why are functions advantageous to have in your programs?"
   ]
  },
  {
   "cell_type": "code",
   "execution_count": null,
   "id": "81d6b055",
   "metadata": {},
   "outputs": [],
   "source": [
    "Function helps us to not write the same code again and again instead we will call the function and prvide the arguments to it and get the result"
   ]
  },
  {
   "cell_type": "code",
   "execution_count": 1,
   "id": "479e650c",
   "metadata": {},
   "outputs": [
    {
     "name": "stdout",
     "output_type": "stream",
     "text": [
      "5\n",
      "13\n"
     ]
    }
   ],
   "source": [
    "def add(a,b):\n",
    "    print(a+b)\n",
    "add(2,3)\n",
    "add(6,7)"
   ]
  },
  {
   "cell_type": "code",
   "execution_count": null,
   "id": "7773e4c8",
   "metadata": {},
   "outputs": [],
   "source": []
  },
  {
   "cell_type": "code",
   "execution_count": null,
   "id": "a6d250ba",
   "metadata": {},
   "outputs": [],
   "source": [
    "2. When does the code in a function run: when it's specified or when it's called?"
   ]
  },
  {
   "cell_type": "code",
   "execution_count": null,
   "id": "c714d005",
   "metadata": {},
   "outputs": [],
   "source": [
    "A functionis a block of code that runs when it's called"
   ]
  },
  {
   "cell_type": "code",
   "execution_count": null,
   "id": "73ad92ad",
   "metadata": {},
   "outputs": [],
   "source": []
  },
  {
   "cell_type": "code",
   "execution_count": null,
   "id": "86408316",
   "metadata": {},
   "outputs": [],
   "source": [
    "3. What statement creates a function? -def keyword is used to create a function"
   ]
  },
  {
   "cell_type": "code",
   "execution_count": null,
   "id": "46be8a02",
   "metadata": {},
   "outputs": [],
   "source": []
  },
  {
   "cell_type": "code",
   "execution_count": null,
   "id": "ffa91600",
   "metadata": {},
   "outputs": [],
   "source": [
    "4. What is the difference between a function and a function call?"
   ]
  },
  {
   "cell_type": "code",
   "execution_count": null,
   "id": "336104ce",
   "metadata": {},
   "outputs": [],
   "source": [
    "a function is a bock of code but when it is called outside the function to return a value or print a vau it is called function call"
   ]
  },
  {
   "cell_type": "code",
   "execution_count": 2,
   "id": "cbae6da5",
   "metadata": {},
   "outputs": [
    {
     "name": "stdout",
     "output_type": "stream",
     "text": [
      "100\n"
     ]
    }
   ],
   "source": [
    "def square(a):  #function\n",
    "    return a**2\n",
    "\n",
    "b=square(10) #function call\n",
    "print(b)"
   ]
  },
  {
   "cell_type": "code",
   "execution_count": null,
   "id": "8dbaf250",
   "metadata": {},
   "outputs": [],
   "source": []
  },
  {
   "cell_type": "code",
   "execution_count": null,
   "id": "822538e9",
   "metadata": {},
   "outputs": [],
   "source": [
    "5. How many global scopes are there in a Python program? How many local scopes?"
   ]
  },
  {
   "cell_type": "code",
   "execution_count": null,
   "id": "3b57722d",
   "metadata": {},
   "outputs": [],
   "source": [
    "All python programs have one global scope and have as many number of local scope as number of functions are created in it."
   ]
  },
  {
   "cell_type": "code",
   "execution_count": null,
   "id": "49502547",
   "metadata": {},
   "outputs": [],
   "source": []
  },
  {
   "cell_type": "code",
   "execution_count": null,
   "id": "898f02e9",
   "metadata": {},
   "outputs": [],
   "source": [
    "6. What happens to variables in a local scope when the function call returns?"
   ]
  },
  {
   "cell_type": "code",
   "execution_count": null,
   "id": "fa9c1c0a",
   "metadata": {},
   "outputs": [],
   "source": [
    "a local variable retains its value until the next time the function is called"
   ]
  },
  {
   "cell_type": "code",
   "execution_count": null,
   "id": "defbf2e1",
   "metadata": {},
   "outputs": [],
   "source": []
  },
  {
   "cell_type": "code",
   "execution_count": null,
   "id": "adf35741",
   "metadata": {},
   "outputs": [],
   "source": [
    "7. What is the concept of a return value? Is it possible to have a return value in an expression?\n",
    "\n"
   ]
  },
  {
   "cell_type": "code",
   "execution_count": null,
   "id": "6bb9484e",
   "metadata": {},
   "outputs": [],
   "source": [
    "returning a value means you want this function to return a value when it is called outside ,yes it is possible to have return value in expression"
   ]
  },
  {
   "cell_type": "code",
   "execution_count": null,
   "id": "3184a6aa",
   "metadata": {},
   "outputs": [],
   "source": []
  },
  {
   "cell_type": "code",
   "execution_count": null,
   "id": "3657415b",
   "metadata": {},
   "outputs": [],
   "source": [
    "If a function does not have a return statement, what is the return value of a call to that function?"
   ]
  },
  {
   "cell_type": "code",
   "execution_count": null,
   "id": "10878864",
   "metadata": {},
   "outputs": [],
   "source": [
    "the function will return None"
   ]
  },
  {
   "cell_type": "code",
   "execution_count": null,
   "id": "d0ecbd0f",
   "metadata": {},
   "outputs": [],
   "source": []
  },
  {
   "cell_type": "code",
   "execution_count": null,
   "id": "7ed5ceda",
   "metadata": {},
   "outputs": [],
   "source": [
    "9. How do you make a function variable refer to the global variable?"
   ]
  },
  {
   "cell_type": "code",
   "execution_count": null,
   "id": "831b2466",
   "metadata": {},
   "outputs": [],
   "source": [
    "by using global keyword or we can say be specifying global in left side of that variable"
   ]
  },
  {
   "cell_type": "code",
   "execution_count": null,
   "id": "6b6dfb90",
   "metadata": {},
   "outputs": [],
   "source": []
  },
  {
   "cell_type": "code",
   "execution_count": null,
   "id": "cbf7e6ce",
   "metadata": {},
   "outputs": [],
   "source": [
    "10. What is the data type of None?"
   ]
  },
  {
   "cell_type": "code",
   "execution_count": null,
   "id": "ab14e7f3",
   "metadata": {},
   "outputs": [],
   "source": [
    "Data type of None is 'Nonetype'"
   ]
  },
  {
   "cell_type": "code",
   "execution_count": null,
   "id": "72031c33",
   "metadata": {},
   "outputs": [],
   "source": []
  },
  {
   "cell_type": "code",
   "execution_count": null,
   "id": "86608e51",
   "metadata": {},
   "outputs": [],
   "source": [
    "11. What does the sentence import areallyourpetsnamederic do?\n",
    "That import statement imports a module named areallyourpetsnamederic.\n",
    "\n",
    "12. If you had a bacon() feature in a spam module, what would you call it after importing spam?\n",
    "This function can be called with spam.bacon().\n",
    "\n",
    "13. What can you do to save a programme from crashing if it encounters an error?\n",
    "Place the line of code that might cause an error in a try clause.\n",
    "\n",
    "14. What is the purpose of the try clause? What is the purpose of the except clause?\n",
    "The code that could potentially cause an error goes in the try clause.\n",
    "\n",
    "The code that executes if an error happens goes in the except clause."
   ]
  },
  {
   "cell_type": "code",
   "execution_count": 5,
   "id": "ed059509",
   "metadata": {},
   "outputs": [
    {
     "name": "stdout",
     "output_type": "stream",
     "text": [
      "division by zero\n"
     ]
    }
   ],
   "source": [
    "try:\n",
    "    a=2/0\n",
    "except Exception as e:\n",
    "    print(e)"
   ]
  },
  {
   "cell_type": "code",
   "execution_count": null,
   "id": "299dd3c7",
   "metadata": {},
   "outputs": [],
   "source": []
  }
 ],
 "metadata": {
  "kernelspec": {
   "display_name": "Python 3 (ipykernel)",
   "language": "python",
   "name": "python3"
  },
  "language_info": {
   "codemirror_mode": {
    "name": "ipython",
    "version": 3
   },
   "file_extension": ".py",
   "mimetype": "text/x-python",
   "name": "python",
   "nbconvert_exporter": "python",
   "pygments_lexer": "ipython3",
   "version": "3.9.13"
  }
 },
 "nbformat": 4,
 "nbformat_minor": 5
}
