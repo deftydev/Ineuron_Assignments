{
 "cells": [
  {
   "cell_type": "markdown",
   "id": "8c4b05c3",
   "metadata": {},
   "source": [
    "# Question1\n",
    "Create a function that takes a string and returns a string in which each character is repeated\n",
    "once.\n",
    "Examples\n",
    "double_char(&quot;String&quot;) ➞ &quot;SSttrriinngg&quot;\n",
    "double_char(&quot;Hello World!&quot;) ➞ &quot;HHeelllloo WWoorrlldd!!&quot;\n",
    "double_char(&quot;1234!_ &quot;) ➞ &quot;11223344!!__ &quot;\n",
    "\n",
    "Question2\n",
    "Create a function that reverses a boolean value and returns the string &quot;boolean expected&quot;\n",
    "if another variable type is given.\n",
    "Examples\n",
    "reverse(True) ➞ False\n",
    "reverse(False) ➞ True\n",
    "reverse(0) ➞ &quot;boolean expected&quot;\n",
    "reverse(None) ➞ &quot;boolean expected&quot;\n",
    "\n",
    "Question3\n",
    "Create a function that returns the thickness (in meters) of a piece of paper after folding it n\n",
    "number of times. The paper starts off with a thickness of 0.5mm.\n",
    "Examples\n",
    "num_layers(1) ➞ &quot;0.001m&quot;\n",
    "# Paper folded once is 1mm (equal to 0.001m)\n",
    "num_layers(4) ➞ &quot;0.008m&quot;\n",
    "# Paper folded 4 times is 8mm (equal to 0.008m)\n",
    "num_layers(21) ➞ &quot;1048.576m&quot;\n",
    "# Paper folded 21 times is 1048576mm (equal to 1048.576m)\n",
    "\n",
    "Question4\n",
    "\n",
    "Create a function that takes a single string as argument and returns an ordered list containing\n",
    "the indices of all capital letters in the string.\n",
    "Examples\n",
    "index_of_caps(&quot;eDaBiT&quot;) ➞ [1, 3, 5]\n",
    "index_of_caps(&quot;eQuINoX&quot;) ➞ [1, 3, 4, 6]\n",
    "index_of_caps(&quot;determine&quot;) ➞ []\n",
    "index_of_caps(&quot;STRIKE&quot;) ➞ [0, 1, 2, 3, 4, 5]\n",
    "index_of_caps(&quot;sUn&quot;) ➞ [1]\n",
    "\n",
    "Question5\n",
    "Using list comprehensions, create a function that finds all even numbers from 1 to the given\n",
    "number.\n",
    "Examples\n",
    "find_even_nums(8) ➞ [2, 4, 6, 8]\n",
    "find_even_nums(4) ➞ [2, 4]\n",
    "find_even_nums(2) ➞ [2]"
   ]
  },
  {
   "cell_type": "code",
   "execution_count": 4,
   "id": "afdabe8a",
   "metadata": {},
   "outputs": [
    {
     "name": "stdout",
     "output_type": "stream",
     "text": [
      "---> SSttrriinngg\n"
     ]
    }
   ],
   "source": [
    "def funn(input_string):\n",
    "    output_string = ''\n",
    "    for ele in input_string:\n",
    "        output_string += ele*2\n",
    "    return output_string\n",
    "\n",
    "print(f'---> {funn(\"String\")}')"
   ]
  },
  {
   "cell_type": "code",
   "execution_count": null,
   "id": "63708c5e",
   "metadata": {},
   "outputs": [],
   "source": []
  },
  {
   "cell_type": "code",
   "execution_count": 5,
   "id": "5c843fae",
   "metadata": {},
   "outputs": [
    {
     "name": "stdout",
     "output_type": "stream",
     "text": [
      "--> False\n"
     ]
    }
   ],
   "source": [
    "def reverse(input_val):\n",
    "    if type(input_val) == bool:\n",
    "        return not input_val\n",
    "    else:\n",
    "        return \"Boolean Expected\"\n",
    "\n",
    "print(f'--> {reverse(True)}')"
   ]
  },
  {
   "cell_type": "code",
   "execution_count": null,
   "id": "b192441f",
   "metadata": {},
   "outputs": [],
   "source": []
  },
  {
   "cell_type": "code",
   "execution_count": 6,
   "id": "b1248820",
   "metadata": {},
   "outputs": [
    {
     "name": "stdout",
     "output_type": "stream",
     "text": [
      "Output ➞ 0.001m\n"
     ]
    }
   ],
   "source": [
    "def num_layers(in_num):\n",
    "    out_num = 0.5\n",
    "    for ele in range(in_num):\n",
    "        out_num *= 2\n",
    "    print(f'Output ➞ {out_num/1000}m')\n",
    "    \n",
    "num_layers(1)"
   ]
  },
  {
   "cell_type": "code",
   "execution_count": null,
   "id": "596c91bb",
   "metadata": {},
   "outputs": [],
   "source": []
  },
  {
   "cell_type": "code",
   "execution_count": 7,
   "id": "497acd8c",
   "metadata": {},
   "outputs": [
    {
     "name": "stdout",
     "output_type": "stream",
     "text": [
      "eDaBiT ➞ [1, 3, 5]\n"
     ]
    }
   ],
   "source": [
    "def index_of_caps(in_string):\n",
    "    out_string = []\n",
    "    for ele in in_string:\n",
    "        if ele.isupper():\n",
    "            out_string.append(in_string.index(ele))\n",
    "    print(f'{in_string} ➞ {out_string}')\n",
    "\n",
    "index_of_caps(\"eDaBiT\")"
   ]
  },
  {
   "cell_type": "code",
   "execution_count": null,
   "id": "eca30c1a",
   "metadata": {},
   "outputs": [],
   "source": []
  },
  {
   "cell_type": "code",
   "execution_count": 8,
   "id": "dd5766f5",
   "metadata": {},
   "outputs": [
    {
     "name": "stdout",
     "output_type": "stream",
     "text": [
      "Output -->[2, 4, 6, 8]\n"
     ]
    }
   ],
   "source": [
    "def find_even_nums(input_num):\n",
    "    output=[]\n",
    "    for i in range(1,input_num+1):\n",
    "        if i%2 == 0:\n",
    "            output.append(i)\n",
    "    print(f'Output -->{output}')\n",
    "    \n",
    "find_even_nums(8)"
   ]
  },
  {
   "cell_type": "code",
   "execution_count": null,
   "id": "41d4c78c",
   "metadata": {},
   "outputs": [],
   "source": []
  }
 ],
 "metadata": {
  "kernelspec": {
   "display_name": "Python 3 (ipykernel)",
   "language": "python",
   "name": "python3"
  },
  "language_info": {
   "codemirror_mode": {
    "name": "ipython",
    "version": 3
   },
   "file_extension": ".py",
   "mimetype": "text/x-python",
   "name": "python",
   "nbconvert_exporter": "python",
   "pygments_lexer": "ipython3",
   "version": "3.9.13"
  }
 },
 "nbformat": 4,
 "nbformat_minor": 5
}
