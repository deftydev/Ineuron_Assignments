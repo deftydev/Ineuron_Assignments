{
 "cells": [
  {
   "cell_type": "code",
   "execution_count": null,
   "id": "b6e1502e",
   "metadata": {},
   "outputs": [],
   "source": [
    "1. What is the difference between supervised and unsupervised learning? Give some examples to\n",
    "illustrate your point.\n",
    "supervised learning you have labelled /outputs for your input data but in unsupervised you do not have them .\n",
    "example weight , height problem you have data in both columns but when you specify on the basis of picture which one \n",
    "is cat and which one is not then you do not have ny input data present with output you have to classify them\n",
    "according to your knoledge.\n",
    "\n",
    "2. Mention a few unsupervised learning applications.\n",
    "Image detection, object detection, dimensionality redduction, PCA\n",
    "\n",
    "3. What are the three main types of clustering methods? Briefly describe the characteristics of each.\n",
    "kmeans clustering ++- in this random points are drawn at some distance from each other then several\n",
    "groups are formed with each one of them and when new data point comes the one group which it is closest \n",
    "to will be formed with tahat class.\n",
    "Heirarchial\n",
    "DBSCAN- based on radius and minium points\n",
    "\n",
    "\n",
    "4. Explain how the k-means algorithm determines the consistency of clustering.\n",
    "kmeans clustering ++- in this random points are drawn at some distance from each other then several\n",
    "groups are formed with each one of them and when new data point comes the one group which it is closest \n",
    "to will be formed with tahat class.\n",
    "Within-Cluster-Sum of Squared Errors (WSS) for different values of k,\n",
    "and choose the k for which WSS becomes first starts to diminish. In the plot of WSS-versus-k, this is visible as an elbow\n",
    "\n",
    "5. With a simple illustration, explain the key difference between the k-means and k-medoids\n",
    "algorithms.\n",
    "K-means attempts to minimize the total squared error, while k-medoids minimizes the sum of dissimilarities between points."
   ]
  },
  {
   "cell_type": "code",
   "execution_count": null,
   "id": "fc5679ea",
   "metadata": {},
   "outputs": [],
   "source": []
  },
  {
   "cell_type": "code",
   "execution_count": null,
   "id": "21f64189",
   "metadata": {},
   "outputs": [],
   "source": [
    "6. What is a dendrogram, and how does it work? Explain how to do it.\n",
    "Heirarchial clustering it is used-:\n",
    "    In this\n",
    "    First K points aremarked as individual cluster\n",
    "    Then the clusters /points which are closest to they are mapped with each other\n",
    "    After that another two closest are mapped with each other \n",
    "    Then when all clusters are joined , no data point is left , a tree like structure is formed that is called Dendogram\n",
    "    After that a vertical line is drawn from the maximun width of vertical line, and then\n",
    "    how many vertical line it cut will determine how many clusters needed to form for that data.\n",
    "\n",
    "7. What exactly is SSE? What role does it play in the k-means algorithm?\n",
    "I am going to refer to it as SSE, which stands for Sum of Squared Errors. \n",
    "The regression line is the line made using the function we defined above. To get the\n",
    "SSE we calculate the distance for each of the data points from the regression line \n",
    "then square the it, then we add to the sum."
   ]
  },
  {
   "cell_type": "code",
   "execution_count": null,
   "id": "ac613a0a",
   "metadata": {},
   "outputs": [],
   "source": []
  },
  {
   "cell_type": "code",
   "execution_count": null,
   "id": "374d9811",
   "metadata": {},
   "outputs": [],
   "source": [
    "8. With a step-by-step algorithm, explain the k-means procedure.\n",
    "\n",
    "kmeans clustering ++- in this random points are drawn at some distance from each other then several\n",
    "groups are formed with each one of them and when new data point comes the one group which it is closest \n",
    "to will be formed with tahat class.\n",
    "Within-Cluster-Sum of Squared Errors (WSS) for different values of k,\n",
    "and choose the k for which WSS becomes first starts to diminish.\n",
    "In the plot of WSS-versus-k, this is visible as an elbow"
   ]
  },
  {
   "cell_type": "code",
   "execution_count": null,
   "id": "ab1ac5eb",
   "metadata": {},
   "outputs": [],
   "source": []
  },
  {
   "cell_type": "code",
   "execution_count": null,
   "id": "a36f3ea0",
   "metadata": {},
   "outputs": [],
   "source": [
    "9. In the sense of hierarchical clustering, define the terms single link and complete link ?\n",
    "Ans: In single-link (or single linkage) hierarchical \n",
    "    clustering, we merge in each step the two clusters \n",
    "    whose two closest members\n",
    "    have the smallest distance ."
   ]
  },
  {
   "cell_type": "code",
   "execution_count": null,
   "id": "bc6f747f",
   "metadata": {},
   "outputs": [],
   "source": []
  },
  {
   "cell_type": "code",
   "execution_count": null,
   "id": "b73bf490",
   "metadata": {},
   "outputs": [],
   "source": [
    "10. How does the apriori concept aid in the reduction of measurement overhead in\n",
    "a business basket analysis? Give an example to demonstrate your point ?\n",
    "Ans: Apriori algorithm assumes that any subset of a frequent itemset must be frequent.\n",
    "    Its the algorithm behind Market Basket Analysis. So, according to the principle of Apriori,\n",
    "    if {A,B,C} is frequent, then {A,C} \n",
    "    must also be frequent ."
   ]
  }
 ],
 "metadata": {
  "kernelspec": {
   "display_name": "Python 3 (ipykernel)",
   "language": "python",
   "name": "python3"
  },
  "language_info": {
   "codemirror_mode": {
    "name": "ipython",
    "version": 3
   },
   "file_extension": ".py",
   "mimetype": "text/x-python",
   "name": "python",
   "nbconvert_exporter": "python",
   "pygments_lexer": "ipython3",
   "version": "3.9.13"
  }
 },
 "nbformat": 4,
 "nbformat_minor": 5
}
