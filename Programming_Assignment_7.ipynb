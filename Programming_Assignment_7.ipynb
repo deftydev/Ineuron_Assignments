{
 "cells": [
  {
   "cell_type": "markdown",
   "id": "6e98c262",
   "metadata": {},
   "source": [
    "# 1. Write a Python Program to find sum of array?"
   ]
  },
  {
   "cell_type": "code",
   "execution_count": 1,
   "id": "0cbe0805",
   "metadata": {},
   "outputs": [
    {
     "name": "stdout",
     "output_type": "stream",
     "text": [
      "15\n"
     ]
    }
   ],
   "source": [
    "l=[1,2,3,4,5]\n",
    "summ=0\n",
    "for i in range(len(l)):\n",
    "    summ=summ+l[i]\n",
    "    \n",
    "print(summ)"
   ]
  },
  {
   "cell_type": "markdown",
   "id": "5f526624",
   "metadata": {},
   "source": [
    "# 2. Write a Python Program to find largest element in an array?"
   ]
  },
  {
   "cell_type": "code",
   "execution_count": 2,
   "id": "2540fdf2",
   "metadata": {},
   "outputs": [
    {
     "name": "stdout",
     "output_type": "stream",
     "text": [
      "98\n"
     ]
    }
   ],
   "source": [
    "l=[1,2,3,4,5,78,-2,4,98]\n",
    "\n",
    "maxx=float('-inf')\n",
    "\n",
    "for i in range(len(l)):\n",
    "    if(l[i]>maxx):\n",
    "        maxx=l[i]\n",
    "        \n",
    "print(maxx)"
   ]
  },
  {
   "cell_type": "markdown",
   "id": "3c802851",
   "metadata": {},
   "source": [
    "# 3. Write a Python Program for array rotation?"
   ]
  },
  {
   "cell_type": "code",
   "execution_count": 1,
   "id": "fceaf1e1",
   "metadata": {},
   "outputs": [
    {
     "name": "stdout",
     "output_type": "stream",
     "text": [
      "4 5 78 -2 4 98 1 2 3 "
     ]
    }
   ],
   "source": [
    "l=[1,2,3,4,5,78,-2,4,98]\n",
    "n=len(l)\n",
    "#let assume we have to left rotate an array by 3\n",
    "d=3\n",
    "\n",
    "def reverse(arr,start,end):\n",
    "    while(start<end):\n",
    "        temp=arr[start]\n",
    "        arr[start]=arr[end]\n",
    "        arr[end]=temp\n",
    "        start+=1\n",
    "        end-=1\n",
    "        \n",
    "def print_rotated(d,l,n):\n",
    "    \n",
    "    reverse(l,0,d-1)\n",
    "    reverse(l,d,n-1)\n",
    "    reverse(l,0,n-1)\n",
    "print_rotated(3,l,n)\n",
    "for i in l:\n",
    "    print(i, end=\" \")\n",
    "\n"
   ]
  },
  {
   "cell_type": "markdown",
   "id": "21213ac1",
   "metadata": {},
   "source": [
    "# 4. Write a Python Program to Split the array and add the first part to the end?"
   ]
  },
  {
   "cell_type": "code",
   "execution_count": 2,
   "id": "b49d8cfe",
   "metadata": {},
   "outputs": [
    {
     "name": "stdout",
     "output_type": "stream",
     "text": [
      "4 5 78 -2 4 98 1 2 3 "
     ]
    }
   ],
   "source": [
    "l=[1,2,3,4,5,78,-2,4,98]\n",
    "n=len(l)\n",
    "#let assume we have to split an array by 3\n",
    "d=3\n",
    "\n",
    "def reverse(arr,start,end):\n",
    "    while(start<end):\n",
    "        temp=arr[start]\n",
    "        arr[start]=arr[end]\n",
    "        arr[end]=temp\n",
    "        start+=1\n",
    "        end-=1\n",
    "        \n",
    "def print_rotated(d,l,n):\n",
    "    \n",
    "    reverse(l,0,d-1)\n",
    "    reverse(l,d,n-1)\n",
    "    reverse(l,0,n-1)\n",
    "print_rotated(3,l,n)\n",
    "for i in l:\n",
    "    print(i, end=\" \")\n"
   ]
  },
  {
   "cell_type": "markdown",
   "id": "dc7c562f",
   "metadata": {},
   "source": [
    "# 5. Write a Python Program to check if given array is Monotonic?"
   ]
  },
  {
   "cell_type": "code",
   "execution_count": 4,
   "id": "9cdc273e",
   "metadata": {},
   "outputs": [
    {
     "name": "stdout",
     "output_type": "stream",
     "text": [
      "Monotonic\n"
     ]
    }
   ],
   "source": [
    "l=[2,3,4,5,67]\n",
    "flag1=False\n",
    "flag2=False\n",
    "\n",
    "if(len(l)==1):\n",
    "    print('montonic')\n",
    "if(l[0]>l[1]):\n",
    "    flag1=True\n",
    "else:\n",
    "    flag2=True\n",
    "    \n",
    "if(flag1):\n",
    "    for i in range(len(l)-1):\n",
    "        if(l[i]>l[i+1]):\n",
    "            continue\n",
    "        else:\n",
    "            flag1=False\n",
    "            print('Not montonic')\n",
    "            break\n",
    "            \n",
    "if(flag2):\n",
    "    for i in range(len(l)-1):\n",
    "        if(l[i]<l[i+1]):\n",
    "            continue\n",
    "        else:\n",
    "            flag2=False\n",
    "            print('Not montonic')\n",
    "            break\n",
    "            \n",
    "if(flag1):\n",
    "    print('Monotonic')\n",
    "elif(flag2):\n",
    "    print('Monotonic')\n",
    "else:\n",
    "    print('Not monotonic')"
   ]
  },
  {
   "cell_type": "code",
   "execution_count": null,
   "id": "311f0398",
   "metadata": {},
   "outputs": [],
   "source": []
  }
 ],
 "metadata": {
  "kernelspec": {
   "display_name": "Python 3 (ipykernel)",
   "language": "python",
   "name": "python3"
  },
  "language_info": {
   "codemirror_mode": {
    "name": "ipython",
    "version": 3
   },
   "file_extension": ".py",
   "mimetype": "text/x-python",
   "name": "python",
   "nbconvert_exporter": "python",
   "pygments_lexer": "ipython3",
   "version": "3.9.13"
  }
 },
 "nbformat": 4,
 "nbformat_minor": 5
}
