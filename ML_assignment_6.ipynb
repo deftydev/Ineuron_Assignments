{
 "cells": [
  {
   "cell_type": "code",
   "execution_count": null,
   "id": "589baca0",
   "metadata": {},
   "outputs": [],
   "source": [
    "1. In the sense of machine learning, what is a model? What is the best way to train a model?\n",
    "The best way to train a model is to test it on unknown datasets, also to supply data with no missing / NANA values and with\n",
    "accurate number of features which are affecting the output.\n",
    "\n",
    "2. In the sense of machine learning, explain the &quot;No Free Lunch&quot; theorem.\n",
    "The No Free Lunch Theorem, often abbreviated as NFL or NFLT, is a theoretical finding that suggests\n",
    "all optimization algorithms perform equally well when their performance is averaged over all possible objective functions. \n",
    "\n",
    "\n",
    "3. Describe the K-fold cross-validation mechanism in detail.\n",
    "In K-fold cross validation, data D is subset into k subsets randomly.\n",
    "Let us assume S1...Sk are the subsets where Sk is the kth randomly split subset of data D. In the first iteration, \n",
    "D-S1 is used for training and S1 for testing the model. \n",
    "When the model has been trained and tested, evaluation can be done, \n",
    "score is noted elsewhere and the trained model is discarded.\n",
    "\n",
    "\n",
    "4. Describe the bootstrap sampling method. What is the aim of it?\n",
    "\n",
    "5. What is the significance of calculating the Kappa value for a classification model? Demonstrate\n",
    "how to measure the Kappa value of a classification model using a sample collection of results.\n",
    "\n",
    "kappa value is used to evaluate classification model , to test their accuracy .\n"
   ]
  },
  {
   "cell_type": "code",
   "execution_count": null,
   "id": "6e361ad4",
   "metadata": {},
   "outputs": [],
   "source": []
  },
  {
   "cell_type": "code",
   "execution_count": null,
   "id": "248b2a84",
   "metadata": {},
   "outputs": [],
   "source": [
    "6. Describe the model ensemble method. In machine learning, what part does it play?\n",
    "\n",
    "ensemble method means where we use several decision makers to predict the output value, like random forest , boosting , bagging\n",
    "\n",
    "7. What is a descriptive model&#39;s main purpose? Give examples of real-world problems that\n",
    "descriptive models were used to solve.\n",
    "\n",
    "It simply means to having new insights from the data , used in unsupervised learning.\n",
    "Customer segmentation is an example of it.\n",
    "\n",
    "8. Describe how to evaluate a linear regression model.\n",
    "To evelauate a linear regression model, you can use mean absolute error or means squared error or R2 score ."
   ]
  },
  {
   "cell_type": "code",
   "execution_count": null,
   "id": "7f94e357",
   "metadata": {},
   "outputs": [],
   "source": []
  },
  {
   "cell_type": "code",
   "execution_count": null,
   "id": "ff5bab48",
   "metadata": {},
   "outputs": [],
   "source": [
    "Descriptive vs. predictive models\n",
    "descriptive - \n",
    "It simply means to having new insights from the data , used in unsupervised learning.\n",
    "Customer segmentation is an example of it.\n",
    "predictive models-:\n",
    "    It means to predict the target output value which is a dependent variable.\n",
    "    \n",
    "    \n",
    "Underfitting vs. overfitting the model-:\n",
    "    underfitting- when model is unable to cover all data points/input supplied to it.\n",
    "    overfitting- when models tries to cover every data point , which can also be a outlier."
   ]
  }
 ],
 "metadata": {
  "kernelspec": {
   "display_name": "Python 3 (ipykernel)",
   "language": "python",
   "name": "python3"
  },
  "language_info": {
   "codemirror_mode": {
    "name": "ipython",
    "version": 3
   },
   "file_extension": ".py",
   "mimetype": "text/x-python",
   "name": "python",
   "nbconvert_exporter": "python",
   "pygments_lexer": "ipython3",
   "version": "3.9.13"
  }
 },
 "nbformat": 4,
 "nbformat_minor": 5
}
