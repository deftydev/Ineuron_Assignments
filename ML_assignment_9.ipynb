{
 "cells": [
  {
   "cell_type": "code",
   "execution_count": null,
   "id": "024f8e4f",
   "metadata": {},
   "outputs": [],
   "source": [
    "1. What is feature engineering, and how does it work? Explain the various aspects of feature\n",
    "engineering in depth.\n",
    "Feature engineering simple means to tune your features for the bset of predcitions , simplt meand to applu\n",
    "standard scaler for scaling the data or encoding them using Ordinal/ Label encoder \n",
    "\n",
    "2. What is feature selection, and how does it work? What is the aim of it? What are the various\n",
    "methods of function selection?\n",
    "feature selection can be done using Lasso/ridge regularization or by using domain knowledge \n",
    "also in linear regression most correlated features are not taken into account.\n",
    "\n",
    "3. Describe the function selection filter and wrapper approaches. State the pros and cons of each\n",
    "approach?\n",
    "\n",
    "There are three types of feature selection:\n",
    "\n",
    "Wrapper methods (forward, backward, and stepwise selection)\n",
    "Filter methods (ANOVA, Pearson correlation, variance thresholding)\n",
    "Embedded methods (Lasso, Ridge, Decision Tree).\n",
    "\n",
    "4.\n",
    "\n",
    "i. Describe the overall feature selection process.\n",
    "feature selection can be done using Lasso/ridge regularization or by using domain knowledge \n",
    "also in linear regression most correlated features are not taken into account.\n",
    "\n",
    "ii. Explain the key underlying principle of feature extraction using an example. What are the most\n",
    "widely used function extraction algorithms?\n",
    "when extracting numerical features from a image dataset.\n",
    "\n",
    "\n",
    "\n"
   ]
  },
  {
   "cell_type": "code",
   "execution_count": null,
   "id": "4b89ae36",
   "metadata": {},
   "outputs": [],
   "source": []
  },
  {
   "cell_type": "code",
   "execution_count": null,
   "id": "6ab871e4",
   "metadata": {},
   "outputs": [],
   "source": [
    "5. Describe the feature engineering process in the sense of a text categorization issue.\n",
    "\n",
    "6. What makes cosine similarity a good metric for text categorization? A document-term matrix has\n",
    "two rows with values of (2, 3, 2, 0, 2, 3, 3, 0, 1) and (2, 1, 0, 0, 3, 2, 1, 3, 1). Find the resemblance in\n",
    "cosine.\n",
    "ine similarity is a metric used to measure how similar the documents are irrespective of their size. \n",
    "The cosine similarity is advantageous because even if the two similar documents are \n",
    "far apart by the Euclidean distance (due to the size of the document), chances are they may still be oriented closer together.\n",
    "\n",
    "7.\n",
    "\n",
    "i. What is the formula for calculating Hamming distance? Between 10001011 and 11001111,\n",
    "calculate the Hamming gap.\n",
    "for simliar put zero otherwise 1\n",
    "= 0+1+0+0++0+1+0+0 = 2\n",
    "\n",
    "ii. Compare the Jaccard index and similarity matching coefficient of two features with values (1, 1, 0,\n",
    "0, 1, 0, 1, 1) and (1, 1, 0, 0, 0, 1, 1, 1), respectively (1, 0, 0, 1, 1, 0, 0, 1).\n",
    "\n",
    "8. State what is meant by &quot;high-dimensional data set&quot;? Could you offer a few real-life examples?\n",
    "What are the difficulties in using machine learning techniques on a data set with many dimensions?\n",
    "What can be done about it?"
   ]
  },
  {
   "cell_type": "code",
   "execution_count": null,
   "id": "2d2c57a1",
   "metadata": {},
   "outputs": [],
   "source": []
  },
  {
   "cell_type": "code",
   "execution_count": null,
   "id": "79df6f7d",
   "metadata": {},
   "outputs": [],
   "source": [
    " State what is meant by \"high-dimensional data set\"? Could you offer a few real-life examples? \n",
    "    What are the difficulties in using machine learning techniques \n",
    "    on a data set with many dimensions? What can be done about it?\n",
    "Ans: High dimension is when variable numbers p is higher than the sample sizes n i.e. p>n, \n",
    "    cases. High dimensional data is referred to a data of n samples with p features, where p is larger than n."
   ]
  },
  {
   "cell_type": "code",
   "execution_count": null,
   "id": "c8dcdec4",
   "metadata": {},
   "outputs": [],
   "source": []
  }
 ],
 "metadata": {
  "kernelspec": {
   "display_name": "Python 3 (ipykernel)",
   "language": "python",
   "name": "python3"
  },
  "language_info": {
   "codemirror_mode": {
    "name": "ipython",
    "version": 3
   },
   "file_extension": ".py",
   "mimetype": "text/x-python",
   "name": "python",
   "nbconvert_exporter": "python",
   "pygments_lexer": "ipython3",
   "version": "3.9.13"
  }
 },
 "nbformat": 4,
 "nbformat_minor": 5
}
