{
 "cells": [
  {
   "cell_type": "code",
   "execution_count": null,
   "id": "c7dbe21e",
   "metadata": {},
   "outputs": [],
   "source": [
    "Q1. Describe the differences between text and binary files in a single paragraph.\n",
    "\n",
    "textfiles contain datain human readable format in form of characters and data wil be of text ony but unlike in binary file data can be of any image , video , text and it contains bytes\n",
    "of characters may be 8 or sometimes 16 bytes of data to be passed into stream like object."
   ]
  },
  {
   "cell_type": "code",
   "execution_count": null,
   "id": "993be038",
   "metadata": {},
   "outputs": [],
   "source": []
  },
  {
   "cell_type": "code",
   "execution_count": null,
   "id": "10f67da5",
   "metadata": {},
   "outputs": [],
   "source": [
    "Q2. What are some scenarios where using text files will be the better option? When would you like to\n",
    "use binary files instead of text files?\n",
    "\n",
    "text files is a better option when you want to process data and output data to the human and also ifthey corrupted you can correct them easily otherwise for\n",
    "images, videos types of data binary files are used."
   ]
  },
  {
   "cell_type": "code",
   "execution_count": null,
   "id": "05a44f13",
   "metadata": {},
   "outputs": [],
   "source": [
    "Q3. What are some of the issues with using binary operations to read and write a Python integer\n",
    "directly to disc?\n",
    "\n",
    "Bnary filesdeal with raw data once need to identify how many read and write of bytes need to be done"
   ]
  },
  {
   "cell_type": "code",
   "execution_count": null,
   "id": "bd157f47",
   "metadata": {},
   "outputs": [],
   "source": [
    "Q4. Describe a benefit of using the with keyword instead of explicitly opening a file.\n",
    "\n",
    "Using with keywod you don't have to close file as with keyword do all this by itself."
   ]
  },
  {
   "cell_type": "code",
   "execution_count": null,
   "id": "cec961cc",
   "metadata": {},
   "outputs": [],
   "source": [
    "Q5. Does Python have the trailing newline while reading a line of text? Does Python append a\n",
    "newline when you write a line of text?\n",
    "\n",
    "Yes , python have a trailing new line while reading a line of text soyou have to write end=\" \" at the end to make it correct."
   ]
  },
  {
   "cell_type": "code",
   "execution_count": null,
   "id": "758f941b",
   "metadata": {},
   "outputs": [],
   "source": []
  },
  {
   "cell_type": "code",
   "execution_count": null,
   "id": "872956a7",
   "metadata": {},
   "outputs": [],
   "source": [
    "Q6. What file operations enable for random-access operation?\n",
    "\n",
    "seek() is used to the get the pointer back to first line of file "
   ]
  },
  {
   "cell_type": "code",
   "execution_count": null,
   "id": "3c79ce4f",
   "metadata": {},
   "outputs": [],
   "source": []
  },
  {
   "cell_type": "code",
   "execution_count": null,
   "id": "acbb5fec",
   "metadata": {},
   "outputs": [],
   "source": [
    "Q7. When do you think you use the struct package the most\n",
    "\n",
    "struct package is used to convert python data type into c language types"
   ]
  },
  {
   "cell_type": "code",
   "execution_count": null,
   "id": "e5ae58d9",
   "metadata": {},
   "outputs": [],
   "source": []
  },
  {
   "cell_type": "code",
   "execution_count": null,
   "id": "db0c721b",
   "metadata": {},
   "outputs": [],
   "source": [
    "Q8. When is pickling the best option?\n",
    "\n",
    "pickling is the bet option when you are dealing with binary data as with the help of character stream you can easily convert this data into\n",
    "another data."
   ]
  },
  {
   "cell_type": "code",
   "execution_count": null,
   "id": "7516847a",
   "metadata": {},
   "outputs": [],
   "source": []
  },
  {
   "cell_type": "code",
   "execution_count": null,
   "id": "2df3636f",
   "metadata": {},
   "outputs": [],
   "source": [
    "Q9. When will it be best to use the shelve package?\n",
    "\n",
    "shelve package is used to pickle data."
   ]
  },
  {
   "cell_type": "code",
   "execution_count": null,
   "id": "cab01d72",
   "metadata": {},
   "outputs": [],
   "source": []
  }
 ],
 "metadata": {
  "kernelspec": {
   "display_name": "Python 3 (ipykernel)",
   "language": "python",
   "name": "python3"
  },
  "language_info": {
   "codemirror_mode": {
    "name": "ipython",
    "version": 3
   },
   "file_extension": ".py",
   "mimetype": "text/x-python",
   "name": "python",
   "nbconvert_exporter": "python",
   "pygments_lexer": "ipython3",
   "version": "3.9.13"
  }
 },
 "nbformat": 4,
 "nbformat_minor": 5
}
